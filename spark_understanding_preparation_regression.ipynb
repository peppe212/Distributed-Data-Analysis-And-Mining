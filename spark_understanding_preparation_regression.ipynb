{
 "cells": [
  {
   "cell_type": "markdown",
   "id": "6bfff27d9cf98280",
   "metadata": {},
   "source": [
    "**Author:** [Giuseppe Muschetta](https://github.com/peppe212)\n",
    "**Python version:** 3.11\n",
    "\n",
    "## DATA UNDERSTANDING AND PREPARATION\n",
    "### also done Regression using a Linear Regressor and a DecisionTree Regressor"
   ]
  },
  {
   "cell_type": "code",
   "execution_count": 1,
   "id": "f02e2c638905935a",
   "metadata": {
    "ExecuteTime": {
     "end_time": "2023-12-02T18:21:35.635909Z",
     "start_time": "2023-12-02T18:21:35.507131Z"
    }
   },
   "outputs": [],
   "source": [
    "from pyspark.sql import SparkSession\n",
    "from pyspark.sql.functions import (\n",
    "    when, \n",
    "    count, \n",
    "    isnull, \n",
    "    lit, \n",
    "    col, \n",
    "    lower,\n",
    "    min,\n",
    "    max,\n",
    "    desc,\n",
    "    abs,\n",
    ")\n",
    "from pyspark.ml.feature import StandardScaler, VectorAssembler\n",
    "from pyspark.ml.regression import LinearRegression, DecisionTreeRegressor\n",
    "from pyspark.ml.stat import Correlation\n",
    "from pyspark.ml import Pipeline"
   ]
  },
  {
   "cell_type": "code",
   "execution_count": 2,
   "id": "64497104c089e730",
   "metadata": {
    "ExecuteTime": {
     "end_time": "2023-12-02T18:21:36.181426Z",
     "start_time": "2023-12-02T18:21:36.166659Z"
    }
   },
   "outputs": [],
   "source": [
    "import pandas as pd\n",
    "import matplotlib.pyplot as plt\n",
    "import seaborn as sns\n",
    "%matplotlib inline"
   ]
  },
  {
   "cell_type": "code",
   "execution_count": 3,
   "id": "543726f58c632daa",
   "metadata": {
    "ExecuteTime": {
     "end_time": "2023-12-02T18:21:37.141605Z",
     "start_time": "2023-12-02T18:21:37.134726Z"
    }
   },
   "outputs": [],
   "source": [
    "input_dataset_path = \"./dataset/earthquakes.csv\"\n",
    "images_path = \"./images/understanding/\"\n",
    "output_dataset_path = \"./dataset/earthquakes_prepared\" # estensione omessa appositamente"
   ]
  },
  {
   "cell_type": "code",
   "execution_count": 4,
   "id": "48b55e6ed1479c5e",
   "metadata": {
    "ExecuteTime": {
     "end_time": "2023-12-02T18:21:39.896317Z",
     "start_time": "2023-12-02T18:21:37.699869Z"
    }
   },
   "outputs": [
    {
     "name": "stderr",
     "output_type": "stream",
     "text": [
      "Setting default log level to \"WARN\".\n",
      "To adjust logging level use sc.setLogLevel(newLevel). For SparkR, use setLogLevel(newLevel).\n",
      "23/12/02 20:44:13 WARN NativeCodeLoader: Unable to load native-hadoop library for your platform... using builtin-java classes where applicable\n",
      "23/12/02 20:44:13 WARN Utils: Service 'SparkUI' could not bind on port 4040. Attempting port 4041.\n"
     ]
    },
    {
     "data": {
      "text/html": [
       "\n",
       "            <div>\n",
       "                <p><b>SparkSession - in-memory</b></p>\n",
       "                \n",
       "        <div>\n",
       "            <p><b>SparkContext</b></p>\n",
       "\n",
       "            <p><a href=\"http://mbpdigiuschetta.homenet.telecomitalia.it:4041\">Spark UI</a></p>\n",
       "\n",
       "            <dl>\n",
       "              <dt>Version</dt>\n",
       "                <dd><code>v3.5.0</code></dd>\n",
       "              <dt>Master</dt>\n",
       "                <dd><code>local[*]</code></dd>\n",
       "              <dt>AppName</dt>\n",
       "                <dd><code>Project</code></dd>\n",
       "            </dl>\n",
       "        </div>\n",
       "        \n",
       "            </div>\n",
       "        "
      ],
      "text/plain": [
       "<pyspark.sql.session.SparkSession at 0x139bd5c50>"
      ]
     },
     "execution_count": 4,
     "metadata": {},
     "output_type": "execute_result"
    }
   ],
   "source": [
    "# INIZIA LA SESSIONE SPARK\n",
    "spark = (SparkSession\n",
    "         .builder\n",
    "         .master('local[*]')\n",
    "         .appName(\"Project\")\n",
    "         #.config(\"spark.driver.memory\", \"4g\")\n",
    "         .getOrCreate())\n",
    "\n",
    "# sopprime i fastidiosissimi warning\n",
    "spark.sparkContext.setLogLevel(\"ERROR\")\n",
    "\n",
    "# visualizza la sessione spark attiva\n",
    "spark"
   ]
  },
  {
   "cell_type": "code",
   "execution_count": 5,
   "id": "fa0c58a91bd958a4",
   "metadata": {
    "ExecuteTime": {
     "end_time": "2023-12-02T18:21:45.407585Z",
     "start_time": "2023-12-02T18:21:39.897229Z"
    }
   },
   "outputs": [
    {
     "name": "stderr",
     "output_type": "stream",
     "text": [
      "                                                                                \r"
     ]
    }
   ],
   "source": [
    "df = spark.read.option(\"escape\",\"\\\"\").csv(input_dataset_path, header=True, inferSchema=True)\n",
    "# il dataset è possibile reperirlo al seguente link:\n",
    "# https://www.kaggle.com/datasets/danielpe/earthquakes\n",
    "# dati mondiali raccolti dal 1970 al 2019"
   ]
  },
  {
   "cell_type": "markdown",
   "id": "bfc28f4a36840a5b",
   "metadata": {},
   "source": [
    "## Data Understanding"
   ]
  },
  {
   "cell_type": "markdown",
   "id": "de60a6b98bab714",
   "metadata": {},
   "source": [
    "#### Info dataset columns"
   ]
  },
  {
   "cell_type": "markdown",
   "id": "3af8322fa0358a7f",
   "metadata": {},
   "source": [
    "**_c0**: Automatically generated index\n",
    "\n",
    "**textbf**: Usually the date and time when the earthquake occurred. \n",
    "This can be in various formats, such as UTC (Coordinated Universal Time).\n",
    "\n",
    "**latitude**: The geographical latitude where the earthquake occurred. \n",
    "It's a measure in degrees, where values can range from -90 (the South Pole) to +90 (the North Pole).\n",
    "\n",
    "**longitude**: The geographical longitude where the earthquake occurred. It is measured in degrees, with values \n",
    "ranging from -180 to +180, indicating the position east or west of the Prime Meridian.\n",
    "\n",
    "**depth**: The depth at which the earthquake originated below the earth's surface, \n",
    "typically measured in kilometers. Shallower earthquakes often cause more damage.\n",
    "\n",
    "**mag**: A number that characterizes the relative size or energy release of an earthquake. \n",
    "There are various scales, like the Richter scale or moment magnitude scale (Mw), \n",
    "with higher numbers indicating stronger earthquakes.\n",
    "\n",
    "**magType**: Indicates the method or scale used to calculate the magnitude of the earthquake \n",
    "(e.g., Mw for moment magnitude, ML for local magnitude, etc.).\n",
    "\n",
    "**nst**: This stands for \"Number of Stations Used.\" It refers to the number of seismic stations that \n",
    "were used to record the earthquake. A higher number usually indicates that the earthquake's \n",
    "location and magnitude have been recorded with more accuracy.\n",
    "\n",
    "**gap**: This term typically refers to the \"Azimuthal Gap\", which is the largest angle between two adjacent \n",
    "stations as seen from the earthquake's epicenter. It is measured in degrees. \n",
    "A smaller gap generally indicates a better-sampled earthquake, \n",
    "leading to more accurate determination of the earthquake's location and depth.   \n",
    "\n",
    "**dmin**: This is the shortest horizontal distance from the epicenter to the nearest station, usually measured in degrees. \n",
    "In some cases, it can be measured in kilometers. A smaller DMIN value may indicate higher \n",
    "accuracy in the earthquake's recorded data, as the seismic waves have less distance \n",
    "to travel and are less likely to be altered.\n",
    "\n",
    "**rms**: This stands for \"Root Mean Square.\" In the context of earthquakes, \n",
    "it usually refers to the root-mean-square of the time residuals of the arrivals of seismic waves at \n",
    "different stations. Essentially, it's a measure of the accuracy of the timing of the seismic waves \n",
    "at different stations. A lower RMS value indicates a better fit to the seismic data and, hence, a more \n",
    "accurately determined earthquake location.\n",
    "\n",
    "**net**: This generally stands for \"Network\" and identifies the seismic network that provided the \n",
    "data or the network code. Different networks can have varying equipment and standards for measuring earthquakes, \n",
    "so this code can be useful for understanding the potential variability in the data.\n",
    "\n",
    "**id**: A unique identifier for each earthquake event, often assigned by the reporting agency.\n",
    "\n",
    "**updated**: This usually refers to the timestamp of the last update made to the record. \n",
    "Earthquake data can be revised as new information becomes available, so this field helps track the most recent data.\n",
    "\n",
    "**place**: A textual description of the location where the earthquake occurred. \n",
    "This is often a more user-friendly location name, such as a nearby city or geographical feature.\n",
    "\n",
    "**type**: This field typically indicates the type of seismic event. While most events are earthquakes, \n",
    "this field can also contain values like 'quarry blast', 'explosion', or 'sonic boom' among others.\n",
    "\n",
    "**horizontalError**: This refers to the uncertainty or error in the reported location of the earthquake’s epicenter, measured horizontally. \n",
    "It's usually given in kilometers. A smaller horizontal error indicates more precise location determination.\n",
    "\n",
    "**depthError**: Similar to horizontal error, this is the uncertainty or error in the depth measurement of the earthquake, \n",
    "also typically measured in kilometers. A smaller depth error suggests more accurate depth determination. \n",
    "\n",
    "**magError**: This is the error associated with the magnitude measurement of the earthquake. \n",
    "A smaller magnitude error indicates higher confidence in the reported magnitude.\n",
    "\n",
    "**magNst**: Stands for \"Magnitude Number of Stations.\" It refers to the number of seismic stations used to calculate \n",
    "the earthquake’s magnitude. Like NST, a higher number here usually suggests a more accurately determined magnitude.\n",
    "\n",
    "**status**: This field often indicates the review status of the earthquake record. Common values include 'automatic' \n",
    "for initially computer-generated records and 'reviewed' for records that have been manually examined and   \n",
    "validated by a seismologist.\n",
    "\n",
    "**locationSource**: Identifies the organization, network, or data source that provided the location information of the earthquake. \n",
    "Different sources may use various methods or criteria for determining earthquake locations.\n",
    "\n",
    "**magSource**: Similar to a location source, this indicates the source\n"
   ]
  },
  {
   "cell_type": "code",
   "execution_count": 6,
   "id": "eea5f10690223604",
   "metadata": {
    "ExecuteTime": {
     "end_time": "2023-12-02T18:12:19.388938Z",
     "start_time": "2023-12-02T18:12:19.177781Z"
    }
   },
   "outputs": [
    {
     "name": "stdout",
     "output_type": "stream",
     "text": [
      "+------+--------------------+------------------+-------------------+-----+----+-------+----+-----+-------------------+----+------+------------+--------------------+--------------------+------------+-------------------+----------+-------------------+------+---------+--------------+---------+\n",
      "|   _c0|                time|          latitude|          longitude|depth| mag|magType| nst|  gap|               dmin| rms|   net|          id|             updated|               place|        type|    horizontalError|depthError|           magError|magNst|   status|locationSource|magSource|\n",
      "+------+--------------------+------------------+-------------------+-----+----+-------+----+-----+-------------------+----+------+------------+--------------------+--------------------+------------+-------------------+----------+-------------------+------+---------+--------------+---------+\n",
      "|988481| 1970-01-01 01:00:00|37.003501899999996|       -117.9968338|  0.0| 0.0|     mh| 0.0| NULL|               NULL|NULL|    ci|  ci37038459|2016-04-02 22:22:...|29km NE of Indepe...|  sonic boom|               NULL|      NULL|               NULL|   0.0| reviewed|            ci|       ci|\n",
      "|988480| 1970-01-01 01:00:00|35.642787899999995|       -120.9336014|  5.0|1.99|     mh| 2.0| NULL|               NULL|NULL|    ci|  ci11092098|2016-01-29 02:43:...|11km SSW of Lake ...|  earthquake|               NULL|      NULL|               NULL|   0.0| reviewed|            ci|       ci|\n",
      "|988478| 1970-01-01 01:00:00|        34.1645203|-118.18503570000001|  0.0| 0.0|     mh|NULL| NULL|               NULL|NULL|    ci|  ci15086796|2016-04-02 19:20:...|4km S of La Canad...|  earthquake|               NULL|      NULL|               NULL|   0.0| reviewed|            ci|       ci|\n",
      "|988477| 1970-01-01 01:00:00|        33.8364944|-116.78186799999999|  0.0| 0.0|     mh|NULL| NULL|               NULL|NULL|    ci|  ci14891508|2016-04-02 16:10:...|9km S of Cabazon, CA|  sonic boom|               NULL|      NULL|               NULL|   0.0| reviewed|            ci|       ci|\n",
      "|988476| 1970-01-01 01:00:00|         33.208477|-115.47699740000002|  5.0| 0.0|     mh|NULL| NULL|               NULL|NULL|    ci|  ci10925125|2016-04-02 06:32:...|5km SE of Niland, CA|  sonic boom|               NULL|      NULL|               NULL|   0.0| reviewed|            ci|       ci|\n",
      "|988475| 1970-01-01 01:00:00|         32.663559|-116.10502620000001|  0.0| 0.0|     mh| 0.0| NULL|               NULL|NULL|    ci|  ci15099228|2016-04-02 16:10:...|13km SW of Ocotil...|  sonic boom|               NULL|      NULL|               NULL|   0.0| reviewed|            ci|       ci|\n",
      "|988479| 1970-01-01 01:00:00|        35.3544502|-115.48489380000001|  0.0| 0.5|     mh| 0.0| NULL|               NULL|NULL|    ci|  ci10169902|2016-01-29 02:19:...|30km SSW of Primm...|quarry blast|               NULL|      NULL|               NULL|   0.0| reviewed|            ci|       ci|\n",
      "|988474|1970-01-01 07:16:...|           46.2765|            -118.36|-0.26| 2.3|     md| 6.0|303.0|               0.52|0.14|    uw|  uw10836008|2016-07-25 01:40:...|          Washington|  earthquake|               0.41|      0.24|               0.12|   0.0| reviewed|            uw|       uw|\n",
      "|988473|1970-01-01 07:44:...|        46.3328333|-118.39116670000001|-0.26| 2.6|     md| 6.0|299.0|             0.4814|0.15|    uw|  uw10836013|2016-07-25 01:40:...|          Washington|  earthquake|0.14400000000000002|      0.09|               0.21|   0.0| reviewed|            uw|       uw|\n",
      "|988472|1970-01-01 16:13:...|        32.7071667|           -115.417|  6.0|2.75|     mh| 4.0|214.0|             0.6036|0.58|    ci|   ci3324951|2016-01-29 02:29:...|8km NE of Mexical...|  earthquake|                4.6|     31.61|              0.084|   6.0| reviewed|            ci|       ci|\n",
      "|988471| 1970-01-01 18:11:00|             -29.4|           -177.169| 35.0| 5.6|     mw|NULL| NULL|               NULL|NULL|iscgem|iscgem799588| 2015-05-13 20:53:03|Kermadec Islands,...|  earthquake|               NULL|      NULL|               NULL|  NULL|automatic|        iscgem|   iscgem|\n",
      "|988470|1970-01-01 20:49:...|        37.4333333|          -118.7435|  6.0|3.69|     ml|10.0|211.0|               NULL|0.58|    ci|   ci3324952|2016-01-29 02:33:...|27km WNW of West ...|  earthquake|               3.24|     31.61|0.22399999999999998|   7.0| reviewed|            ci|       ci|\n",
      "|988469|1970-01-02 09:58:...|           46.7495|          -119.3715|1.869| 1.5|     md| 6.0| 93.0|             0.1063|0.15|    uw|  uw10836018|2016-07-25 01:40:...|          Washington|  earthquake|              0.578|      1.91|               0.12|   0.0| reviewed|            uw|       uw|\n",
      "|988468|1970-01-02 11:45:...|34.205999999999996|-119.69566670000002|  6.0|3.14|     ml|11.0|205.0|             0.2347|0.59|    ci|   ci3324955|2016-01-29 02:38:...|24km S of Santa B...|  earthquake|               2.45|     31.61|              0.157|  10.0| reviewed|            ci|       ci|\n",
      "|988467|1970-01-02 22:47:...|        35.7351667|-117.73366670000001| 1.65|2.61|     ml| 6.0| 96.0|             0.1368|0.73|    ci|   ci3324957|2016-01-29 02:43:...|12km NE of Inyoke...|  earthquake|               2.69|      6.53|              0.152|   3.0| reviewed|            ci|       ci|\n",
      "|988466|1970-01-03 20:48:...|           33.9605|          -116.8305|  6.0|3.16|     ml| 9.0|103.0|0.45399999999999996|0.53|    ci|   ci3324959|2016-01-29 02:43:...|6km NE of Banning...|  earthquake|               1.67|     31.61|               0.13|   5.0| reviewed|            ci|       ci|\n",
      "|988465|1970-01-04 03:27:...|           34.3335|-116.84333329999998|  6.0|2.74|     ml| 9.0|120.0|             0.5565|0.56|    ci|   ci3324960|2016-01-29 02:13:...|8km N of Big Bear...|  earthquake|               1.12|     31.61|              0.064|   5.0| reviewed|            ci|       ci|\n",
      "|988464| 1970-01-04 18:00:41|            24.185| 102.54299999999999| 11.3| 7.1|     mw|NULL| NULL|               NULL|NULL|iscgem|iscgem799712|2017-04-26 19:23:...|       Yunnan, China|  earthquake|               NULL|      NULL|               NULL|  NULL|automatic|        iscgem|   iscgem|\n",
      "|988463| 1970-01-05 12:49:10|            23.984| 102.73200000000001| 15.0| 5.9|     mw|NULL| NULL|               NULL|NULL|iscgem|iscgem799745|2017-04-26 19:23:...|       Yunnan, China|  earthquake|               NULL|      NULL|               NULL|  NULL|automatic|        iscgem|   iscgem|\n",
      "|988462|1970-01-05 13:04:...|        33.2428333|           -115.986|  6.0|3.04|     ml| 4.0|156.0|             0.7425|0.32|    ci|   ci3324834|2016-01-29 02:24:...|7km SSW of Salton...|  earthquake|               1.31|     31.61|               0.21|   4.0| reviewed|            ci|       ci|\n",
      "+------+--------------------+------------------+-------------------+-----+----+-------+----+-----+-------------------+----+------+------------+--------------------+--------------------+------------+-------------------+----------+-------------------+------+---------+--------------+---------+\n"
     ]
    }
   ],
   "source": [
    "df.show()"
   ]
  },
  {
   "cell_type": "markdown",
   "id": "65f5cebf5e1a4491",
   "metadata": {},
   "source": [
    "### Statistics"
   ]
  },
  {
   "cell_type": "code",
   "execution_count": 7,
   "id": "efe179b3f98798c2",
   "metadata": {
    "ExecuteTime": {
     "end_time": "2023-12-02T18:12:19.872385Z",
     "start_time": "2023-12-02T18:12:19.389267Z"
    }
   },
   "outputs": [
    {
     "name": "stdout",
     "output_type": "stream",
     "text": [
      "Dataframe has 23 features and 3272774 data points\n"
     ]
    },
    {
     "name": "stderr",
     "output_type": "stream",
     "text": [
      "\r",
      "[Stage 3:>                                                          (0 + 8) / 8]\r",
      "\r",
      "                                                                                \r"
     ]
    }
   ],
   "source": [
    "rows = df.count()\n",
    "cols = len(df.columns)\n",
    "print(f'Dataframe has {cols} features and {rows} data points')"
   ]
  },
  {
   "cell_type": "code",
   "execution_count": 8,
   "id": "e0c1fff81647fd87",
   "metadata": {
    "ExecuteTime": {
     "end_time": "2023-12-02T18:12:19.881015Z",
     "start_time": "2023-12-02T18:12:19.872649Z"
    }
   },
   "outputs": [
    {
     "name": "stdout",
     "output_type": "stream",
     "text": [
      "root\n",
      " |-- _c0: integer (nullable = true)\n",
      " |-- time: timestamp (nullable = true)\n",
      " |-- latitude: double (nullable = true)\n",
      " |-- longitude: double (nullable = true)\n",
      " |-- depth: double (nullable = true)\n",
      " |-- mag: double (nullable = true)\n",
      " |-- magType: string (nullable = true)\n",
      " |-- nst: double (nullable = true)\n",
      " |-- gap: double (nullable = true)\n",
      " |-- dmin: double (nullable = true)\n",
      " |-- rms: double (nullable = true)\n",
      " |-- net: string (nullable = true)\n",
      " |-- id: string (nullable = true)\n",
      " |-- updated: timestamp (nullable = true)\n",
      " |-- place: string (nullable = true)\n",
      " |-- type: string (nullable = true)\n",
      " |-- horizontalError: double (nullable = true)\n",
      " |-- depthError: double (nullable = true)\n",
      " |-- magError: double (nullable = true)\n",
      " |-- magNst: double (nullable = true)\n",
      " |-- status: string (nullable = true)\n",
      " |-- locationSource: string (nullable = true)\n",
      " |-- magSource: string (nullable = true)\n"
     ]
    }
   ],
   "source": [
    "df.printSchema()"
   ]
  },
  {
   "cell_type": "code",
   "execution_count": 9,
   "id": "68c8da6aff75540b",
   "metadata": {
    "ExecuteTime": {
     "end_time": "2023-12-02T18:12:19.881225Z",
     "start_time": "2023-12-02T18:12:19.877316Z"
    }
   },
   "outputs": [
    {
     "data": {
      "text/plain": [
       "[('_c0', 'int'),\n",
       " ('time', 'timestamp'),\n",
       " ('latitude', 'double'),\n",
       " ('longitude', 'double'),\n",
       " ('depth', 'double'),\n",
       " ('mag', 'double'),\n",
       " ('magType', 'string'),\n",
       " ('nst', 'double'),\n",
       " ('gap', 'double'),\n",
       " ('dmin', 'double'),\n",
       " ('rms', 'double'),\n",
       " ('net', 'string'),\n",
       " ('id', 'string'),\n",
       " ('updated', 'timestamp'),\n",
       " ('place', 'string'),\n",
       " ('type', 'string'),\n",
       " ('horizontalError', 'double'),\n",
       " ('depthError', 'double'),\n",
       " ('magError', 'double'),\n",
       " ('magNst', 'double'),\n",
       " ('status', 'string'),\n",
       " ('locationSource', 'string'),\n",
       " ('magSource', 'string')]"
      ]
     },
     "execution_count": 9,
     "metadata": {},
     "output_type": "execute_result"
    }
   ],
   "source": [
    "df.dtypes"
   ]
  },
  {
   "cell_type": "code",
   "execution_count": 10,
   "id": "4f7ee499f996a881",
   "metadata": {
    "ExecuteTime": {
     "end_time": "2023-12-02T18:12:19.887126Z",
     "start_time": "2023-12-02T18:12:19.880370Z"
    }
   },
   "outputs": [
    {
     "name": "stdout",
     "output_type": "stream",
     "text": [
      "Numeric columns are:\n",
      "['_c0', 'time', 'latitude', 'longitude', 'depth', 'mag', 'nst', 'gap', 'dmin', 'rms', 'updated', 'horizontalError', 'depthError', 'magError', 'magNst']\n"
     ]
    }
   ],
   "source": [
    "numeric_columns = [item[0] for item in df.dtypes if item[1] != 'string']\n",
    "print('Numeric columns are:')\n",
    "print(numeric_columns)"
   ]
  },
  {
   "cell_type": "code",
   "execution_count": 11,
   "id": "b88d486d32f57d05",
   "metadata": {
    "ExecuteTime": {
     "end_time": "2023-12-02T18:12:19.887274Z",
     "start_time": "2023-12-02T18:12:19.883586Z"
    }
   },
   "outputs": [
    {
     "name": "stdout",
     "output_type": "stream",
     "text": [
      "Non numeric columns are:\n",
      "['magType', 'net', 'id', 'place', 'type', 'status', 'locationSource', 'magSource']\n"
     ]
    }
   ],
   "source": [
    "non_numeric_columns = [item[0] for item in df.dtypes if item[1] == 'string']\n",
    "print('Non numeric columns are:')\n",
    "print(non_numeric_columns)"
   ]
  },
  {
   "cell_type": "code",
   "execution_count": 12,
   "id": "5061547ffb6de5ea",
   "metadata": {
    "ExecuteTime": {
     "end_time": "2023-12-02T18:12:23.590426Z",
     "start_time": "2023-12-02T18:12:19.886351Z"
    }
   },
   "outputs": [
    {
     "name": "stderr",
     "output_type": "stream",
     "text": [
      "                                                                                \r"
     ]
    },
    {
     "data": {
      "text/html": [
       "<div>\n",
       "<style scoped>\n",
       "    .dataframe tbody tr th:only-of-type {\n",
       "        vertical-align: middle;\n",
       "    }\n",
       "\n",
       "    .dataframe tbody tr th {\n",
       "        vertical-align: top;\n",
       "    }\n",
       "\n",
       "    .dataframe thead th {\n",
       "        text-align: right;\n",
       "    }\n",
       "</style>\n",
       "<table border=\"1\" class=\"dataframe\">\n",
       "  <thead>\n",
       "    <tr style=\"text-align: right;\">\n",
       "      <th></th>\n",
       "      <th>0</th>\n",
       "      <th>1</th>\n",
       "      <th>2</th>\n",
       "      <th>3</th>\n",
       "      <th>4</th>\n",
       "    </tr>\n",
       "  </thead>\n",
       "  <tbody>\n",
       "    <tr>\n",
       "      <th>summary</th>\n",
       "      <td>count</td>\n",
       "      <td>mean</td>\n",
       "      <td>stddev</td>\n",
       "      <td>min</td>\n",
       "      <td>max</td>\n",
       "    </tr>\n",
       "    <tr>\n",
       "      <th>_c0</th>\n",
       "      <td>3272774</td>\n",
       "      <td>1636386.5</td>\n",
       "      <td>944768.6192859624</td>\n",
       "      <td>0</td>\n",
       "      <td>3272773</td>\n",
       "    </tr>\n",
       "    <tr>\n",
       "      <th>latitude</th>\n",
       "      <td>3272774</td>\n",
       "      <td>35.72073813006102</td>\n",
       "      <td>20.256723352896664</td>\n",
       "      <td>-84.42200000000001</td>\n",
       "      <td>87.265</td>\n",
       "    </tr>\n",
       "    <tr>\n",
       "      <th>longitude</th>\n",
       "      <td>3272774</td>\n",
       "      <td>-92.85667107546652</td>\n",
       "      <td>80.55325536580003</td>\n",
       "      <td>-179.99900000000002</td>\n",
       "      <td>180.0</td>\n",
       "    </tr>\n",
       "    <tr>\n",
       "      <th>depth</th>\n",
       "      <td>3272765</td>\n",
       "      <td>22.33494593067259</td>\n",
       "      <td>56.320328480030646</td>\n",
       "      <td>-10.0</td>\n",
       "      <td>735.8</td>\n",
       "    </tr>\n",
       "    <tr>\n",
       "      <th>mag</th>\n",
       "      <td>3116325</td>\n",
       "      <td>1.8789408871025994</td>\n",
       "      <td>1.352506451484851</td>\n",
       "      <td>-9.99</td>\n",
       "      <td>9.1</td>\n",
       "    </tr>\n",
       "    <tr>\n",
       "      <th>nst</th>\n",
       "      <td>2391208</td>\n",
       "      <td>15.601496398473072</td>\n",
       "      <td>26.606865923211643</td>\n",
       "      <td>0.0</td>\n",
       "      <td>934.0</td>\n",
       "    </tr>\n",
       "    <tr>\n",
       "      <th>gap</th>\n",
       "      <td>2434225</td>\n",
       "      <td>130.48760760816452</td>\n",
       "      <td>69.7106210720007</td>\n",
       "      <td>0.0</td>\n",
       "      <td>360.0</td>\n",
       "    </tr>\n",
       "    <tr>\n",
       "      <th>dmin</th>\n",
       "      <td>1926032</td>\n",
       "      <td>0.2559989956432623</td>\n",
       "      <td>1.3334591865583232</td>\n",
       "      <td>0.0</td>\n",
       "      <td>141.16</td>\n",
       "    </tr>\n",
       "    <tr>\n",
       "      <th>rms</th>\n",
       "      <td>3061121</td>\n",
       "      <td>0.31520523928970584</td>\n",
       "      <td>0.39990094551009536</td>\n",
       "      <td>-1.0</td>\n",
       "      <td>104.33</td>\n",
       "    </tr>\n",
       "    <tr>\n",
       "      <th>horizontalError</th>\n",
       "      <td>1740811</td>\n",
       "      <td>1.266841139388479</td>\n",
       "      <td>3.1682820453796254</td>\n",
       "      <td>0.0</td>\n",
       "      <td>280.6</td>\n",
       "    </tr>\n",
       "    <tr>\n",
       "      <th>depthError</th>\n",
       "      <td>2666089</td>\n",
       "      <td>5.6403198089048265</td>\n",
       "      <td>1167.8011805083868</td>\n",
       "      <td>-1.0</td>\n",
       "      <td>1773552.5</td>\n",
       "    </tr>\n",
       "    <tr>\n",
       "      <th>magError</th>\n",
       "      <td>1491762</td>\n",
       "      <td>0.1668926840587202</td>\n",
       "      <td>0.14742929752601247</td>\n",
       "      <td>0.0</td>\n",
       "      <td>6.11</td>\n",
       "    </tr>\n",
       "    <tr>\n",
       "      <th>magNst</th>\n",
       "      <td>2283857</td>\n",
       "      <td>12.607386101669238</td>\n",
       "      <td>21.127238657909317</td>\n",
       "      <td>0.0</td>\n",
       "      <td>941.0</td>\n",
       "    </tr>\n",
       "  </tbody>\n",
       "</table>\n",
       "</div>"
      ],
      "text/plain": [
       "                       0                    1                    2  \\\n",
       "summary            count                 mean               stddev   \n",
       "_c0              3272774            1636386.5    944768.6192859624   \n",
       "latitude         3272774    35.72073813006102   20.256723352896664   \n",
       "longitude        3272774   -92.85667107546652    80.55325536580003   \n",
       "depth            3272765    22.33494593067259   56.320328480030646   \n",
       "mag              3116325   1.8789408871025994    1.352506451484851   \n",
       "nst              2391208   15.601496398473072   26.606865923211643   \n",
       "gap              2434225   130.48760760816452     69.7106210720007   \n",
       "dmin             1926032   0.2559989956432623   1.3334591865583232   \n",
       "rms              3061121  0.31520523928970584  0.39990094551009536   \n",
       "horizontalError  1740811    1.266841139388479   3.1682820453796254   \n",
       "depthError       2666089   5.6403198089048265   1167.8011805083868   \n",
       "magError         1491762   0.1668926840587202  0.14742929752601247   \n",
       "magNst           2283857   12.607386101669238   21.127238657909317   \n",
       "\n",
       "                                   3          4  \n",
       "summary                          min        max  \n",
       "_c0                                0    3272773  \n",
       "latitude          -84.42200000000001     87.265  \n",
       "longitude        -179.99900000000002      180.0  \n",
       "depth                          -10.0      735.8  \n",
       "mag                            -9.99        9.1  \n",
       "nst                              0.0      934.0  \n",
       "gap                              0.0      360.0  \n",
       "dmin                             0.0     141.16  \n",
       "rms                             -1.0     104.33  \n",
       "horizontalError                  0.0      280.6  \n",
       "depthError                      -1.0  1773552.5  \n",
       "magError                         0.0       6.11  \n",
       "magNst                           0.0      941.0  "
      ]
     },
     "execution_count": 12,
     "metadata": {},
     "output_type": "execute_result"
    }
   ],
   "source": [
    "# Statistiche colonne numeriche:\n",
    "summary = df.select(numeric_columns).describe().toPandas().T\n",
    "summary"
   ]
  },
  {
   "cell_type": "code",
   "execution_count": 13,
   "id": "94eade136e2cae44",
   "metadata": {
    "ExecuteTime": {
     "end_time": "2023-12-02T18:12:26.264198Z",
     "start_time": "2023-12-02T18:12:23.590522Z"
    }
   },
   "outputs": [
    {
     "name": "stderr",
     "output_type": "stream",
     "text": [
      "[Stage 12:>                                                         (0 + 8) / 8]\r"
     ]
    },
    {
     "name": "stdout",
     "output_type": "stream",
     "text": [
      "We have data in a range FROM 1970-01-01 01:00:00 TO 2019-03-29 22:47:56.920000\n"
     ]
    },
    {
     "name": "stderr",
     "output_type": "stream",
     "text": [
      "\r",
      "[Stage 12:=======>                                                  (1 + 7) / 8]\r",
      "\r",
      "                                                                                \r"
     ]
    }
   ],
   "source": [
    "# I dati appartengono all'intervallo [from, to]:\n",
    "print(f'We have data in a range FROM '\n",
    "      f'{df.select(min(\"time\")).collect()[0][0]} '\n",
    "      f'TO {df.select(max(\"time\")).collect()[0][0]}')\n",
    "\n",
    "# We have data in a range FROM 1970-01-01 01:00:00 TO 2019-03-29 22:47:56.920000"
   ]
  },
  {
   "cell_type": "code",
   "execution_count": 14,
   "id": "61b38052643db09",
   "metadata": {
    "ExecuteTime": {
     "end_time": "2023-12-02T18:12:39.082110Z",
     "start_time": "2023-12-02T18:12:26.260345Z"
    }
   },
   "outputs": [
    {
     "name": "stderr",
     "output_type": "stream",
     "text": [
      "                                                                                \r"
     ]
    },
    {
     "data": {
      "text/html": [
       "<div>\n",
       "<style scoped>\n",
       "    .dataframe tbody tr th:only-of-type {\n",
       "        vertical-align: middle;\n",
       "    }\n",
       "\n",
       "    .dataframe tbody tr th {\n",
       "        vertical-align: top;\n",
       "    }\n",
       "\n",
       "    .dataframe thead th {\n",
       "        text-align: right;\n",
       "    }\n",
       "</style>\n",
       "<table border=\"1\" class=\"dataframe\">\n",
       "  <thead>\n",
       "    <tr style=\"text-align: right;\">\n",
       "      <th></th>\n",
       "      <th>Feature</th>\n",
       "      <th>Valore Unico</th>\n",
       "    </tr>\n",
       "  </thead>\n",
       "  <tbody>\n",
       "    <tr>\n",
       "      <th>0</th>\n",
       "      <td>magType</td>\n",
       "      <td>31</td>\n",
       "    </tr>\n",
       "    <tr>\n",
       "      <th>1</th>\n",
       "      <td>net</td>\n",
       "      <td>20</td>\n",
       "    </tr>\n",
       "    <tr>\n",
       "      <th>2</th>\n",
       "      <td>id</td>\n",
       "      <td>3256955</td>\n",
       "    </tr>\n",
       "    <tr>\n",
       "      <th>3</th>\n",
       "      <td>place</td>\n",
       "      <td>205437</td>\n",
       "    </tr>\n",
       "    <tr>\n",
       "      <th>4</th>\n",
       "      <td>type</td>\n",
       "      <td>25</td>\n",
       "    </tr>\n",
       "    <tr>\n",
       "      <th>5</th>\n",
       "      <td>status</td>\n",
       "      <td>4</td>\n",
       "    </tr>\n",
       "    <tr>\n",
       "      <th>6</th>\n",
       "      <td>locationSource</td>\n",
       "      <td>199</td>\n",
       "    </tr>\n",
       "    <tr>\n",
       "      <th>7</th>\n",
       "      <td>magSource</td>\n",
       "      <td>333</td>\n",
       "    </tr>\n",
       "  </tbody>\n",
       "</table>\n",
       "</div>"
      ],
      "text/plain": [
       "          Feature  Valore Unico\n",
       "0         magType            31\n",
       "1             net            20\n",
       "2              id       3256955\n",
       "3           place        205437\n",
       "4            type            25\n",
       "5          status             4\n",
       "6  locationSource           199\n",
       "7       magSource           333"
      ]
     },
     "execution_count": 14,
     "metadata": {},
     "output_type": "execute_result"
    }
   ],
   "source": [
    "# le colonne non numeriche contengono i seguenti valori unici:\n",
    "unique_values = dict()\n",
    "for c in non_numeric_columns:\n",
    "    unique_values[c] = len(df.select(c).distinct().collect())\n",
    "\n",
    "# converto il dizionario in un dataframe pandas per migliore lettura in output:\n",
    "distinct_values = pd.DataFrame(list(unique_values.items()), columns=['Feature', 'Valore Unico'])\n",
    "\n",
    "# Visualizzo il dataframe\n",
    "distinct_values"
   ]
  },
  {
   "cell_type": "code",
   "execution_count": 15,
   "id": "c43bf068a028c1d3",
   "metadata": {
    "ExecuteTime": {
     "end_time": "2023-12-02T18:12:42.663195Z",
     "start_time": "2023-12-02T18:12:39.080668Z"
    }
   },
   "outputs": [
    {
     "name": "stderr",
     "output_type": "stream",
     "text": [
      "                                                                                \r"
     ]
    },
    {
     "name": "stdout",
     "output_type": "stream",
     "text": [
      "+-------+-------+\n",
      "|magType|  count|\n",
      "+-------+-------+\n",
      "|     md|1137605|\n",
      "|     ml|1092572|\n",
      "|     mb| 376129|\n",
      "|     mc| 248196|\n",
      "|   NULL| 167407|\n",
      "|     mh| 113933|\n",
      "|     Ml|  21334|\n",
      "|    mdl|  20303|\n",
      "|    mwc|  20081|\n",
      "|     Md|  17242|\n",
      "|     mw|  12187|\n",
      "|   mblg|  11782|\n",
      "|      m|   8506|\n",
      "|    mwr|   5994|\n",
      "|     ms|   4654|\n",
      "|    mww|   4432|\n",
      "|     ma|   3733|\n",
      "|    mwb|   3106|\n",
      "|  mb_lg|   1838|\n",
      "|    mlg|   1422|\n",
      "+-------+-------+\n"
     ]
    },
    {
     "name": "stderr",
     "output_type": "stream",
     "text": [
      "                                                                                \r"
     ]
    },
    {
     "name": "stdout",
     "output_type": "stream",
     "text": [
      "+--------------------+-------+\n",
      "|                type|  count|\n",
      "+--------------------+-------+\n",
      "|          earthquake|3184269|\n",
      "|        quarry blast|  60898|\n",
      "|           explosion|  20133|\n",
      "|           ice quake|   3951|\n",
      "|    mining explosion|   1240|\n",
      "|   nuclear explosion|    738|\n",
      "|         other event|    517|\n",
      "|  chemical explosion|    392|\n",
      "|          sonic boom|    351|\n",
      "|          rock burst|    180|\n",
      "|       mine collapse|     33|\n",
      "|              quarry|     17|\n",
      "|           landslide|     15|\n",
      "|   volcanic eruption|     15|\n",
      "|   building collapse|      5|\n",
      "|experimental expl...|      5|\n",
      "|           rockslide|      3|\n",
      "|        not reported|      3|\n",
      "|           sonicboom|      2|\n",
      "|      acoustic noise|      2|\n",
      "+--------------------+-------+\n"
     ]
    },
    {
     "name": "stderr",
     "output_type": "stream",
     "text": [
      "                                                                                \r"
     ]
    },
    {
     "name": "stdout",
     "output_type": "stream",
     "text": [
      "+----------+------+\n",
      "|       net| count|\n",
      "+----------+------+\n",
      "|        nc|893352|\n",
      "|        us|742356|\n",
      "|        ci|687371|\n",
      "|        ak|468147|\n",
      "|        nn|188158|\n",
      "|        uw|117553|\n",
      "|        uu| 97105|\n",
      "|        hv| 24196|\n",
      "|        pr| 19491|\n",
      "|        mb| 11176|\n",
      "|        nm| 10987|\n",
      "|        av|  5467|\n",
      "|ismpkansas|  3473|\n",
      "|        se|  1672|\n",
      "|    iscgem|  1063|\n",
      "|        ld|   987|\n",
      "|      gcmt|   157|\n",
      "| iscgemsup|    54|\n",
      "|  official|     8|\n",
      "|        at|     1|\n",
      "+----------+------+\n",
      "\n",
      "+---------+-------+\n",
      "|   status|  count|\n",
      "+---------+-------+\n",
      "| reviewed|3133150|\n",
      "|automatic| 139611|\n",
      "|   manual|     12|\n",
      "|     NULL|      1|\n",
      "+---------+-------+\n"
     ]
    },
    {
     "name": "stderr",
     "output_type": "stream",
     "text": [
      "\r",
      "[Stage 48:>                                                         (0 + 8) / 8]\r",
      "\r",
      "                                                                                \r"
     ]
    }
   ],
   "source": [
    "# QUALI SONO E QUANTI I VALORI DELLE VARIABILI CATEGORICHE DI MAGGIOR INTERESSE:\n",
    "# Approfondiamo i valori unici e il loro relativo conteggio per le variabili categoriche piu' importanti\n",
    "unique_values_and_count = ['magType', 'type', 'net', 'status']\n",
    "for column in unique_values_and_count:\n",
    "    count_column = df.groupBy(column).count()\n",
    "    count_column = count_column.orderBy(col(\"count\").desc())\n",
    "    count_column.show()"
   ]
  },
  {
   "cell_type": "markdown",
   "id": "ec7334bed2bef088",
   "metadata": {},
   "source": [
    "#### Missing values"
   ]
  },
  {
   "cell_type": "code",
   "execution_count": 16,
   "id": "ac13b28e5ce105e5",
   "metadata": {
    "ExecuteTime": {
     "end_time": "2023-12-02T18:12:51.212872Z",
     "start_time": "2023-12-02T18:12:42.661504Z"
    }
   },
   "outputs": [
    {
     "name": "stderr",
     "output_type": "stream",
     "text": [
      "                                                                                \r"
     ]
    },
    {
     "data": {
      "text/html": [
       "<div>\n",
       "<style scoped>\n",
       "    .dataframe tbody tr th:only-of-type {\n",
       "        vertical-align: middle;\n",
       "    }\n",
       "\n",
       "    .dataframe tbody tr th {\n",
       "        vertical-align: top;\n",
       "    }\n",
       "\n",
       "    .dataframe thead th {\n",
       "        text-align: right;\n",
       "    }\n",
       "</style>\n",
       "<table border=\"1\" class=\"dataframe\">\n",
       "  <thead>\n",
       "    <tr style=\"text-align: right;\">\n",
       "      <th></th>\n",
       "      <th>Feature</th>\n",
       "      <th>Total Nulls</th>\n",
       "      <th>Percentage Nulls</th>\n",
       "    </tr>\n",
       "  </thead>\n",
       "  <tbody>\n",
       "    <tr>\n",
       "      <th>18</th>\n",
       "      <td>magError</td>\n",
       "      <td>1781012</td>\n",
       "      <td>54.419034</td>\n",
       "    </tr>\n",
       "    <tr>\n",
       "      <th>16</th>\n",
       "      <td>horizontalError</td>\n",
       "      <td>1531963</td>\n",
       "      <td>46.809312</td>\n",
       "    </tr>\n",
       "    <tr>\n",
       "      <th>9</th>\n",
       "      <td>dmin</td>\n",
       "      <td>1346742</td>\n",
       "      <td>41.149862</td>\n",
       "    </tr>\n",
       "    <tr>\n",
       "      <th>19</th>\n",
       "      <td>magNst</td>\n",
       "      <td>988917</td>\n",
       "      <td>30.216477</td>\n",
       "    </tr>\n",
       "    <tr>\n",
       "      <th>7</th>\n",
       "      <td>nst</td>\n",
       "      <td>881566</td>\n",
       "      <td>26.936354</td>\n",
       "    </tr>\n",
       "    <tr>\n",
       "      <th>8</th>\n",
       "      <td>gap</td>\n",
       "      <td>838549</td>\n",
       "      <td>25.621965</td>\n",
       "    </tr>\n",
       "    <tr>\n",
       "      <th>17</th>\n",
       "      <td>depthError</td>\n",
       "      <td>606685</td>\n",
       "      <td>18.537333</td>\n",
       "    </tr>\n",
       "    <tr>\n",
       "      <th>10</th>\n",
       "      <td>rms</td>\n",
       "      <td>211653</td>\n",
       "      <td>6.467083</td>\n",
       "    </tr>\n",
       "    <tr>\n",
       "      <th>6</th>\n",
       "      <td>magType</td>\n",
       "      <td>167407</td>\n",
       "      <td>5.115141</td>\n",
       "    </tr>\n",
       "    <tr>\n",
       "      <th>5</th>\n",
       "      <td>mag</td>\n",
       "      <td>156449</td>\n",
       "      <td>4.780318</td>\n",
       "    </tr>\n",
       "    <tr>\n",
       "      <th>14</th>\n",
       "      <td>place</td>\n",
       "      <td>11</td>\n",
       "      <td>0.000336</td>\n",
       "    </tr>\n",
       "    <tr>\n",
       "      <th>4</th>\n",
       "      <td>depth</td>\n",
       "      <td>9</td>\n",
       "      <td>0.000275</td>\n",
       "    </tr>\n",
       "    <tr>\n",
       "      <th>20</th>\n",
       "      <td>status</td>\n",
       "      <td>1</td>\n",
       "      <td>0.000031</td>\n",
       "    </tr>\n",
       "    <tr>\n",
       "      <th>0</th>\n",
       "      <td>_c0</td>\n",
       "      <td>0</td>\n",
       "      <td>0.000000</td>\n",
       "    </tr>\n",
       "    <tr>\n",
       "      <th>21</th>\n",
       "      <td>locationSource</td>\n",
       "      <td>0</td>\n",
       "      <td>0.000000</td>\n",
       "    </tr>\n",
       "    <tr>\n",
       "      <th>11</th>\n",
       "      <td>net</td>\n",
       "      <td>0</td>\n",
       "      <td>0.000000</td>\n",
       "    </tr>\n",
       "    <tr>\n",
       "      <th>15</th>\n",
       "      <td>type</td>\n",
       "      <td>0</td>\n",
       "      <td>0.000000</td>\n",
       "    </tr>\n",
       "    <tr>\n",
       "      <th>13</th>\n",
       "      <td>updated</td>\n",
       "      <td>0</td>\n",
       "      <td>0.000000</td>\n",
       "    </tr>\n",
       "    <tr>\n",
       "      <th>12</th>\n",
       "      <td>id</td>\n",
       "      <td>0</td>\n",
       "      <td>0.000000</td>\n",
       "    </tr>\n",
       "    <tr>\n",
       "      <th>1</th>\n",
       "      <td>time</td>\n",
       "      <td>0</td>\n",
       "      <td>0.000000</td>\n",
       "    </tr>\n",
       "    <tr>\n",
       "      <th>3</th>\n",
       "      <td>longitude</td>\n",
       "      <td>0</td>\n",
       "      <td>0.000000</td>\n",
       "    </tr>\n",
       "    <tr>\n",
       "      <th>2</th>\n",
       "      <td>latitude</td>\n",
       "      <td>0</td>\n",
       "      <td>0.000000</td>\n",
       "    </tr>\n",
       "    <tr>\n",
       "      <th>22</th>\n",
       "      <td>magSource</td>\n",
       "      <td>0</td>\n",
       "      <td>0.000000</td>\n",
       "    </tr>\n",
       "  </tbody>\n",
       "</table>\n",
       "</div>"
      ],
      "text/plain": [
       "            Feature  Total Nulls  Percentage Nulls\n",
       "18         magError      1781012         54.419034\n",
       "16  horizontalError      1531963         46.809312\n",
       "9              dmin      1346742         41.149862\n",
       "19           magNst       988917         30.216477\n",
       "7               nst       881566         26.936354\n",
       "8               gap       838549         25.621965\n",
       "17       depthError       606685         18.537333\n",
       "10              rms       211653          6.467083\n",
       "6           magType       167407          5.115141\n",
       "5               mag       156449          4.780318\n",
       "14            place           11          0.000336\n",
       "4             depth            9          0.000275\n",
       "20           status            1          0.000031\n",
       "0               _c0            0          0.000000\n",
       "21   locationSource            0          0.000000\n",
       "11              net            0          0.000000\n",
       "15             type            0          0.000000\n",
       "13          updated            0          0.000000\n",
       "12               id            0          0.000000\n",
       "1              time            0          0.000000\n",
       "3         longitude            0          0.000000\n",
       "2          latitude            0          0.000000\n",
       "22        magSource            0          0.000000"
      ]
     },
     "execution_count": 16,
     "metadata": {},
     "output_type": "execute_result"
    }
   ],
   "source": [
    "# CALCOLIAMO TUTTI I VALORI MANCANTI E PLOTTIAMOLI IN UN DF IN ORDINE DECRESCENTE\n",
    "\n",
    "# Calcolo i valori mancanti per ogni colonna\n",
    "missing_values_df = df.select([count(when(isnull(c), c)).alias(c) for c in df.columns])\n",
    "\n",
    "# Calcolo la percentuale di valori nulli corrispondenti\n",
    "percents_df = df.select(\n",
    "    [(count(when(isnull(c), c)) / lit(df.count()) * 100).alias(c)\n",
    "     for c in df.columns])\n",
    "\n",
    "# Raccolgo i risultati in liste Python\n",
    "missing_values = missing_values_df.collect()[0].asDict()\n",
    "percents = percents_df.collect()[0].asDict()\n",
    "\n",
    "# Creo un dizionario che associa il numero di valori nulli con la loro percentuale\n",
    "missing_values_to_percents = {col: (missing_values[col], percents[col]) for col in missing_values}\n",
    "\n",
    "# Trasformo il dizionario in una lista di tuple\n",
    "data_for_df = [(col, *vals) for col, vals in missing_values_to_percents.items()]\n",
    "\n",
    "# Creo un dataframe Pandas dai dati\n",
    "df_as_dict = pd.DataFrame(data_for_df, columns=['Feature', 'Total Nulls', 'Percentage Nulls'])\n",
    "\n",
    "# Visualizzo il dataframe che onestamente è piu' bellino da vedere\n",
    "df_as_dict.sort_values(ascending=False, by='Percentage Nulls')"
   ]
  },
  {
   "cell_type": "markdown",
   "id": "71892895d0adedf6",
   "metadata": {},
   "source": [
    "#### Trasformazioni di variabili per plottare istogrammi e visualizzare correlazioni"
   ]
  },
  {
   "cell_type": "code",
   "execution_count": 17,
   "id": "ac251a46cbeb3343",
   "metadata": {
    "ExecuteTime": {
     "end_time": "2023-12-02T18:22:25.886276Z",
     "start_time": "2023-12-02T18:22:02.610542Z"
    }
   },
   "outputs": [
    {
     "name": "stderr",
     "output_type": "stream",
     "text": [
      "                                                                                \r"
     ]
    }
   ],
   "source": [
    "# Standardizzo le colonne d'interesse prima di plottarle\n",
    "# la standardizzazione colloca tutte le variabili sulla stessa scala, \n",
    "# ma la forma della distribuzione resta invariata\n",
    "columns_to_standardize = ['depth', 'mag', 'nst', 'gap', 'dmin', 'rms', 'magNst']\n",
    "\n",
    "# prima di convertire un dataframe spark in uno pandas è buona pratica creare un sample:\n",
    "# percentuale di campionamento\n",
    "percentage_to_sample = 0.20\n",
    "\n",
    "# rimuovo tutte le righe con valori null e poi creo un campione\n",
    "df_no_nan = df.dropna(subset=columns_to_standardize)\n",
    "df_sample = df_no_nan.sample(False, percentage_to_sample)\n",
    "\n",
    "# creo gli assembler e scaler per ciascuna colonna\n",
    "stages = []\n",
    "for col in columns_to_standardize:\n",
    "    assembler = VectorAssembler(inputCols=[col], outputCol=col + \"_vec\")\n",
    "    scaler = StandardScaler(inputCol=col + \"_vec\", outputCol=col + \"_standardized\")\n",
    "    stages += [assembler, scaler]\n",
    "\n",
    "# creo e faccio partire la pipeline\n",
    "pipeline = Pipeline(stages=stages)\n",
    "model = pipeline.fit(df_sample)\n",
    "df_transformed = model.transform(df_sample)\n",
    "\n",
    "# Seleziono le colonne standardizzate e le converto in un dataframe Pandas per la visualizzazione con Seaborn\n",
    "scaled_columns = [col + \"_standardized\" for col in columns_to_standardize]\n",
    "pandas_df = df_transformed.select(*scaled_columns).toPandas()"
   ]
  },
  {
   "cell_type": "code",
   "execution_count": 18,
   "id": "8bd9fe2d5244378d",
   "metadata": {
    "ExecuteTime": {
     "end_time": "2023-12-02T18:22:25.896076Z",
     "start_time": "2023-12-02T18:22:25.882904Z"
    }
   },
   "outputs": [
    {
     "data": {
      "text/html": [
       "<div>\n",
       "<style scoped>\n",
       "    .dataframe tbody tr th:only-of-type {\n",
       "        vertical-align: middle;\n",
       "    }\n",
       "\n",
       "    .dataframe tbody tr th {\n",
       "        vertical-align: top;\n",
       "    }\n",
       "\n",
       "    .dataframe thead th {\n",
       "        text-align: right;\n",
       "    }\n",
       "</style>\n",
       "<table border=\"1\" class=\"dataframe\">\n",
       "  <thead>\n",
       "    <tr style=\"text-align: right;\">\n",
       "      <th></th>\n",
       "      <th>depth_standardized</th>\n",
       "      <th>mag_standardized</th>\n",
       "      <th>nst_standardized</th>\n",
       "      <th>gap_standardized</th>\n",
       "      <th>dmin_standardized</th>\n",
       "      <th>rms_standardized</th>\n",
       "      <th>magNst_standardized</th>\n",
       "    </tr>\n",
       "  </thead>\n",
       "  <tbody>\n",
       "    <tr>\n",
       "      <th>0</th>\n",
       "      <td>[0.7264402993907293]</td>\n",
       "      <td>[4.277557128242513]</td>\n",
       "      <td>[0.8318762865445036]</td>\n",
       "      <td>[2.9878154950746962]</td>\n",
       "      <td>[0.5980975185967005]</td>\n",
       "      <td>[3.148638596789477]</td>\n",
       "      <td>[0.6243701548840367]</td>\n",
       "    </tr>\n",
       "    <tr>\n",
       "      <th>1</th>\n",
       "      <td>[0.7264402993907293]</td>\n",
       "      <td>[4.3048027150466055]</td>\n",
       "      <td>[0.6806260526273211]</td>\n",
       "      <td>[1.5011951024033838]</td>\n",
       "      <td>[1.1569504620490072]</td>\n",
       "      <td>[2.8284380615227507]</td>\n",
       "      <td>[0.31218507744201834]</td>\n",
       "    </tr>\n",
       "    <tr>\n",
       "      <th>2</th>\n",
       "      <td>[0.7264402993907293]</td>\n",
       "      <td>[4.509144616077299]</td>\n",
       "      <td>[0.2268753508757737]</td>\n",
       "      <td>[4.343263500157363]</td>\n",
       "      <td>[3.3255954911320584]</td>\n",
       "      <td>[5.390042343656562]</td>\n",
       "      <td>[0.49949612390722936]</td>\n",
       "    </tr>\n",
       "    <tr>\n",
       "      <th>3</th>\n",
       "      <td>[0.7264402993907293]</td>\n",
       "      <td>[3.0515057220583537]</td>\n",
       "      <td>[0.5293758187101387]</td>\n",
       "      <td>[1.2971491661543801]</td>\n",
       "      <td>[0.4472352557039665]</td>\n",
       "      <td>[2.348137258622661]</td>\n",
       "      <td>[0.6868071703724403]</td>\n",
       "    </tr>\n",
       "    <tr>\n",
       "      <th>4</th>\n",
       "      <td>[0.625949391308345]</td>\n",
       "      <td>[3.1741108626767693]</td>\n",
       "      <td>[0.5293758187101387]</td>\n",
       "      <td>[1.3262985856185237]</td>\n",
       "      <td>[0.4082455154631079]</td>\n",
       "      <td>[1.867836455722571]</td>\n",
       "      <td>[0.6868071703724403]</td>\n",
       "    </tr>\n",
       "  </tbody>\n",
       "</table>\n",
       "</div>"
      ],
      "text/plain": [
       "     depth_standardized      mag_standardized      nst_standardized  \\\n",
       "0  [0.7264402993907293]   [4.277557128242513]  [0.8318762865445036]   \n",
       "1  [0.7264402993907293]  [4.3048027150466055]  [0.6806260526273211]   \n",
       "2  [0.7264402993907293]   [4.509144616077299]  [0.2268753508757737]   \n",
       "3  [0.7264402993907293]  [3.0515057220583537]  [0.5293758187101387]   \n",
       "4   [0.625949391308345]  [3.1741108626767693]  [0.5293758187101387]   \n",
       "\n",
       "       gap_standardized     dmin_standardized      rms_standardized  \\\n",
       "0  [2.9878154950746962]  [0.5980975185967005]   [3.148638596789477]   \n",
       "1  [1.5011951024033838]  [1.1569504620490072]  [2.8284380615227507]   \n",
       "2   [4.343263500157363]  [3.3255954911320584]   [5.390042343656562]   \n",
       "3  [1.2971491661543801]  [0.4472352557039665]   [2.348137258622661]   \n",
       "4  [1.3262985856185237]  [0.4082455154631079]   [1.867836455722571]   \n",
       "\n",
       "     magNst_standardized  \n",
       "0   [0.6243701548840367]  \n",
       "1  [0.31218507744201834]  \n",
       "2  [0.49949612390722936]  \n",
       "3   [0.6868071703724403]  \n",
       "4   [0.6868071703724403]  "
      ]
     },
     "execution_count": 18,
     "metadata": {},
     "output_type": "execute_result"
    }
   ],
   "source": [
    "pandas_df.head()"
   ]
  },
  {
   "cell_type": "code",
   "execution_count": 19,
   "id": "99335f9175755532",
   "metadata": {
    "ExecuteTime": {
     "end_time": "2023-12-02T18:22:27.291841Z",
     "start_time": "2023-12-02T18:22:25.893665Z"
    }
   },
   "outputs": [],
   "source": [
    "# importante serve per ricostruire le colonne a partire da colonne i cui valori sono array da 1 elemento solo\n",
    "for column_ in scaled_columns:\n",
    "    pandas_df[column_] = pandas_df[column_].apply(lambda x: x[0])"
   ]
  },
  {
   "cell_type": "code",
   "execution_count": 20,
   "id": "9209ca5629f93281",
   "metadata": {
    "ExecuteTime": {
     "end_time": "2023-12-02T18:22:27.300288Z",
     "start_time": "2023-12-02T18:22:27.294929Z"
    }
   },
   "outputs": [
    {
     "data": {
      "text/html": [
       "<div>\n",
       "<style scoped>\n",
       "    .dataframe tbody tr th:only-of-type {\n",
       "        vertical-align: middle;\n",
       "    }\n",
       "\n",
       "    .dataframe tbody tr th {\n",
       "        vertical-align: top;\n",
       "    }\n",
       "\n",
       "    .dataframe thead th {\n",
       "        text-align: right;\n",
       "    }\n",
       "</style>\n",
       "<table border=\"1\" class=\"dataframe\">\n",
       "  <thead>\n",
       "    <tr style=\"text-align: right;\">\n",
       "      <th></th>\n",
       "      <th>depth_standardized</th>\n",
       "      <th>mag_standardized</th>\n",
       "      <th>nst_standardized</th>\n",
       "      <th>gap_standardized</th>\n",
       "      <th>dmin_standardized</th>\n",
       "      <th>rms_standardized</th>\n",
       "      <th>magNst_standardized</th>\n",
       "    </tr>\n",
       "  </thead>\n",
       "  <tbody>\n",
       "    <tr>\n",
       "      <th>0</th>\n",
       "      <td>0.726440</td>\n",
       "      <td>4.277557</td>\n",
       "      <td>0.831876</td>\n",
       "      <td>2.987815</td>\n",
       "      <td>0.598098</td>\n",
       "      <td>3.148639</td>\n",
       "      <td>0.624370</td>\n",
       "    </tr>\n",
       "    <tr>\n",
       "      <th>1</th>\n",
       "      <td>0.726440</td>\n",
       "      <td>4.304803</td>\n",
       "      <td>0.680626</td>\n",
       "      <td>1.501195</td>\n",
       "      <td>1.156950</td>\n",
       "      <td>2.828438</td>\n",
       "      <td>0.312185</td>\n",
       "    </tr>\n",
       "    <tr>\n",
       "      <th>2</th>\n",
       "      <td>0.726440</td>\n",
       "      <td>4.509145</td>\n",
       "      <td>0.226875</td>\n",
       "      <td>4.343264</td>\n",
       "      <td>3.325595</td>\n",
       "      <td>5.390042</td>\n",
       "      <td>0.499496</td>\n",
       "    </tr>\n",
       "    <tr>\n",
       "      <th>3</th>\n",
       "      <td>0.726440</td>\n",
       "      <td>3.051506</td>\n",
       "      <td>0.529376</td>\n",
       "      <td>1.297149</td>\n",
       "      <td>0.447235</td>\n",
       "      <td>2.348137</td>\n",
       "      <td>0.686807</td>\n",
       "    </tr>\n",
       "    <tr>\n",
       "      <th>4</th>\n",
       "      <td>0.625949</td>\n",
       "      <td>3.174111</td>\n",
       "      <td>0.529376</td>\n",
       "      <td>1.326299</td>\n",
       "      <td>0.408246</td>\n",
       "      <td>1.867836</td>\n",
       "      <td>0.686807</td>\n",
       "    </tr>\n",
       "  </tbody>\n",
       "</table>\n",
       "</div>"
      ],
      "text/plain": [
       "   depth_standardized  mag_standardized  nst_standardized  gap_standardized  \\\n",
       "0            0.726440          4.277557          0.831876          2.987815   \n",
       "1            0.726440          4.304803          0.680626          1.501195   \n",
       "2            0.726440          4.509145          0.226875          4.343264   \n",
       "3            0.726440          3.051506          0.529376          1.297149   \n",
       "4            0.625949          3.174111          0.529376          1.326299   \n",
       "\n",
       "   dmin_standardized  rms_standardized  magNst_standardized  \n",
       "0           0.598098          3.148639             0.624370  \n",
       "1           1.156950          2.828438             0.312185  \n",
       "2           3.325595          5.390042             0.499496  \n",
       "3           0.447235          2.348137             0.686807  \n",
       "4           0.408246          1.867836             0.686807  "
      ]
     },
     "execution_count": 20,
     "metadata": {},
     "output_type": "execute_result"
    }
   ],
   "source": [
    "pandas_df.head()"
   ]
  },
  {
   "cell_type": "markdown",
   "id": "dbf28780dd80866c",
   "metadata": {},
   "source": [
    "### Distribuzioni di variabili continue e Correlazioni"
   ]
  },
  {
   "cell_type": "code",
   "execution_count": 21,
   "id": "9f69882aa8cca821",
   "metadata": {
    "ExecuteTime": {
     "end_time": "2023-12-02T18:32:34.783231Z",
     "start_time": "2023-12-02T18:31:55.384993Z"
    }
   },
   "outputs": [
    {
     "data": {
      "image/png": "[encoded data removed]",
      "text/plain": [
       "<Figure size 640x480 with 1 Axes>"
      ]
     },
     "metadata": {},
     "output_type": "display_data"
    },
    {
     "data": {
      "image/png": "[encoded data removed]",
      "text/plain": [
       "<Figure size 640x480 with 1 Axes>"
      ]
     },
     "metadata": {},
     "output_type": "display_data"
    },
    {
     "data": {
      "image/png": "[encoded data removed]",
      "text/plain": [
       "<Figure size 640x480 with 1 Axes>"
      ]
     },
     "metadata": {},
     "output_type": "display_data"
    },
    {
     "data": {
      "image/png": "[encoded data removed]",
      "text/plain": [
       "<Figure size 640x480 with 1 Axes>"
      ]
     },
     "metadata": {},
     "output_type": "display_data"
    },
    {
     "data": {
      "image/png": "[encoded data removed]",
      "text/plain": [
       "<Figure size 640x480 with 1 Axes>"
      ]
     },
     "metadata": {},
     "output_type": "display_data"
    },
    {
     "data": {
      "image/png": "[encoded data removed]",
      "text/plain": [
       "<Figure size 640x480 with 1 Axes>"
      ]
     },
     "metadata": {},
     "output_type": "display_data"
    },
    {
     "data": {
      "image/png": "[encoded data removed]",
      "text/plain": [
       "<Figure size 640x480 with 1 Axes>"
      ]
     },
     "metadata": {},
     "output_type": "display_data"
    }
   ],
   "source": [
    "# Visualizzazione con Matplotlib e Seaborn\n",
    "for column in pandas_df:\n",
    "    \n",
    "    # Imposto i limiti sull'asse x in base alle variabili e distinguo due casi.\n",
    "    if column == 'magNst_standardized' or column == 'dmin_standardized' or column == 'rms_standardized':\n",
    "        min_val = pandas_df[column].min()\n",
    "        max_val = 3 # pandas_df[column].max()\n",
    "        # Creo l'istogramma con KDE\n",
    "        sns.histplot(data=pandas_df, x=column, kde=False)\n",
    "    else:\n",
    "        min_val = pandas_df[column].min()\n",
    "        max_val = 10 # pandas_df[column].max()\n",
    "        sns.histplot(data=pandas_df, x=column, kde=True)\n",
    "\n",
    "    # Imposto i limiti dell'asse x specifici per la colonna\n",
    "    plt.xlim(min_val, max_val)\n",
    "\n",
    "    plt.title(\"Distribuzione di \" + column)\n",
    "    plt.ylabel(\"Frequenza\")\n",
    "    plt.xlabel(column)\n",
    "\n",
    "    # Salvo l'immagine sul path predefinito\n",
    "    plt.savefig(images_path + column + '.png')\n",
    "    \n",
    "    plt.show()"
   ]
  },
  {
   "cell_type": "markdown",
   "id": "531b3226806be5c1",
   "metadata": {},
   "source": [
    "### Correlazioni tra le variabili numeriche"
   ]
  },
  {
   "cell_type": "code",
   "execution_count": 22,
   "id": "8a76bdf45e33a9e0",
   "metadata": {
    "ExecuteTime": {
     "end_time": "2023-12-02T19:42:54.651670Z",
     "start_time": "2023-12-02T19:42:50.533411Z"
    }
   },
   "outputs": [
    {
     "name": "stderr",
     "output_type": "stream",
     "text": [
      "[Stage 152:>                                                        (0 + 8) / 8]\r"
     ]
    },
    {
     "name": "stdout",
     "output_type": "stream",
     "text": [
      "Dimensioni della matrice di correlazione: (12, 12)\n"
     ]
    },
    {
     "name": "stderr",
     "output_type": "stream",
     "text": [
      "\r",
      "[Stage 152:=======>                                                 (1 + 7) / 8]\r",
      "\r",
      "                                                                                \r"
     ]
    },
    {
     "data": {
      "text/html": [
       "<div>\n",
       "<style scoped>\n",
       "    .dataframe tbody tr th:only-of-type {\n",
       "        vertical-align: middle;\n",
       "    }\n",
       "\n",
       "    .dataframe tbody tr th {\n",
       "        vertical-align: top;\n",
       "    }\n",
       "\n",
       "    .dataframe thead th {\n",
       "        text-align: right;\n",
       "    }\n",
       "</style>\n",
       "<table border=\"1\" class=\"dataframe\">\n",
       "  <thead>\n",
       "    <tr style=\"text-align: right;\">\n",
       "      <th></th>\n",
       "      <th>latitude</th>\n",
       "      <th>longitude</th>\n",
       "      <th>depth</th>\n",
       "      <th>mag</th>\n",
       "      <th>nst</th>\n",
       "      <th>gap</th>\n",
       "      <th>dmin</th>\n",
       "      <th>rms</th>\n",
       "      <th>horizontalError</th>\n",
       "      <th>depthError</th>\n",
       "      <th>magError</th>\n",
       "      <th>magNst</th>\n",
       "    </tr>\n",
       "  </thead>\n",
       "  <tbody>\n",
       "    <tr>\n",
       "      <th>latitude</th>\n",
       "      <td>1.000000</td>\n",
       "      <td>-0.258416</td>\n",
       "      <td>-0.304609</td>\n",
       "      <td>-0.257408</td>\n",
       "      <td>-0.165925</td>\n",
       "      <td>-0.045803</td>\n",
       "      <td>-0.080244</td>\n",
       "      <td>-0.080240</td>\n",
       "      <td>-0.040037</td>\n",
       "      <td>-0.060953</td>\n",
       "      <td>-0.118730</td>\n",
       "      <td>-0.159552</td>\n",
       "    </tr>\n",
       "    <tr>\n",
       "      <th>longitude</th>\n",
       "      <td>-0.258416</td>\n",
       "      <td>1.000000</td>\n",
       "      <td>0.371392</td>\n",
       "      <td>0.167499</td>\n",
       "      <td>-0.061885</td>\n",
       "      <td>0.180558</td>\n",
       "      <td>0.157409</td>\n",
       "      <td>0.081720</td>\n",
       "      <td>0.102808</td>\n",
       "      <td>0.114238</td>\n",
       "      <td>-0.083184</td>\n",
       "      <td>0.010459</td>\n",
       "    </tr>\n",
       "    <tr>\n",
       "      <th>depth</th>\n",
       "      <td>-0.304609</td>\n",
       "      <td>0.371392</td>\n",
       "      <td>1.000000</td>\n",
       "      <td>0.236652</td>\n",
       "      <td>0.052015</td>\n",
       "      <td>0.196680</td>\n",
       "      <td>0.168120</td>\n",
       "      <td>0.107001</td>\n",
       "      <td>0.123505</td>\n",
       "      <td>-0.015259</td>\n",
       "      <td>-0.038874</td>\n",
       "      <td>0.054282</td>\n",
       "    </tr>\n",
       "    <tr>\n",
       "      <th>mag</th>\n",
       "      <td>-0.257408</td>\n",
       "      <td>0.167499</td>\n",
       "      <td>0.236652</td>\n",
       "      <td>1.000000</td>\n",
       "      <td>0.398344</td>\n",
       "      <td>-0.011630</td>\n",
       "      <td>0.162938</td>\n",
       "      <td>0.164538</td>\n",
       "      <td>0.087353</td>\n",
       "      <td>0.133134</td>\n",
       "      <td>0.091388</td>\n",
       "      <td>0.400810</td>\n",
       "    </tr>\n",
       "    <tr>\n",
       "      <th>nst</th>\n",
       "      <td>-0.165925</td>\n",
       "      <td>-0.061885</td>\n",
       "      <td>0.052015</td>\n",
       "      <td>0.398344</td>\n",
       "      <td>1.000000</td>\n",
       "      <td>-0.482543</td>\n",
       "      <td>-0.037975</td>\n",
       "      <td>0.067352</td>\n",
       "      <td>-0.159812</td>\n",
       "      <td>-0.135475</td>\n",
       "      <td>0.073958</td>\n",
       "      <td>0.668463</td>\n",
       "    </tr>\n",
       "    <tr>\n",
       "      <th>gap</th>\n",
       "      <td>-0.045803</td>\n",
       "      <td>0.180558</td>\n",
       "      <td>0.196680</td>\n",
       "      <td>-0.011630</td>\n",
       "      <td>-0.482543</td>\n",
       "      <td>1.000000</td>\n",
       "      <td>0.195113</td>\n",
       "      <td>0.065982</td>\n",
       "      <td>0.359662</td>\n",
       "      <td>0.279330</td>\n",
       "      <td>-0.038697</td>\n",
       "      <td>-0.249840</td>\n",
       "    </tr>\n",
       "    <tr>\n",
       "      <th>dmin</th>\n",
       "      <td>-0.080244</td>\n",
       "      <td>0.157409</td>\n",
       "      <td>0.168120</td>\n",
       "      <td>0.162938</td>\n",
       "      <td>-0.037975</td>\n",
       "      <td>0.195113</td>\n",
       "      <td>1.000000</td>\n",
       "      <td>0.112947</td>\n",
       "      <td>0.165049</td>\n",
       "      <td>0.171761</td>\n",
       "      <td>-0.005957</td>\n",
       "      <td>-0.000339</td>\n",
       "    </tr>\n",
       "    <tr>\n",
       "      <th>rms</th>\n",
       "      <td>-0.080240</td>\n",
       "      <td>0.081720</td>\n",
       "      <td>0.107001</td>\n",
       "      <td>0.164538</td>\n",
       "      <td>0.067352</td>\n",
       "      <td>0.065982</td>\n",
       "      <td>0.112947</td>\n",
       "      <td>1.000000</td>\n",
       "      <td>0.412600</td>\n",
       "      <td>0.235016</td>\n",
       "      <td>0.025993</td>\n",
       "      <td>0.094475</td>\n",
       "    </tr>\n",
       "    <tr>\n",
       "      <th>horizontalError</th>\n",
       "      <td>-0.040037</td>\n",
       "      <td>0.102808</td>\n",
       "      <td>0.123505</td>\n",
       "      <td>0.087353</td>\n",
       "      <td>-0.159812</td>\n",
       "      <td>0.359662</td>\n",
       "      <td>0.165049</td>\n",
       "      <td>0.412600</td>\n",
       "      <td>1.000000</td>\n",
       "      <td>0.317070</td>\n",
       "      <td>-0.007373</td>\n",
       "      <td>-0.070030</td>\n",
       "    </tr>\n",
       "    <tr>\n",
       "      <th>depthError</th>\n",
       "      <td>-0.060953</td>\n",
       "      <td>0.114238</td>\n",
       "      <td>-0.015259</td>\n",
       "      <td>0.133134</td>\n",
       "      <td>-0.135475</td>\n",
       "      <td>0.279330</td>\n",
       "      <td>0.171761</td>\n",
       "      <td>0.235016</td>\n",
       "      <td>0.317070</td>\n",
       "      <td>1.000000</td>\n",
       "      <td>0.027036</td>\n",
       "      <td>-0.012635</td>\n",
       "    </tr>\n",
       "    <tr>\n",
       "      <th>magError</th>\n",
       "      <td>-0.118730</td>\n",
       "      <td>-0.083184</td>\n",
       "      <td>-0.038874</td>\n",
       "      <td>0.091388</td>\n",
       "      <td>0.073958</td>\n",
       "      <td>-0.038697</td>\n",
       "      <td>-0.005957</td>\n",
       "      <td>0.025993</td>\n",
       "      <td>-0.007373</td>\n",
       "      <td>0.027036</td>\n",
       "      <td>1.000000</td>\n",
       "      <td>0.056545</td>\n",
       "    </tr>\n",
       "    <tr>\n",
       "      <th>magNst</th>\n",
       "      <td>-0.159552</td>\n",
       "      <td>0.010459</td>\n",
       "      <td>0.054282</td>\n",
       "      <td>0.400810</td>\n",
       "      <td>0.668463</td>\n",
       "      <td>-0.249840</td>\n",
       "      <td>-0.000339</td>\n",
       "      <td>0.094475</td>\n",
       "      <td>-0.070030</td>\n",
       "      <td>-0.012635</td>\n",
       "      <td>0.056545</td>\n",
       "      <td>1.000000</td>\n",
       "    </tr>\n",
       "  </tbody>\n",
       "</table>\n",
       "</div>"
      ],
      "text/plain": [
       "                 latitude  longitude     depth       mag       nst       gap  \\\n",
       "latitude         1.000000  -0.258416 -0.304609 -0.257408 -0.165925 -0.045803   \n",
       "longitude       -0.258416   1.000000  0.371392  0.167499 -0.061885  0.180558   \n",
       "depth           -0.304609   0.371392  1.000000  0.236652  0.052015  0.196680   \n",
       "mag             -0.257408   0.167499  0.236652  1.000000  0.398344 -0.011630   \n",
       "nst             -0.165925  -0.061885  0.052015  0.398344  1.000000 -0.482543   \n",
       "gap             -0.045803   0.180558  0.196680 -0.011630 -0.482543  1.000000   \n",
       "dmin            -0.080244   0.157409  0.168120  0.162938 -0.037975  0.195113   \n",
       "rms             -0.080240   0.081720  0.107001  0.164538  0.067352  0.065982   \n",
       "horizontalError -0.040037   0.102808  0.123505  0.087353 -0.159812  0.359662   \n",
       "depthError      -0.060953   0.114238 -0.015259  0.133134 -0.135475  0.279330   \n",
       "magError        -0.118730  -0.083184 -0.038874  0.091388  0.073958 -0.038697   \n",
       "magNst          -0.159552   0.010459  0.054282  0.400810  0.668463 -0.249840   \n",
       "\n",
       "                     dmin       rms  horizontalError  depthError  magError  \\\n",
       "latitude        -0.080244 -0.080240        -0.040037   -0.060953 -0.118730   \n",
       "longitude        0.157409  0.081720         0.102808    0.114238 -0.083184   \n",
       "depth            0.168120  0.107001         0.123505   -0.015259 -0.038874   \n",
       "mag              0.162938  0.164538         0.087353    0.133134  0.091388   \n",
       "nst             -0.037975  0.067352        -0.159812   -0.135475  0.073958   \n",
       "gap              0.195113  0.065982         0.359662    0.279330 -0.038697   \n",
       "dmin             1.000000  0.112947         0.165049    0.171761 -0.005957   \n",
       "rms              0.112947  1.000000         0.412600    0.235016  0.025993   \n",
       "horizontalError  0.165049  0.412600         1.000000    0.317070 -0.007373   \n",
       "depthError       0.171761  0.235016         0.317070    1.000000  0.027036   \n",
       "magError        -0.005957  0.025993        -0.007373    0.027036  1.000000   \n",
       "magNst          -0.000339  0.094475        -0.070030   -0.012635  0.056545   \n",
       "\n",
       "                   magNst  \n",
       "latitude        -0.159552  \n",
       "longitude        0.010459  \n",
       "depth            0.054282  \n",
       "mag              0.400810  \n",
       "nst              0.668463  \n",
       "gap             -0.249840  \n",
       "dmin            -0.000339  \n",
       "rms              0.094475  \n",
       "horizontalError -0.070030  \n",
       "depthError      -0.012635  \n",
       "magError         0.056545  \n",
       "magNst           1.000000  "
      ]
     },
     "execution_count": 22,
     "metadata": {},
     "output_type": "execute_result"
    }
   ],
   "source": [
    "# Lista delle colonne da correlare\n",
    "columns_to_correlate = ['latitude', 'longitude', 'depth', 'mag', 'nst', 'gap', 'dmin',\n",
    "                        'rms', 'horizontalError', 'depthError', 'magError', 'magNst']\n",
    "\n",
    "# Rimuovo le righe con valori nulli nelle colonne specificate\n",
    "df_no_null = df.dropna(subset=columns_to_correlate)\n",
    "\n",
    "# Seleziono solo le colonne numeriche\n",
    "df_numeric = df_no_null.select(*columns_to_correlate)\n",
    "\n",
    "# Preparo il vector assembler al fine di calcolare la matrice di correlazione con Spark\n",
    "assembler = VectorAssembler(inputCols=columns_to_correlate, outputCol=\"features\")\n",
    "df_vector = assembler.transform(df_numeric).select(\"features\")\n",
    "\n",
    "# Calcola la matrice di correlazione\n",
    "# qui si puo' usare head()[0] oppure collect()[0][0], entrambe prendono il primo elemento della prima riga.\n",
    "# diciamo che head()[0] è piu' efficiente, perchè recupera solo la prima riga, ma collect()[0][0] rende piu' leggibile il codice.\n",
    "correlation_matrix = Correlation.corr(df_vector, \"features\").head()[0].toArray()\n",
    "\n",
    "# Come al solito converto il tutto in un dataframe di Pandas al solo scopo raffigurativo\n",
    "pd_corr_matrix = pd.DataFrame(correlation_matrix, index=columns_to_correlate, columns=columns_to_correlate)\n",
    "\n",
    "# Stampo le dimensioni della matrice di correlazione, ovviamente sarà quadrata\n",
    "print(\"Dimensioni della matrice di correlazione:\", pd_corr_matrix.shape)\n",
    "\n",
    "pd_corr_matrix"
   ]
  },
  {
   "cell_type": "code",
   "execution_count": 23,
   "id": "b04e8b64297be273",
   "metadata": {
    "ExecuteTime": {
     "end_time": "2023-12-02T19:43:08.038186Z",
     "start_time": "2023-12-02T19:43:07.762081Z"
    }
   },
   "outputs": [
    {
     "data": {
      "image/png": "[encoded data removed]",
      "text/plain": [
       "<Figure size 1200x1000 with 2 Axes>"
      ]
     },
     "metadata": {},
     "output_type": "display_data"
    }
   ],
   "source": [
    "# Heatmap utilizzando Seaborn e Matplotlib\n",
    "plt.figure(figsize=(12, 10))\n",
    "sns.heatmap(pd_corr_matrix, annot=True, fmt=\".2f\", square=True, cmap='Blues')\n",
    "plt.title(\"Heatmap della Matrice di Correlazione\")\n",
    "\n",
    "plt.tight_layout()  \n",
    "plt.savefig(images_path + 'correlation_matrix.png')\n",
    "plt.show()\n"
   ]
  },
  {
   "cell_type": "markdown",
   "id": "fb33525a409cd007",
   "metadata": {},
   "source": [
    "## Data Preparation"
   ]
  },
  {
   "cell_type": "code",
   "execution_count": 24,
   "id": "4ea0d52ff6695d20",
   "metadata": {
    "ExecuteTime": {
     "end_time": "2023-12-02T15:55:04.577465Z",
     "start_time": "2023-12-02T15:54:40.766321Z"
    }
   },
   "outputs": [
    {
     "data": {
      "text/plain": [
       "\"\\nHo provato ad eliminare gli outliers in questo modo, ma dopo aver eseguito molteplici tentativi, \\nmi sono accorto che tutto cio' portava all'eliminazione di tantissimi terremoti registrati in altre aree \\ngeografiche oltre all'america in generale che è pienissima. \\nSe procedessi con tale metodo rimarrebbero solo terremoti in america e in altre piccole parti ad alta concentrazione, \\nterremoti registrati in europa, asia e oceania andrebbero persi del tutto, ergo è meglio non rimuovere gli outliers in questo modo e \\nutilizzare il dataset cosi come è, eliminando ovviamente altri tipi di inconsistenze ed errori che però non \\nnon vanno ad intaccare il significato del dataset: illustrare i terremoti avvenuti NEL MONDO, dal 1970 al 2020.\\n\""
      ]
     },
     "execution_count": 24,
     "metadata": {},
     "output_type": "execute_result"
    }
   ],
   "source": [
    "# Univariate Outliers detection and removal using IQR method\n",
    "\"\"\"\n",
    "from pyspark.sql.functions import col, abs\n",
    "\n",
    "remove_outliers_from_these = ['depth', 'mag', 'nst', 'gap', 'dmin', 'rms', 'magNst']\n",
    "threshold_ = 10\n",
    "\n",
    "# utilizzaimo approxQuantile di pyspark per semplificarci notevolmente la vita\n",
    "for column in remove_outliers_from_these:\n",
    "    # Calcola Q1 e Q3 e l'IQR\n",
    "    quantiles = df.stat.approxQuantile(column, [0.25, 0.75], 0.0)\n",
    "    Q1, Q3 = quantiles[0], quantiles[1]\n",
    "    IQR = Q3 - Q1\n",
    "\n",
    "    # Definisce i limiti per determinare gli outliers\n",
    "    lower_bound = Q1 - threshold_ * IQR\n",
    "    upper_bound = Q3 + threshold_ * IQR\n",
    "\n",
    "    # Filtra gli outliers\n",
    "    df = df.filter((col(column) >= lower_bound) & (col(column) <= upper_bound))\n",
    "\"\"\"\n",
    "\n",
    "\"\"\"\n",
    "Ho provato ad eliminare gli outliers in questo modo, ma dopo aver eseguito molteplici tentativi, \n",
    "mi sono accorto che tutto cio' portava all'eliminazione di tantissimi terremoti registrati nel mondo. \n",
    "Restavano solo quelli registrati nella west coast americana, in paticolare negli stati di California e Nevada.\n",
    "Terremoti registrati in europa, asia e oceania andrebbero persi del tutto, ergo è meglio non rimuovere gli outliers in questo modo e \n",
    "utilizzare il dataset cosi come è, eliminando ovviamente altri tipi di inconsistenze ed errori che però non \n",
    "non vanno ad intaccare il significato del dataset: illustrare i terremoti avvenuti NEL MONDO, dal 1970 al 2020.\n",
    "\"\"\""
   ]
  },
  {
   "cell_type": "markdown",
   "id": "8601831e",
   "metadata": {},
   "source": [
    "#### Cleaning phase"
   ]
  },
  {
   "cell_type": "code",
   "execution_count": 25,
   "id": "81ca7df51bab2c91",
   "metadata": {
    "ExecuteTime": {
     "end_time": "2023-12-02T15:55:10.596619Z",
     "start_time": "2023-12-02T15:55:10.580523Z"
    }
   },
   "outputs": [],
   "source": [
    "# Rimozione delle seguenti colonne:\n",
    "df = df.drop('_c0', 'status', 'id', 'magError', 'horizontalError', 'depthError', 'locationSource', 'magSource', 'net')"
   ]
  },
  {
   "cell_type": "code",
   "execution_count": 26,
   "id": "4fe8f8ee4a3d55ce",
   "metadata": {
    "ExecuteTime": {
     "end_time": "2023-12-02T15:55:12.120908Z",
     "start_time": "2023-12-02T15:55:11.995534Z"
    }
   },
   "outputs": [
    {
     "name": "stdout",
     "output_type": "stream",
     "text": [
      "+--------------------+------------------+-------------------+-----+----+-------+----+-----+-------------------+----+--------------------+--------------------+------------+------+\n",
      "|                time|          latitude|          longitude|depth| mag|magType| nst|  gap|               dmin| rms|             updated|               place|        type|magNst|\n",
      "+--------------------+------------------+-------------------+-----+----+-------+----+-----+-------------------+----+--------------------+--------------------+------------+------+\n",
      "| 1970-01-01 01:00:00|37.003501899999996|       -117.9968338|  0.0| 0.0|     mh| 0.0| NULL|               NULL|NULL|2016-04-02 22:22:...|29km NE of Indepe...|  sonic boom|   0.0|\n",
      "| 1970-01-01 01:00:00|35.642787899999995|       -120.9336014|  5.0|1.99|     mh| 2.0| NULL|               NULL|NULL|2016-01-29 02:43:...|11km SSW of Lake ...|  earthquake|   0.0|\n",
      "| 1970-01-01 01:00:00|        34.1645203|-118.18503570000001|  0.0| 0.0|     mh|NULL| NULL|               NULL|NULL|2016-04-02 19:20:...|4km S of La Canad...|  earthquake|   0.0|\n",
      "| 1970-01-01 01:00:00|        33.8364944|-116.78186799999999|  0.0| 0.0|     mh|NULL| NULL|               NULL|NULL|2016-04-02 16:10:...|9km S of Cabazon, CA|  sonic boom|   0.0|\n",
      "| 1970-01-01 01:00:00|         33.208477|-115.47699740000002|  5.0| 0.0|     mh|NULL| NULL|               NULL|NULL|2016-04-02 06:32:...|5km SE of Niland, CA|  sonic boom|   0.0|\n",
      "| 1970-01-01 01:00:00|         32.663559|-116.10502620000001|  0.0| 0.0|     mh| 0.0| NULL|               NULL|NULL|2016-04-02 16:10:...|13km SW of Ocotil...|  sonic boom|   0.0|\n",
      "| 1970-01-01 01:00:00|        35.3544502|-115.48489380000001|  0.0| 0.5|     mh| 0.0| NULL|               NULL|NULL|2016-01-29 02:19:...|30km SSW of Primm...|quarry blast|   0.0|\n",
      "|1970-01-01 07:16:...|           46.2765|            -118.36|-0.26| 2.3|     md| 6.0|303.0|               0.52|0.14|2016-07-25 01:40:...|          Washington|  earthquake|   0.0|\n",
      "|1970-01-01 07:44:...|        46.3328333|-118.39116670000001|-0.26| 2.6|     md| 6.0|299.0|             0.4814|0.15|2016-07-25 01:40:...|          Washington|  earthquake|   0.0|\n",
      "|1970-01-01 16:13:...|        32.7071667|           -115.417|  6.0|2.75|     mh| 4.0|214.0|             0.6036|0.58|2016-01-29 02:29:...|8km NE of Mexical...|  earthquake|   6.0|\n",
      "| 1970-01-01 18:11:00|             -29.4|           -177.169| 35.0| 5.6|     mw|NULL| NULL|               NULL|NULL| 2015-05-13 20:53:03|Kermadec Islands,...|  earthquake|  NULL|\n",
      "|1970-01-01 20:49:...|        37.4333333|          -118.7435|  6.0|3.69|     ml|10.0|211.0|               NULL|0.58|2016-01-29 02:33:...|27km WNW of West ...|  earthquake|   7.0|\n",
      "|1970-01-02 09:58:...|           46.7495|          -119.3715|1.869| 1.5|     md| 6.0| 93.0|             0.1063|0.15|2016-07-25 01:40:...|          Washington|  earthquake|   0.0|\n",
      "|1970-01-02 11:45:...|34.205999999999996|-119.69566670000002|  6.0|3.14|     ml|11.0|205.0|             0.2347|0.59|2016-01-29 02:38:...|24km S of Santa B...|  earthquake|  10.0|\n",
      "|1970-01-02 22:47:...|        35.7351667|-117.73366670000001| 1.65|2.61|     ml| 6.0| 96.0|             0.1368|0.73|2016-01-29 02:43:...|12km NE of Inyoke...|  earthquake|   3.0|\n",
      "|1970-01-03 20:48:...|           33.9605|          -116.8305|  6.0|3.16|     ml| 9.0|103.0|0.45399999999999996|0.53|2016-01-29 02:43:...|6km NE of Banning...|  earthquake|   5.0|\n",
      "|1970-01-04 03:27:...|           34.3335|-116.84333329999998|  6.0|2.74|     ml| 9.0|120.0|             0.5565|0.56|2016-01-29 02:13:...|8km N of Big Bear...|  earthquake|   5.0|\n",
      "| 1970-01-04 18:00:41|            24.185| 102.54299999999999| 11.3| 7.1|     mw|NULL| NULL|               NULL|NULL|2017-04-26 19:23:...|       Yunnan, China|  earthquake|  NULL|\n",
      "| 1970-01-05 12:49:10|            23.984| 102.73200000000001| 15.0| 5.9|     mw|NULL| NULL|               NULL|NULL|2017-04-26 19:23:...|       Yunnan, China|  earthquake|  NULL|\n",
      "|1970-01-05 13:04:...|        33.2428333|           -115.986|  6.0|3.04|     ml| 4.0|156.0|             0.7425|0.32|2016-01-29 02:24:...|7km SSW of Salton...|  earthquake|   4.0|\n",
      "+--------------------+------------------+-------------------+-----+----+-------+----+-----+-------------------+----+--------------------+--------------------+------------+------+\n"
     ]
    }
   ],
   "source": [
    "# Per visualizzare il risultato e triggerare la rimozione delle colonne di cui sopra\n",
    "# ricordiamo che ilo coportamento default di Spark è Lazy, volendo si potrebbe anche farlo funzionare eager\n",
    "df.show()"
   ]
  },
  {
   "cell_type": "code",
   "execution_count": 27,
   "id": "7a852211dd5daceb",
   "metadata": {
    "ExecuteTime": {
     "end_time": "2023-12-02T15:55:18.143691Z",
     "start_time": "2023-12-02T15:55:13.827657Z"
    },
    "scrolled": true
   },
   "outputs": [
    {
     "name": "stdout",
     "output_type": "stream",
     "text": [
      "Before removing duplicates, the dataset had 3272774 rows.\n"
     ]
    },
    {
     "name": "stderr",
     "output_type": "stream",
     "text": [
      "[Stage 160:>                                                        (0 + 8) / 9]\r"
     ]
    },
    {
     "name": "stdout",
     "output_type": "stream",
     "text": [
      "After duplicates removal, we have 3256955 rows.\n",
      "Percentage of duplicate rows removed: 0.48%\n"
     ]
    },
    {
     "name": "stderr",
     "output_type": "stream",
     "text": [
      "\r",
      "[Stage 160:======>                                                  (1 + 8) / 9]\r",
      "\r",
      "                                                                                \r"
     ]
    }
   ],
   "source": [
    "# RIMOZIONE DEI DUPLICATI\n",
    "\n",
    "# conto le righe nel dataframe prima della rimozione\n",
    "rows_before_dups_removal = df.count()\n",
    "print(f'Before removing duplicates, the dataset had {rows_before_dups_removal} rows.')\n",
    "\n",
    "# rimuovo i duplicati\n",
    "df = df.dropDuplicates()\n",
    "\n",
    "# conto le righe totali dopo la rimozione\n",
    "rows_after_dups_removal = df.count()\n",
    "print(f'After duplicates removal, we have {rows_after_dups_removal} rows.')\n",
    "\n",
    "# calcolo la percentuale dei duplicati rimossi rispetto al totale\n",
    "percentage_of_removed_dups = ((rows_before_dups_removal - rows_after_dups_removal) / rows_before_dups_removal) * 100\n",
    "print(f'Percentage of duplicate rows removed: {percentage_of_removed_dups:.2f}%')"
   ]
  },
  {
   "cell_type": "code",
   "execution_count": 28,
   "id": "b554055d724ef313",
   "metadata": {
    "ExecuteTime": {
     "end_time": "2023-12-02T15:55:20.557114Z",
     "start_time": "2023-12-02T15:55:18.144710Z"
    }
   },
   "outputs": [
    {
     "name": "stderr",
     "output_type": "stream",
     "text": [
      "[Stage 166:>                                                        (0 + 8) / 9]\r"
     ]
    },
    {
     "name": "stdout",
     "output_type": "stream",
     "text": [
      "rimossi tutti i valori negativi e pari a nel dataset, restano 2805339 righe\n"
     ]
    },
    {
     "name": "stderr",
     "output_type": "stream",
     "text": [
      "\r",
      "                                                                                \r"
     ]
    }
   ],
   "source": [
    "# RIMUOVO LE INCONSISTENZE:\n",
    "# la variabile depth non puo' avere valori negativi o uguali a zero. Un valore di zero indica che \n",
    "# l'epicentro del terremoto si trova proprio sulla superficie terrestre il che è statisticamente quasi impossibile\n",
    "\n",
    "from pyspark.sql.functions import col\n",
    "# Filtro per rimuovere righe con 'depth' negativo\n",
    "df = df.filter(col('depth') > 0)\n",
    "\n",
    "# Filtro per rimuovere righe con 'mag' negativo\n",
    "df = df.filter(col('mag') > 0)\n",
    "\n",
    "print(f'rimossi tutti i valori negativi e pari a nel dataset, restano {df.count()} righe')"
   ]
  },
  {
   "cell_type": "code",
   "execution_count": 29,
   "id": "5e913c885367631d",
   "metadata": {
    "ExecuteTime": {
     "end_time": "2023-12-02T15:55:27.519089Z",
     "start_time": "2023-12-02T15:55:24.850909Z"
    }
   },
   "outputs": [
    {
     "name": "stdout",
     "output_type": "stream",
     "text": [
      "rimosse tutte le righe null dalle variabili numeriche depth, mag, rms e dalla variabile categorica magType\n"
     ]
    },
    {
     "name": "stderr",
     "output_type": "stream",
     "text": [
      "[Stage 170:=====================>                                   (3 + 5) / 8]\r"
     ]
    },
    {
     "name": "stdout",
     "output_type": "stream",
     "text": [
      "il dataframe contiene 2622247 righe\n"
     ]
    },
    {
     "name": "stderr",
     "output_type": "stream",
     "text": [
      "\r",
      "[Stage 172:============>                                            (2 + 7) / 9]\r",
      "\r",
      "                                                                                \r"
     ]
    }
   ],
   "source": [
    "# Rimozione righe null da colonne significative:\n",
    "# significative sia per la loro importanza che per le correlazioni con variabili che entraranno in gioco\n",
    "# nelle fasi successive\n",
    "df = df.filter(col('mag').isNotNull())\n",
    "df = df.filter(col('depth').isNotNull())\n",
    "df = df.filter(col('magType').isNotNull())\n",
    "df = df.filter(col('rms').isNotNull())\n",
    "df = df.filter(col('place').isNotNull())\n",
    "print(f'rimosse tutte le righe null dalle variabili numeriche depth, mag, rms e dalla variabile categorica magType')\n",
    "print(f'il dataframe contiene {df.count()} righe')"
   ]
  },
  {
   "cell_type": "code",
   "execution_count": 30,
   "id": "cf5bf2807bd5857e",
   "metadata": {
    "ExecuteTime": {
     "end_time": "2023-12-02T15:55:29.705054Z",
     "start_time": "2023-12-02T15:55:29.689431Z"
    }
   },
   "outputs": [],
   "source": [
    "# nella colonna magType ci sono valori come md e ml che sono scritti in maiuscolo, \n",
    "# faremo in modo che tutti i valori siano scritti in minuscolo accorpandoli\n",
    "df = df.withColumn(\"magType\", lower(df[\"magType\"]))"
   ]
  },
  {
   "cell_type": "code",
   "execution_count": 31,
   "id": "360d65bc81165abd",
   "metadata": {
    "ExecuteTime": {
     "end_time": "2023-12-02T15:55:31.195221Z",
     "start_time": "2023-12-02T15:55:31.179302Z"
    }
   },
   "outputs": [],
   "source": [
    "# Accorpiamo tutti i valori della colonna magType che non siano ml o md in other\n",
    "# tutto cio' allo scopo d semplificare il modello e agevolare la classificazione, meno categorie rendono\n",
    "# il modello meno complesso e piu' facile da interpretare. Poi ovviamente le 3 categorie sono anche abbastanza equilibrate\n",
    "df = df.withColumn(\"magType\", when(col(\"magType\").isin([\"ml\", \"md\"]), col(\"magType\")).otherwise(\"other\"))\n"
   ]
  },
  {
   "cell_type": "code",
   "execution_count": 32,
   "id": "75d006b3c6395c34",
   "metadata": {
    "ExecuteTime": {
     "end_time": "2023-12-02T15:55:31.771152Z",
     "start_time": "2023-12-02T15:55:31.751123Z"
    }
   },
   "outputs": [],
   "source": [
    "# visualizziamo i valori unici e quanti sono della colonna magType\n",
    "magType_counts = df.groupBy(\"magType\").count()\n",
    "magType_counts = magType_counts.orderBy(desc(\"count\"))"
   ]
  },
  {
   "cell_type": "code",
   "execution_count": 33,
   "id": "ab5712494c0c1fa0",
   "metadata": {
    "ExecuteTime": {
     "end_time": "2023-12-02T15:55:35.983163Z",
     "start_time": "2023-12-02T15:55:33.186312Z"
    }
   },
   "outputs": [
    {
     "name": "stderr",
     "output_type": "stream",
     "text": [
      "[Stage 178:>                                                        (0 + 8) / 9]\r"
     ]
    },
    {
     "name": "stdout",
     "output_type": "stream",
     "text": [
      "+-------+------+\n",
      "|magType| count|\n",
      "+-------+------+\n",
      "|     md|953365|\n",
      "|     ml|945033|\n",
      "|  other|723849|\n",
      "+-------+------+\n"
     ]
    },
    {
     "name": "stderr",
     "output_type": "stream",
     "text": [
      "\r",
      "[Stage 178:===============================>                         (5 + 4) / 9]\r",
      "\r",
      "                                                                                \r"
     ]
    }
   ],
   "source": [
    "magType_counts.show()\n",
    "# da cui vediamo che le classi sono abbastanza equilibrate tra loro"
   ]
  },
  {
   "cell_type": "code",
   "execution_count": 34,
   "id": "7a94e122cfea7993",
   "metadata": {
    "ExecuteTime": {
     "end_time": "2023-12-02T15:55:39.323772Z",
     "start_time": "2023-12-02T15:55:39.305850Z"
    }
   },
   "outputs": [],
   "source": [
    "# Filtra il DataFrame per mantenere solo le righe dove 'type' è 'earthquake'\n",
    "# è inutile mantenere righe dove meno dell'uno per cento sono altri tipi di fenomeni, concentriamoci\n",
    "# solo sui terremoti che sono rappresentati dal 99% del dataset e poi possiamo così anche eliminare la colonna earthquake\n",
    "# dal momento che tutti i punti del dataset sono relativi ai terremoti.\n",
    "df = df.filter(df['type'] == 'earthquake')"
   ]
  },
  {
   "cell_type": "code",
   "execution_count": 35,
   "id": "ccfd34425bc4b24f",
   "metadata": {
    "ExecuteTime": {
     "end_time": "2023-12-02T15:55:46.617636Z",
     "start_time": "2023-12-02T15:55:46.589553Z"
    }
   },
   "outputs": [],
   "source": [
    "# dopo aver filtrato solo le righe che riguardano i terremoti possiamo eliminare la colonna earthquake\n",
    "df = df.drop('type')"
   ]
  },
  {
   "cell_type": "code",
   "execution_count": 36,
   "id": "3c670a2236cbbfb1",
   "metadata": {
    "ExecuteTime": {
     "end_time": "2023-12-02T15:55:50.505076Z",
     "start_time": "2023-12-02T15:55:47.993750Z"
    }
   },
   "outputs": [
    {
     "name": "stderr",
     "output_type": "stream",
     "text": [
      "[Stage 182:=====================>                                   (3 + 5) / 8]\r"
     ]
    },
    {
     "name": "stdout",
     "output_type": "stream",
     "text": [
      "+--------------------+------------------+-------------------+------------------+----+-------+----+-----+--------------------+----+--------------------+--------------------+------+\n",
      "|                time|          latitude|          longitude|             depth| mag|magType| nst|  gap|                dmin| rms|             updated|               place|magNst|\n",
      "+--------------------+------------------+-------------------+------------------+----+-------+----+-----+--------------------+----+--------------------+--------------------+------+\n",
      "|1971-12-08 07:43:...|47.842833299999995|-119.62116670000002|             6.518| 1.6|     md| 7.0|301.0|              0.4872|0.12|2016-07-25 01:51:...|          Washington|   7.0|\n",
      "|1972-11-15 10:11:...|        46.8286667|           -119.473|1.3880000000000001| 0.9|     md| 8.0|194.0|             0.03549|0.12|2016-07-25 01:57:...|          Washington|   8.0|\n",
      "|1972-11-21 10:27:...|        34.0848333|-116.78233329999999|               6.0|2.83|     ml| 9.0| 87.0|              0.5009|0.37|2016-01-29 02:45:...|19km N of Cabazon...|   3.0|\n",
      "|1973-03-21 18:54:...|           33.5115|-118.55783329999998|               6.0| 3.0|  other| 4.0|270.0|              0.7122|0.64|2016-01-29 02:16:...|28km NW of Avalon...|  11.0|\n",
      "|1973-03-26 16:13:...|           34.2245|           -118.959|               6.0|2.73|     ml| 9.0|160.0|              0.5802|0.57|2016-01-29 02:31:...|7km E of Camarill...|   7.0|\n",
      "|1973-04-25 13:52:...|        46.4413333|          -119.2795|             0.723| 1.6|     md|12.0|105.0|             0.01374|0.22|2016-07-25 02:00:...|          Washington|  13.0|\n",
      "|1973-09-14 02:28:...|             32.72|-116.49583329999999|              7.06|2.58|     ml| 8.0|155.0|              0.1539| 0.3|2016-01-29 02:27:...|12km SSE of Pine ...|   2.0|\n",
      "|1973-09-29 10:26:...|           46.6855|-119.24283329999999|2.6719999999999997| 1.0|     md| 5.0|113.0| 0.05612999999999999|0.12|2016-07-25 02:06:...|          Washington|   5.0|\n",
      "|1973-11-02 21:29:...|        47.1888333|-122.31066670000001|            23.375| 1.6|     md| 5.0|162.0|              0.3515|0.23|2016-07-25 02:07:...|Seattle-Tacoma ur...|   5.0|\n",
      "|1974-01-11 01:56:...|           37.7915|           -121.955|              6.51| 0.9|     md|10.0| 78.0|            0.005405|0.09|2016-12-14 19:02:...|San Francisco Bay...|   4.0|\n",
      "|1974-01-13 13:44:...|37.496333299999996|-121.62533329999998|             9.435|0.64|     md| 5.0|158.0|              0.0991|0.06|2016-12-14 19:03:...| Northern California|   3.0|\n",
      "|1974-01-15 21:48:...|        36.9628333|-121.57866670000001|             6.563|2.07|     md|19.0| 59.0|0.007206999999999999|0.08|2016-12-14 19:05:...| Northern California|   7.0|\n",
      "|1974-03-02 04:05:...|        36.5951667|       -121.2051667|1.6159999999999999|2.13|     md| 7.0| 97.0|             0.02342|0.06|2016-12-14 19:37:...|  Central California|   3.0|\n",
      "|1974-03-11 08:44:...|        39.7891667|-120.56616670000001|             1.476| 1.6|     md| 4.0|348.0|              0.3937|0.31|2016-12-14 19:43:...| Northern California|   4.0|\n",
      "|1974-03-27 03:26:...|        37.3641667|-121.63516670000001|             6.317|0.97|     md| 8.0|100.0|             0.02252|0.03|2016-12-14 19:55:...| Northern California|   5.0|\n",
      "|1974-05-25 00:15:...|36.485833299999996|-121.05866670000002|5.1610000000000005|2.58|     md|16.0| 93.0|             0.02793|0.06|2016-12-14 20:34:...|  Central California|   5.0|\n",
      "|1974-06-17 04:56:...|        36.6403333|-121.26633329999999|             1.587| 1.4|     md|10.0| 83.0|0.027030000000000002|0.11|2016-12-14 20:57:...|  Central California|   3.0|\n",
      "|1974-06-21 10:19:...|36.578166700000004|-121.08533329999999|             7.371|3.43|     md|44.0| 43.0|             0.02793|0.09|2016-12-14 21:02:...|  Central California|   8.0|\n",
      "|1974-07-08 18:57:...|            36.746|          -121.3815| 7.492999999999999|3.13|     md|29.0| 40.0|             0.04775|0.08|2016-12-14 21:14:...|  Central California|  10.0|\n",
      "|1974-07-28 06:44:...|        36.6338333|-121.25783329999999|              9.88|1.22|     md|10.0| 55.0|             0.05045|0.03|2016-12-14 21:27:...|  Central California|   4.0|\n",
      "+--------------------+------------------+-------------------+------------------+----+-------+----+-----+--------------------+----+--------------------+--------------------+------+\n"
     ]
    },
    {
     "name": "stderr",
     "output_type": "stream",
     "text": [
      "\r",
      "                                                                                \r"
     ]
    }
   ],
   "source": [
    "df.show()"
   ]
  },
  {
   "cell_type": "code",
   "execution_count": 37,
   "id": "294e1861b5831008",
   "metadata": {
    "ExecuteTime": {
     "end_time": "2023-12-02T15:56:25.584073Z",
     "start_time": "2023-12-02T15:55:53.091610Z"
    }
   },
   "outputs": [
    {
     "name": "stderr",
     "output_type": "stream",
     "text": [
      "                                                                                \r"
     ]
    },
    {
     "data": {
      "text/html": [
       "<div>\n",
       "<style scoped>\n",
       "    .dataframe tbody tr th:only-of-type {\n",
       "        vertical-align: middle;\n",
       "    }\n",
       "\n",
       "    .dataframe tbody tr th {\n",
       "        vertical-align: top;\n",
       "    }\n",
       "\n",
       "    .dataframe thead th {\n",
       "        text-align: right;\n",
       "    }\n",
       "</style>\n",
       "<table border=\"1\" class=\"dataframe\">\n",
       "  <thead>\n",
       "    <tr style=\"text-align: right;\">\n",
       "      <th></th>\n",
       "      <th>Feature</th>\n",
       "      <th>Total Nulls</th>\n",
       "      <th>Percentage Nulls</th>\n",
       "    </tr>\n",
       "  </thead>\n",
       "  <tbody>\n",
       "    <tr>\n",
       "      <th>8</th>\n",
       "      <td>dmin</td>\n",
       "      <td>979936</td>\n",
       "      <td>37.580170</td>\n",
       "    </tr>\n",
       "    <tr>\n",
       "      <th>6</th>\n",
       "      <td>nst</td>\n",
       "      <td>727659</td>\n",
       "      <td>27.905444</td>\n",
       "    </tr>\n",
       "    <tr>\n",
       "      <th>7</th>\n",
       "      <td>gap</td>\n",
       "      <td>652113</td>\n",
       "      <td>25.008284</td>\n",
       "    </tr>\n",
       "    <tr>\n",
       "      <th>12</th>\n",
       "      <td>magNst</td>\n",
       "      <td>605695</td>\n",
       "      <td>23.228171</td>\n",
       "    </tr>\n",
       "    <tr>\n",
       "      <th>0</th>\n",
       "      <td>time</td>\n",
       "      <td>0</td>\n",
       "      <td>0.000000</td>\n",
       "    </tr>\n",
       "    <tr>\n",
       "      <th>1</th>\n",
       "      <td>latitude</td>\n",
       "      <td>0</td>\n",
       "      <td>0.000000</td>\n",
       "    </tr>\n",
       "    <tr>\n",
       "      <th>2</th>\n",
       "      <td>longitude</td>\n",
       "      <td>0</td>\n",
       "      <td>0.000000</td>\n",
       "    </tr>\n",
       "    <tr>\n",
       "      <th>3</th>\n",
       "      <td>depth</td>\n",
       "      <td>0</td>\n",
       "      <td>0.000000</td>\n",
       "    </tr>\n",
       "    <tr>\n",
       "      <th>4</th>\n",
       "      <td>mag</td>\n",
       "      <td>0</td>\n",
       "      <td>0.000000</td>\n",
       "    </tr>\n",
       "    <tr>\n",
       "      <th>5</th>\n",
       "      <td>magType</td>\n",
       "      <td>0</td>\n",
       "      <td>0.000000</td>\n",
       "    </tr>\n",
       "    <tr>\n",
       "      <th>9</th>\n",
       "      <td>rms</td>\n",
       "      <td>0</td>\n",
       "      <td>0.000000</td>\n",
       "    </tr>\n",
       "    <tr>\n",
       "      <th>10</th>\n",
       "      <td>updated</td>\n",
       "      <td>0</td>\n",
       "      <td>0.000000</td>\n",
       "    </tr>\n",
       "    <tr>\n",
       "      <th>11</th>\n",
       "      <td>place</td>\n",
       "      <td>0</td>\n",
       "      <td>0.000000</td>\n",
       "    </tr>\n",
       "  </tbody>\n",
       "</table>\n",
       "</div>"
      ],
      "text/plain": [
       "      Feature  Total Nulls  Percentage Nulls\n",
       "8        dmin       979936         37.580170\n",
       "6         nst       727659         27.905444\n",
       "7         gap       652113         25.008284\n",
       "12     magNst       605695         23.228171\n",
       "0        time            0          0.000000\n",
       "1    latitude            0          0.000000\n",
       "2   longitude            0          0.000000\n",
       "3       depth            0          0.000000\n",
       "4         mag            0          0.000000\n",
       "5     magType            0          0.000000\n",
       "9         rms            0          0.000000\n",
       "10    updated            0          0.000000\n",
       "11      place            0          0.000000"
      ]
     },
     "execution_count": 37,
     "metadata": {},
     "output_type": "execute_result"
    }
   ],
   "source": [
    "# Vediamo dopo aver applicato queste modifiche quanti MISSING VALUES RESTANO ancora ndel dataframe e stampiamoli in ordine non crescente:\n",
    "\n",
    "# Calcolo i valori mancanti per ogni colonna\n",
    "missing_values_df = df.select([count(when(isnull(c), c)).alias(c) for c in df.columns])\n",
    "\n",
    "# Calcolo la percentuale di valori nulli corrispondenti\n",
    "percents_df = df.select(\n",
    "    [(count(when(isnull(c), c)) / lit(df.count()) * 100).alias(c)\n",
    "     for c in df.columns])\n",
    "\n",
    "# Raccolgo i risultati in liste Python\n",
    "missing_values = missing_values_df.collect()[0].asDict()\n",
    "percents = percents_df.collect()[0].asDict()\n",
    "\n",
    "# Creo un dizionario che associa il numero di valori nulli con la loro percentuale\n",
    "missing_values_to_percents = {col: (missing_values[col], percents[col]) for col in missing_values}\n",
    "\n",
    "# Trasformo il dizionario in una lista di tuple\n",
    "data_for_df = [(col, *vals) for col, vals in missing_values_to_percents.items()]\n",
    "\n",
    "# Creo un dataframe Pandas dai dati\n",
    "df_as_dict = pd.DataFrame(data_for_df, columns=['Feature', 'Total Nulls', 'Percentage Nulls'])\n",
    "\n",
    "df_as_dict.sort_values(ascending=False, by='Percentage Nulls')"
   ]
  },
  {
   "cell_type": "markdown",
   "id": "5fa48067852fee9",
   "metadata": {},
   "source": [
    "#### Imputazioni valori mancanti di 'dmin' e 'gap' utilizzando la media"
   ]
  },
  {
   "cell_type": "code",
   "execution_count": 38,
   "id": "2dc8047ffcaea7f5",
   "metadata": {
    "ExecuteTime": {
     "end_time": "2023-12-02T15:56:49.891447Z",
     "start_time": "2023-12-02T15:56:46.757731Z"
    }
   },
   "outputs": [
    {
     "name": "stderr",
     "output_type": "stream",
     "text": [
      "                                                                                \r"
     ]
    }
   ],
   "source": [
    "# IMPUTAZIONE DI 'dmin' e 'gap' con la loro media\n",
    "from pyspark.ml.feature import Imputer\n",
    "imputer = Imputer(\n",
    "    inputCols=[\"dmin\", \"gap\"],\n",
    "    outputCols=[\"dmin\", \"gap\"]\n",
    ").setStrategy(\"mean\")  \n",
    "\n",
    "df  = imputer.fit(df).transform(df)"
   ]
  },
  {
   "cell_type": "code",
   "execution_count": 39,
   "id": "58874aa404bdbc14",
   "metadata": {
    "ExecuteTime": {
     "end_time": "2023-12-02T15:56:52.716287Z",
     "start_time": "2023-12-02T15:56:49.891381Z"
    }
   },
   "outputs": [
    {
     "name": "stderr",
     "output_type": "stream",
     "text": [
      "                                                                                \r"
     ]
    },
    {
     "data": {
      "text/plain": [
       "2607588"
      ]
     },
     "execution_count": 39,
     "metadata": {},
     "output_type": "execute_result"
    }
   ],
   "source": [
    "df.count()"
   ]
  },
  {
   "cell_type": "code",
   "execution_count": 40,
   "id": "bf92842c8f56af01",
   "metadata": {
    "ExecuteTime": {
     "end_time": "2023-12-02T15:56:55.304754Z",
     "start_time": "2023-12-02T15:56:52.716406Z"
    }
   },
   "outputs": [
    {
     "name": "stderr",
     "output_type": "stream",
     "text": [
      "[Stage 290:==============>                                          (2 + 6) / 8]\r"
     ]
    },
    {
     "name": "stdout",
     "output_type": "stream",
     "text": [
      "+--------------------+------------------+-------------------+------------------+----+-------+----+-----+--------------------+----+--------------------+--------------------+------+\n",
      "|                time|          latitude|          longitude|             depth| mag|magType| nst|  gap|                dmin| rms|             updated|               place|magNst|\n",
      "+--------------------+------------------+-------------------+------------------+----+-------+----+-----+--------------------+----+--------------------+--------------------+------+\n",
      "|1971-12-08 07:43:...|47.842833299999995|-119.62116670000002|             6.518| 1.6|     md| 7.0|301.0|              0.4872|0.12|2016-07-25 01:51:...|          Washington|   7.0|\n",
      "|1972-11-15 10:11:...|        46.8286667|           -119.473|1.3880000000000001| 0.9|     md| 8.0|194.0|             0.03549|0.12|2016-07-25 01:57:...|          Washington|   8.0|\n",
      "|1972-11-21 10:27:...|        34.0848333|-116.78233329999999|               6.0|2.83|     ml| 9.0| 87.0|              0.5009|0.37|2016-01-29 02:45:...|19km N of Cabazon...|   3.0|\n",
      "|1973-03-21 18:54:...|           33.5115|-118.55783329999998|               6.0| 3.0|  other| 4.0|270.0|              0.7122|0.64|2016-01-29 02:16:...|28km NW of Avalon...|  11.0|\n",
      "|1973-03-26 16:13:...|           34.2245|           -118.959|               6.0|2.73|     ml| 9.0|160.0|              0.5802|0.57|2016-01-29 02:31:...|7km E of Camarill...|   7.0|\n",
      "|1973-04-25 13:52:...|        46.4413333|          -119.2795|             0.723| 1.6|     md|12.0|105.0|             0.01374|0.22|2016-07-25 02:00:...|          Washington|  13.0|\n",
      "|1973-09-14 02:28:...|             32.72|-116.49583329999999|              7.06|2.58|     ml| 8.0|155.0|              0.1539| 0.3|2016-01-29 02:27:...|12km SSE of Pine ...|   2.0|\n",
      "|1973-09-29 10:26:...|           46.6855|-119.24283329999999|2.6719999999999997| 1.0|     md| 5.0|113.0| 0.05612999999999999|0.12|2016-07-25 02:06:...|          Washington|   5.0|\n",
      "|1973-11-02 21:29:...|        47.1888333|-122.31066670000001|            23.375| 1.6|     md| 5.0|162.0|              0.3515|0.23|2016-07-25 02:07:...|Seattle-Tacoma ur...|   5.0|\n",
      "|1974-01-11 01:56:...|           37.7915|           -121.955|              6.51| 0.9|     md|10.0| 78.0|            0.005405|0.09|2016-12-14 19:02:...|San Francisco Bay...|   4.0|\n",
      "|1974-01-13 13:44:...|37.496333299999996|-121.62533329999998|             9.435|0.64|     md| 5.0|158.0|              0.0991|0.06|2016-12-14 19:03:...| Northern California|   3.0|\n",
      "|1974-01-15 21:48:...|        36.9628333|-121.57866670000001|             6.563|2.07|     md|19.0| 59.0|0.007206999999999999|0.08|2016-12-14 19:05:...| Northern California|   7.0|\n",
      "|1974-03-02 04:05:...|        36.5951667|       -121.2051667|1.6159999999999999|2.13|     md| 7.0| 97.0|             0.02342|0.06|2016-12-14 19:37:...|  Central California|   3.0|\n",
      "|1974-03-11 08:44:...|        39.7891667|-120.56616670000001|             1.476| 1.6|     md| 4.0|348.0|              0.3937|0.31|2016-12-14 19:43:...| Northern California|   4.0|\n",
      "|1974-03-27 03:26:...|        37.3641667|-121.63516670000001|             6.317|0.97|     md| 8.0|100.0|             0.02252|0.03|2016-12-14 19:55:...| Northern California|   5.0|\n",
      "|1974-05-25 00:15:...|36.485833299999996|-121.05866670000002|5.1610000000000005|2.58|     md|16.0| 93.0|             0.02793|0.06|2016-12-14 20:34:...|  Central California|   5.0|\n",
      "|1974-06-17 04:56:...|        36.6403333|-121.26633329999999|             1.587| 1.4|     md|10.0| 83.0|0.027030000000000002|0.11|2016-12-14 20:57:...|  Central California|   3.0|\n",
      "|1974-06-21 10:19:...|36.578166700000004|-121.08533329999999|             7.371|3.43|     md|44.0| 43.0|             0.02793|0.09|2016-12-14 21:02:...|  Central California|   8.0|\n",
      "|1974-07-08 18:57:...|            36.746|          -121.3815| 7.492999999999999|3.13|     md|29.0| 40.0|             0.04775|0.08|2016-12-14 21:14:...|  Central California|  10.0|\n",
      "|1974-07-28 06:44:...|        36.6338333|-121.25783329999999|              9.88|1.22|     md|10.0| 55.0|             0.05045|0.03|2016-12-14 21:27:...|  Central California|   4.0|\n",
      "+--------------------+------------------+-------------------+------------------+----+-------+----+-----+--------------------+----+--------------------+--------------------+------+\n"
     ]
    },
    {
     "name": "stderr",
     "output_type": "stream",
     "text": [
      "\r",
      "                                                                                \r"
     ]
    }
   ],
   "source": [
    "df.show()"
   ]
  },
  {
   "cell_type": "markdown",
   "id": "714a80aaa7980cdd",
   "metadata": {},
   "source": [
    "### Imputazione colonna 'nst' usando la REGRESSIONE LINEARE"
   ]
  },
  {
   "cell_type": "code",
   "execution_count": 41,
   "id": "3da5dfb77f139792",
   "metadata": {
    "ExecuteTime": {
     "end_time": "2023-12-02T15:57:07.848784Z",
     "start_time": "2023-12-02T15:56:55.292394Z"
    }
   },
   "outputs": [
    {
     "name": "stderr",
     "output_type": "stream",
     "text": [
      "                                                                                \r"
     ]
    }
   ],
   "source": [
    "# IMPUTAZIONE valori null per l'attributo a valori continui 'nst'\n",
    "# effettueremo l'imputazione con l'ausilio delle seguenti colonne:\n",
    "columns_to_use = ['latitude', 'longitude', 'depth', 'mag', 'rms']\n",
    "\n",
    "# preparo il VectorAssembler, arma necessaria e fondamentale!\n",
    "# esso è utilizzato per combinare le colonne selezionate in un unico vettore di caratteristiche che chiamo 'features'\n",
    "# tale vettore poi sarà passato ai vari modelli.\n",
    "assembler = VectorAssembler(inputCols=columns_to_use, outputCol=\"features\")\n",
    "\n",
    "# standardizzo le variabili da utilizzare per la regressione lineare\n",
    "scaler = StandardScaler(inputCol=\"features\", outputCol=\"scaledFeatures\")\n",
    "\n",
    "# CREAZIONE E ADDESTRAMENTO DEL MODELLO:\n",
    "target = 'nst'\n",
    "lr = LinearRegression(featuresCol=\"scaledFeatures\", labelCol=target)\n",
    "\n",
    "# combino le fasi di assemblaggio, standardizzazione e regressione lineare in una pipeline:\n",
    "pipeline = Pipeline(stages=[assembler, scaler, lr])\n",
    "\n",
    "# addestramento del modello sui dati non nulli\n",
    "train_df = df.filter(df.nst.isNotNull())\n",
    "model = pipeline.fit(train_df)\n",
    "\n",
    "# Applico il modello a tutto il dataframe\n",
    "# Cioè sto utilizzando il modello per generare previsioni su tutto il dataframe inclusi i record con valori nulli per 'nst'.\n",
    "# Anche se il modello viene applicato a tutti i record, i valori esistenti e non nulli di 'nst' \n",
    "# vengono mantenuti, e solo i valori nulli vengono sostituiti con le previsioni del modello.\n",
    "full_predictions = model.transform(df) #  vienew creata una colonna a default chiamata 'prediction'\n",
    "\n",
    "# Sostituisco i valori null di 'nst' con le previsioni\n",
    "# Utilizzo la funzione withColumn per creare una nuova colonna ('nst_imputed') nel dataframe.\n",
    "# La funzione when è utilizzata per controllare se il valore originale di 'nst' è nullo. \n",
    "# Se la risposta è affermativa, utilizzo il valore previsto dal modello (full_predictions[\"prediction\"]).\n",
    "# Se invece la risposta è negativa, cioè il valore originale di 'nst' non è nullo, allora si mantiene il valore originale \n",
    "df_imputed = full_predictions.withColumn(\n",
    "    \"nst_imputed\",\n",
    "    when(full_predictions[\"nst\"].isNull(), full_predictions[\"prediction\"])\n",
    "    .otherwise(full_predictions[\"nst\"])\n",
    ")\n",
    "\n",
    "# Rimuovo le colonne create nei vari steps non più necessarie\n",
    "df_final = df_imputed.drop(\"features\", \"scaledFeatures\", \"prediction\")\n",
    "\n",
    "# Rimuovo la colonna 'nst' originale contenente i valori null\n",
    "df_final = df_final.drop(\"nst\")\n",
    "\n",
    "# Rinomino 'nst_imputed' in 'nst'\n",
    "df_final = df_final.withColumnRenamed(\"nst_imputed\", \"nst\")\n"
   ]
  },
  {
   "cell_type": "code",
   "execution_count": 42,
   "id": "ee72e8df8827aeda",
   "metadata": {
    "ExecuteTime": {
     "end_time": "2023-12-02T15:57:10.101808Z",
     "start_time": "2023-12-02T15:57:07.845612Z"
    }
   },
   "outputs": [
    {
     "name": "stderr",
     "output_type": "stream",
     "text": [
      "[Stage 308:==========================================>              (6 + 2) / 8]\r"
     ]
    },
    {
     "name": "stdout",
     "output_type": "stream",
     "text": [
      "+--------------------+------------------+-------------------+------------------+----+-------+-----+--------------------+----+--------------------+--------------------+------+----+\n",
      "|                time|          latitude|          longitude|             depth| mag|magType|  gap|                dmin| rms|             updated|               place|magNst| nst|\n",
      "+--------------------+------------------+-------------------+------------------+----+-------+-----+--------------------+----+--------------------+--------------------+------+----+\n",
      "|1971-12-08 07:43:...|47.842833299999995|-119.62116670000002|             6.518| 1.6|     md|301.0|              0.4872|0.12|2016-07-25 01:51:...|          Washington|   7.0| 7.0|\n",
      "|1972-11-15 10:11:...|        46.8286667|           -119.473|1.3880000000000001| 0.9|     md|194.0|             0.03549|0.12|2016-07-25 01:57:...|          Washington|   8.0| 8.0|\n",
      "|1972-11-21 10:27:...|        34.0848333|-116.78233329999999|               6.0|2.83|     ml| 87.0|              0.5009|0.37|2016-01-29 02:45:...|19km N of Cabazon...|   3.0| 9.0|\n",
      "|1973-03-21 18:54:...|           33.5115|-118.55783329999998|               6.0| 3.0|  other|270.0|              0.7122|0.64|2016-01-29 02:16:...|28km NW of Avalon...|  11.0| 4.0|\n",
      "|1973-03-26 16:13:...|           34.2245|           -118.959|               6.0|2.73|     ml|160.0|              0.5802|0.57|2016-01-29 02:31:...|7km E of Camarill...|   7.0| 9.0|\n",
      "|1973-04-25 13:52:...|        46.4413333|          -119.2795|             0.723| 1.6|     md|105.0|             0.01374|0.22|2016-07-25 02:00:...|          Washington|  13.0|12.0|\n",
      "|1973-09-14 02:28:...|             32.72|-116.49583329999999|              7.06|2.58|     ml|155.0|              0.1539| 0.3|2016-01-29 02:27:...|12km SSE of Pine ...|   2.0| 8.0|\n",
      "|1973-09-29 10:26:...|           46.6855|-119.24283329999999|2.6719999999999997| 1.0|     md|113.0| 0.05612999999999999|0.12|2016-07-25 02:06:...|          Washington|   5.0| 5.0|\n",
      "|1973-11-02 21:29:...|        47.1888333|-122.31066670000001|            23.375| 1.6|     md|162.0|              0.3515|0.23|2016-07-25 02:07:...|Seattle-Tacoma ur...|   5.0| 5.0|\n",
      "|1974-01-11 01:56:...|           37.7915|           -121.955|              6.51| 0.9|     md| 78.0|            0.005405|0.09|2016-12-14 19:02:...|San Francisco Bay...|   4.0|10.0|\n",
      "|1974-01-13 13:44:...|37.496333299999996|-121.62533329999998|             9.435|0.64|     md|158.0|              0.0991|0.06|2016-12-14 19:03:...| Northern California|   3.0| 5.0|\n",
      "|1974-01-15 21:48:...|        36.9628333|-121.57866670000001|             6.563|2.07|     md| 59.0|0.007206999999999999|0.08|2016-12-14 19:05:...| Northern California|   7.0|19.0|\n",
      "|1974-03-02 04:05:...|        36.5951667|       -121.2051667|1.6159999999999999|2.13|     md| 97.0|             0.02342|0.06|2016-12-14 19:37:...|  Central California|   3.0| 7.0|\n",
      "|1974-03-11 08:44:...|        39.7891667|-120.56616670000001|             1.476| 1.6|     md|348.0|              0.3937|0.31|2016-12-14 19:43:...| Northern California|   4.0| 4.0|\n",
      "|1974-03-27 03:26:...|        37.3641667|-121.63516670000001|             6.317|0.97|     md|100.0|             0.02252|0.03|2016-12-14 19:55:...| Northern California|   5.0| 8.0|\n",
      "|1974-05-25 00:15:...|36.485833299999996|-121.05866670000002|5.1610000000000005|2.58|     md| 93.0|             0.02793|0.06|2016-12-14 20:34:...|  Central California|   5.0|16.0|\n",
      "|1974-06-17 04:56:...|        36.6403333|-121.26633329999999|             1.587| 1.4|     md| 83.0|0.027030000000000002|0.11|2016-12-14 20:57:...|  Central California|   3.0|10.0|\n",
      "|1974-06-21 10:19:...|36.578166700000004|-121.08533329999999|             7.371|3.43|     md| 43.0|             0.02793|0.09|2016-12-14 21:02:...|  Central California|   8.0|44.0|\n",
      "|1974-07-08 18:57:...|            36.746|          -121.3815| 7.492999999999999|3.13|     md| 40.0|             0.04775|0.08|2016-12-14 21:14:...|  Central California|  10.0|29.0|\n",
      "|1974-07-28 06:44:...|        36.6338333|-121.25783329999999|              9.88|1.22|     md| 55.0|             0.05045|0.03|2016-12-14 21:27:...|  Central California|   4.0|10.0|\n",
      "+--------------------+------------------+-------------------+------------------+----+-------+-----+--------------------+----+--------------------+--------------------+------+----+\n"
     ]
    },
    {
     "name": "stderr",
     "output_type": "stream",
     "text": [
      "\r",
      "                                                                                \r"
     ]
    }
   ],
   "source": [
    "df_final.show()"
   ]
  },
  {
   "cell_type": "markdown",
   "id": "9aae258d8bbf5833",
   "metadata": {},
   "source": [
    "### Imputazione colonna magNst utilizzando un DecisionTreeRegressor"
   ]
  },
  {
   "cell_type": "code",
   "execution_count": 43,
   "id": "fefda4ecf4c5a300",
   "metadata": {
    "ExecuteTime": {
     "end_time": "2023-12-02T15:57:15.274240Z",
     "start_time": "2023-12-02T15:57:10.102862Z"
    }
   },
   "outputs": [
    {
     "name": "stderr",
     "output_type": "stream",
     "text": [
      "                                                                                \r"
     ]
    }
   ],
   "source": [
    "# Imputazione colonna magNst utilizzando un DecisionTreeRegressor\n",
    "target = 'magNst'\n",
    "columns_to_use = ['latitude', 'longitude', 'depth', 'mag', 'rms']\n",
    "\n",
    "assembler = VectorAssembler(inputCols=columns_to_use, outputCol=\"features\")\n",
    "\n",
    "# nel caso di un decision tree regressor la standardizzazione delle variabili non è necessaria\n",
    "# A differenza dei modelli lineari o di altri algoritmi come SVM o reti neurali, \n",
    "# gli alberi decisionali non sono sensibili alla scala delle variabili.\n",
    "\n",
    "dt = DecisionTreeRegressor(featuresCol=\"features\", labelCol=target)\n",
    "pipeline = Pipeline(stages=[assembler, dt])\n",
    "\n",
    "train_df = df_final.filter(df_final.magNst.isNotNull())\n",
    "model = pipeline.fit(train_df)\n",
    "\n",
    "full_predictions = model.transform(df_final)\n",
    "df_imputed = full_predictions.withColumn(\n",
    "    \"magNst_imputed\",\n",
    "    when(full_predictions[\"magNst\"].isNull(), full_predictions[\"prediction\"])\n",
    "    .otherwise(full_predictions[\"magNst\"])\n",
    ")\n",
    "\n",
    "df_final = df_imputed.drop(\"features\", \"prediction\")\n",
    "\n",
    "df_final = df_final.drop(\"magNst\").withColumnRenamed(\"magNst_imputed\", \"magNst\")"
   ]
  },
  {
   "cell_type": "code",
   "execution_count": 44,
   "id": "504d070383f4ab05",
   "metadata": {
    "ExecuteTime": {
     "end_time": "2023-12-02T15:57:17.724480Z",
     "start_time": "2023-12-02T15:57:15.275737Z"
    }
   },
   "outputs": [
    {
     "name": "stderr",
     "output_type": "stream",
     "text": [
      "[Stage 334:=======>                                                 (1 + 7) / 8]\r"
     ]
    },
    {
     "name": "stdout",
     "output_type": "stream",
     "text": [
      "+--------------------+------------------+-------------------+------------------+----+-------+-----+--------------------+----+--------------------+--------------------+----+------+\n",
      "|                time|          latitude|          longitude|             depth| mag|magType|  gap|                dmin| rms|             updated|               place| nst|magNst|\n",
      "+--------------------+------------------+-------------------+------------------+----+-------+-----+--------------------+----+--------------------+--------------------+----+------+\n",
      "|1971-12-08 07:43:...|47.842833299999995|-119.62116670000002|             6.518| 1.6|     md|301.0|              0.4872|0.12|2016-07-25 01:51:...|          Washington| 7.0|   7.0|\n",
      "|1972-11-15 10:11:...|        46.8286667|           -119.473|1.3880000000000001| 0.9|     md|194.0|             0.03549|0.12|2016-07-25 01:57:...|          Washington| 8.0|   8.0|\n",
      "|1972-11-21 10:27:...|        34.0848333|-116.78233329999999|               6.0|2.83|     ml| 87.0|              0.5009|0.37|2016-01-29 02:45:...|19km N of Cabazon...| 9.0|   3.0|\n",
      "|1973-03-21 18:54:...|           33.5115|-118.55783329999998|               6.0| 3.0|  other|270.0|              0.7122|0.64|2016-01-29 02:16:...|28km NW of Avalon...| 4.0|  11.0|\n",
      "|1973-03-26 16:13:...|           34.2245|           -118.959|               6.0|2.73|     ml|160.0|              0.5802|0.57|2016-01-29 02:31:...|7km E of Camarill...| 9.0|   7.0|\n",
      "|1973-04-25 13:52:...|        46.4413333|          -119.2795|             0.723| 1.6|     md|105.0|             0.01374|0.22|2016-07-25 02:00:...|          Washington|12.0|  13.0|\n",
      "|1973-09-14 02:28:...|             32.72|-116.49583329999999|              7.06|2.58|     ml|155.0|              0.1539| 0.3|2016-01-29 02:27:...|12km SSE of Pine ...| 8.0|   2.0|\n",
      "|1973-09-29 10:26:...|           46.6855|-119.24283329999999|2.6719999999999997| 1.0|     md|113.0| 0.05612999999999999|0.12|2016-07-25 02:06:...|          Washington| 5.0|   5.0|\n",
      "|1973-11-02 21:29:...|        47.1888333|-122.31066670000001|            23.375| 1.6|     md|162.0|              0.3515|0.23|2016-07-25 02:07:...|Seattle-Tacoma ur...| 5.0|   5.0|\n",
      "|1974-01-11 01:56:...|           37.7915|           -121.955|              6.51| 0.9|     md| 78.0|            0.005405|0.09|2016-12-14 19:02:...|San Francisco Bay...|10.0|   4.0|\n",
      "|1974-01-13 13:44:...|37.496333299999996|-121.62533329999998|             9.435|0.64|     md|158.0|              0.0991|0.06|2016-12-14 19:03:...| Northern California| 5.0|   3.0|\n",
      "|1974-01-15 21:48:...|        36.9628333|-121.57866670000001|             6.563|2.07|     md| 59.0|0.007206999999999999|0.08|2016-12-14 19:05:...| Northern California|19.0|   7.0|\n",
      "|1974-03-02 04:05:...|        36.5951667|       -121.2051667|1.6159999999999999|2.13|     md| 97.0|             0.02342|0.06|2016-12-14 19:37:...|  Central California| 7.0|   3.0|\n",
      "|1974-03-11 08:44:...|        39.7891667|-120.56616670000001|             1.476| 1.6|     md|348.0|              0.3937|0.31|2016-12-14 19:43:...| Northern California| 4.0|   4.0|\n",
      "|1974-03-27 03:26:...|        37.3641667|-121.63516670000001|             6.317|0.97|     md|100.0|             0.02252|0.03|2016-12-14 19:55:...| Northern California| 8.0|   5.0|\n",
      "|1974-05-25 00:15:...|36.485833299999996|-121.05866670000002|5.1610000000000005|2.58|     md| 93.0|             0.02793|0.06|2016-12-14 20:34:...|  Central California|16.0|   5.0|\n",
      "|1974-06-17 04:56:...|        36.6403333|-121.26633329999999|             1.587| 1.4|     md| 83.0|0.027030000000000002|0.11|2016-12-14 20:57:...|  Central California|10.0|   3.0|\n",
      "|1974-06-21 10:19:...|36.578166700000004|-121.08533329999999|             7.371|3.43|     md| 43.0|             0.02793|0.09|2016-12-14 21:02:...|  Central California|44.0|   8.0|\n",
      "|1974-07-08 18:57:...|            36.746|          -121.3815| 7.492999999999999|3.13|     md| 40.0|             0.04775|0.08|2016-12-14 21:14:...|  Central California|29.0|  10.0|\n",
      "|1974-07-28 06:44:...|        36.6338333|-121.25783329999999|              9.88|1.22|     md| 55.0|             0.05045|0.03|2016-12-14 21:27:...|  Central California|10.0|   4.0|\n",
      "+--------------------+------------------+-------------------+------------------+----+-------+-----+--------------------+----+--------------------+--------------------+----+------+\n"
     ]
    },
    {
     "name": "stderr",
     "output_type": "stream",
     "text": [
      "\r",
      "                                                                                \r"
     ]
    }
   ],
   "source": [
    "df_final.show()"
   ]
  },
  {
   "cell_type": "code",
   "execution_count": 45,
   "id": "d919c6a805965beb",
   "metadata": {
    "ExecuteTime": {
     "end_time": "2023-12-02T15:57:38.212280Z",
     "start_time": "2023-12-02T15:57:17.721688Z"
    }
   },
   "outputs": [
    {
     "name": "stderr",
     "output_type": "stream",
     "text": [
      "[Stage 378:>                                                        (0 + 8) / 9]\r"
     ]
    },
    {
     "name": "stdout",
     "output_type": "stream",
     "text": [
      "nessuna variabile ha valori null!\n"
     ]
    },
    {
     "name": "stderr",
     "output_type": "stream",
     "text": [
      "\r",
      "[Stage 378:============================================>            (7 + 2) / 9]\r",
      "\r",
      "                                                                                \r"
     ]
    }
   ],
   "source": [
    "# A questo punto vediamo se ci sono ancora valori null nel dataframe\n",
    "counter = 0\n",
    "for col_name in df_final.columns:\n",
    "    # Conto il numero di valori null in ogni colonna\n",
    "    null_count = df_final.filter(df_final[col_name].isNull()).count()\n",
    "\n",
    "    if null_count > 0:\n",
    "        print(f\"La colonna '{col_name}' ha {null_count} valori null.\")\n",
    "        counter = counter + 1\n",
    "\n",
    "if counter == 0:\n",
    "    print('nessuna variabile ha valori null!')"
   ]
  },
  {
   "cell_type": "code",
   "execution_count": 46,
   "id": "6e5dd1729a2de77a",
   "metadata": {
    "ExecuteTime": {
     "end_time": "2023-12-02T15:57:38.212439Z",
     "start_time": "2023-12-02T15:57:38.208849Z"
    }
   },
   "outputs": [
    {
     "name": "stdout",
     "output_type": "stream",
     "text": [
      "root\n",
      " |-- time: timestamp (nullable = true)\n",
      " |-- latitude: double (nullable = true)\n",
      " |-- longitude: double (nullable = true)\n",
      " |-- depth: double (nullable = true)\n",
      " |-- mag: double (nullable = true)\n",
      " |-- magType: string (nullable = true)\n",
      " |-- gap: double (nullable = true)\n",
      " |-- dmin: double (nullable = true)\n",
      " |-- rms: double (nullable = true)\n",
      " |-- updated: timestamp (nullable = true)\n",
      " |-- place: string (nullable = true)\n",
      " |-- nst: double (nullable = true)\n",
      " |-- magNst: double (nullable = true)\n"
     ]
    }
   ],
   "source": [
    "df_final.printSchema()"
   ]
  },
  {
   "cell_type": "code",
   "execution_count": 47,
   "id": "8740c01c",
   "metadata": {
    "ExecuteTime": {
     "end_time": "2023-12-02T15:57:42.647639Z",
     "start_time": "2023-12-02T15:57:38.212774Z"
    }
   },
   "outputs": [
    {
     "name": "stderr",
     "output_type": "stream",
     "text": [
      "                                                                                \r"
     ]
    }
   ],
   "source": [
    "# Mi ricreo la matrice di correlazione per vedere i cambiamenti nelle correlazìoni dopo le varie imputazioni\n",
    "numeric_columns_remained = ['latitude', 'longitude', 'depth', 'mag', 'gap', 'dmin', 'rms', 'nst', 'magNst']\n",
    "df_selected = df_final.select(*numeric_columns_remained)\n",
    "\n",
    "assembler = VectorAssembler(inputCols=numeric_columns_remained, outputCol=\"features\")\n",
    "df_vector = assembler.transform(df_selected).select(\"features\")\n",
    "\n",
    "correlation_matrix = Correlation.corr(df_vector, \"features\").head()[0].toArray() \n",
    "pd_corr_matrix = pd.DataFrame(correlation_matrix, index=numeric_columns_remained, columns=numeric_columns_remained)"
   ]
  },
  {
   "cell_type": "code",
   "execution_count": 54,
   "id": "c22d41a7",
   "metadata": {
    "ExecuteTime": {
     "end_time": "2023-12-02T15:57:43.008641Z",
     "start_time": "2023-12-02T15:57:42.649007Z"
    }
   },
   "outputs": [
    {
     "data": {
      "image/png": "[encoded data removed]",
      "text/plain": [
       "<Figure size 1200x1000 with 2 Axes>"
      ]
     },
     "metadata": {},
     "output_type": "display_data"
    }
   ],
   "source": [
    "# Visualizzo la heatmap utilizzando Seaborn e Matplotlib\n",
    "plt.figure(figsize=(12, 10))  \n",
    "sns.heatmap(pd_corr_matrix, annot=True, fmt=\".2f\", square=True, cmap='Blues')\n",
    "plt.title(\"Heatmap della Matrice di Correlazione\")\n",
    "\n",
    "plt.tight_layout()  \n",
    "plt.savefig(images_path + 'correlation_matrix_after_imputation.png')\n",
    "plt.show()\n"
   ]
  },
  {
   "cell_type": "code",
   "execution_count": 49,
   "id": "54bce6640e63cdc0",
   "metadata": {
    "ExecuteTime": {
     "end_time": "2023-12-02T15:57:43.011953Z",
     "start_time": "2023-12-02T15:57:43.009220Z"
    }
   },
   "outputs": [
    {
     "name": "stdout",
     "output_type": "stream",
     "text": [
      "root\n",
      " |-- time: timestamp (nullable = true)\n",
      " |-- latitude: double (nullable = true)\n",
      " |-- longitude: double (nullable = true)\n",
      " |-- depth: double (nullable = true)\n",
      " |-- mag: double (nullable = true)\n",
      " |-- magType: string (nullable = true)\n",
      " |-- gap: double (nullable = true)\n",
      " |-- dmin: double (nullable = true)\n",
      " |-- rms: double (nullable = true)\n",
      " |-- updated: timestamp (nullable = true)\n",
      " |-- place: string (nullable = true)\n",
      " |-- nst: double (nullable = true)\n",
      " |-- magNst: double (nullable = true)\n"
     ]
    }
   ],
   "source": [
    "df_final.printSchema()"
   ]
  },
  {
   "cell_type": "code",
   "execution_count": 50,
   "id": "ecbed6c950a81a3d",
   "metadata": {},
   "outputs": [
    {
     "name": "stderr",
     "output_type": "stream",
     "text": [
      "[Stage 393:==========================================>              (6 + 2) / 8]\r"
     ]
    },
    {
     "name": "stdout",
     "output_type": "stream",
     "text": [
      "+--------------------+------------------+-------------------+------------------+----+-------+-----+--------------------+----+--------------------+--------------------+----+------+\n",
      "|                time|          latitude|          longitude|             depth| mag|magType|  gap|                dmin| rms|             updated|               place| nst|magNst|\n",
      "+--------------------+------------------+-------------------+------------------+----+-------+-----+--------------------+----+--------------------+--------------------+----+------+\n",
      "|1971-12-08 07:43:...|47.842833299999995|-119.62116670000002|             6.518| 1.6|     md|301.0|              0.4872|0.12|2016-07-25 01:51:...|          Washington| 7.0|   7.0|\n",
      "|1972-11-15 10:11:...|        46.8286667|           -119.473|1.3880000000000001| 0.9|     md|194.0|             0.03549|0.12|2016-07-25 01:57:...|          Washington| 8.0|   8.0|\n",
      "|1972-11-21 10:27:...|        34.0848333|-116.78233329999999|               6.0|2.83|     ml| 87.0|              0.5009|0.37|2016-01-29 02:45:...|19km N of Cabazon...| 9.0|   3.0|\n",
      "|1973-03-21 18:54:...|           33.5115|-118.55783329999998|               6.0| 3.0|  other|270.0|              0.7122|0.64|2016-01-29 02:16:...|28km NW of Avalon...| 4.0|  11.0|\n",
      "|1973-03-26 16:13:...|           34.2245|           -118.959|               6.0|2.73|     ml|160.0|              0.5802|0.57|2016-01-29 02:31:...|7km E of Camarill...| 9.0|   7.0|\n",
      "|1973-04-25 13:52:...|        46.4413333|          -119.2795|             0.723| 1.6|     md|105.0|             0.01374|0.22|2016-07-25 02:00:...|          Washington|12.0|  13.0|\n",
      "|1973-09-14 02:28:...|             32.72|-116.49583329999999|              7.06|2.58|     ml|155.0|              0.1539| 0.3|2016-01-29 02:27:...|12km SSE of Pine ...| 8.0|   2.0|\n",
      "|1973-09-29 10:26:...|           46.6855|-119.24283329999999|2.6719999999999997| 1.0|     md|113.0| 0.05612999999999999|0.12|2016-07-25 02:06:...|          Washington| 5.0|   5.0|\n",
      "|1973-11-02 21:29:...|        47.1888333|-122.31066670000001|            23.375| 1.6|     md|162.0|              0.3515|0.23|2016-07-25 02:07:...|Seattle-Tacoma ur...| 5.0|   5.0|\n",
      "|1974-01-11 01:56:...|           37.7915|           -121.955|              6.51| 0.9|     md| 78.0|            0.005405|0.09|2016-12-14 19:02:...|San Francisco Bay...|10.0|   4.0|\n",
      "|1974-01-13 13:44:...|37.496333299999996|-121.62533329999998|             9.435|0.64|     md|158.0|              0.0991|0.06|2016-12-14 19:03:...| Northern California| 5.0|   3.0|\n",
      "|1974-01-15 21:48:...|        36.9628333|-121.57866670000001|             6.563|2.07|     md| 59.0|0.007206999999999999|0.08|2016-12-14 19:05:...| Northern California|19.0|   7.0|\n",
      "|1974-03-02 04:05:...|        36.5951667|       -121.2051667|1.6159999999999999|2.13|     md| 97.0|             0.02342|0.06|2016-12-14 19:37:...|  Central California| 7.0|   3.0|\n",
      "|1974-03-11 08:44:...|        39.7891667|-120.56616670000001|             1.476| 1.6|     md|348.0|              0.3937|0.31|2016-12-14 19:43:...| Northern California| 4.0|   4.0|\n",
      "|1974-03-27 03:26:...|        37.3641667|-121.63516670000001|             6.317|0.97|     md|100.0|             0.02252|0.03|2016-12-14 19:55:...| Northern California| 8.0|   5.0|\n",
      "|1974-05-25 00:15:...|36.485833299999996|-121.05866670000002|5.1610000000000005|2.58|     md| 93.0|             0.02793|0.06|2016-12-14 20:34:...|  Central California|16.0|   5.0|\n",
      "|1974-06-17 04:56:...|        36.6403333|-121.26633329999999|             1.587| 1.4|     md| 83.0|0.027030000000000002|0.11|2016-12-14 20:57:...|  Central California|10.0|   3.0|\n",
      "|1974-06-21 10:19:...|36.578166700000004|-121.08533329999999|             7.371|3.43|     md| 43.0|             0.02793|0.09|2016-12-14 21:02:...|  Central California|44.0|   8.0|\n",
      "|1974-07-08 18:57:...|            36.746|          -121.3815| 7.492999999999999|3.13|     md| 40.0|             0.04775|0.08|2016-12-14 21:14:...|  Central California|29.0|  10.0|\n",
      "|1974-07-28 06:44:...|        36.6338333|-121.25783329999999|              9.88|1.22|     md| 55.0|             0.05045|0.03|2016-12-14 21:27:...|  Central California|10.0|   4.0|\n",
      "+--------------------+------------------+-------------------+------------------+----+-------+-----+--------------------+----+--------------------+--------------------+----+------+\n"
     ]
    },
    {
     "name": "stderr",
     "output_type": "stream",
     "text": [
      "\r",
      "                                                                                \r"
     ]
    }
   ],
   "source": [
    "df_final.show()"
   ]
  },
  {
   "cell_type": "code",
   "execution_count": 51,
   "id": "18fded85d305e7da",
   "metadata": {
    "ExecuteTime": {
     "end_time": "2023-12-02T15:59:36.445385Z",
     "start_time": "2023-12-02T15:59:33.886117Z"
    }
   },
   "outputs": [
    {
     "name": "stderr",
     "output_type": "stream",
     "text": [
      "                                                                                \r"
     ]
    },
    {
     "data": {
      "text/plain": [
       "2607588"
      ]
     },
     "execution_count": 51,
     "metadata": {},
     "output_type": "execute_result"
    }
   ],
   "source": [
    "df.count()"
   ]
  },
  {
   "cell_type": "code",
   "execution_count": 52,
   "id": "fc5b0168",
   "metadata": {
    "ExecuteTime": {
     "end_time": "2023-12-02T16:00:00.137079Z",
     "start_time": "2023-12-02T15:59:53.008555Z"
    }
   },
   "outputs": [
    {
     "name": "stderr",
     "output_type": "stream",
     "text": [
      "                                                                                \r"
     ]
    }
   ],
   "source": [
    "# Scrivo tutta la preparazione e pulizia del dataframe effettuata in un file .csv unico\n",
    "df_final.coalesce(1).write.format(\"csv\") \\\n",
    "    .option(\"header\", \"true\") \\\n",
    "    .mode(\"overwrite\") \\\n",
    "    .option(\"sep\", \",\") \\\n",
    "    .save(output_dataset_path)"
   ]
  },
  {
   "cell_type": "code",
   "execution_count": 53,
   "id": "830b4909",
   "metadata": {
    "ExecuteTime": {
     "end_time": "2023-12-02T16:00:03.351718Z",
     "start_time": "2023-12-02T16:00:03.079479Z"
    }
   },
   "outputs": [],
   "source": [
    "# Termino la sessione Spark rilasciando le risorse occupate\n",
    "spark.stop()"
   ]
  },
  {
   "cell_type": "code",
   "execution_count": null,
   "id": "ba22acf2",
   "metadata": {},
   "outputs": [],
   "source": [
    "# seguono due file sul clustering:\n",
    "# il primo, spark_clustering_exploartion.ipynb, utilizza 9 colonne per il clustering ed effettua \n",
    "# una analisi specifica di ogni gruppo in base alle statistiche (media di ogni cluster ecc...)\n",
    "\n",
    "# il secondo, spark_clustering_geographical.ipynb, è piu' un esercizio di stile \n",
    "# in cui, utilizzando solo latitudine e longitudine nella loro scala originale, è possibile \n",
    "# visualizzare i vari clusters direttamente sulla mappa mondiale ottenuta con Folium."
   ]
  }
 ],
 "metadata": {
  "kernelspec": {
   "display_name": "Python 3 (ipykernel)",
   "language": "python",
   "name": "python3"
  },
  "language_info": {
   "codemirror_mode": {
    "name": "ipython",
    "version": 3
   },
   "file_extension": ".py",
   "mimetype": "text/x-python",
   "name": "python",
   "nbconvert_exporter": "python",
   "pygments_lexer": "ipython3",
   "version": "3.11.5"
  }
 },
 "nbformat": 4,
 "nbformat_minor": 5
}
