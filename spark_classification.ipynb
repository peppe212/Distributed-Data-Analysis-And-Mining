{
 "cells": [
  {
   "cell_type": "markdown",
   "id": "3b38b90e927d47c7",
   "metadata": {},
   "source": [
    "**Author:** [Giuseppe Muschetta](https://github.com/peppe212)\n",
    "**Python version:** 3.11\n",
    "\n",
    "# CLASSIFICATION"
   ]
  },
  {
   "cell_type": "markdown",
   "id": "6efc251124f863b4",
   "metadata": {},
   "source": [
    "### We will classify earthquakes according to this:\n",
    "\n",
    "**Less Severe**: This category includes earthquakes that might be felt but rarely cause damage. \n",
    "It combines the original categories of \"Very Minor\", \"Minor\", \"Light\", and \"Moderate\". \n",
    "These earthquakes can cause noticeable shaking but typically do not lead to significant damage to buildings and other structures.\n",
    "\n",
    "**More Severe**: This category encompasses the original \"Strong\", \"Very Strong\", \"Major\", and \"Devastating\" classifications.\n",
    "Earthquakes in this category can cause serious damage in extensive areas. They are capable of causing severe damage in very wide areas, \n",
    "potentially affecting several hundreds or thousands of kilometers. \n",
    "These are the types of earthquakes that often lead to significant structural damage and can have far-reaching impacts.\n",
    "\n"
   ]
  },
  {
   "cell_type": "code",
   "execution_count": 1,
   "id": "7499263851c4ea77",
   "metadata": {
    "ExecuteTime": {
     "end_time": "2023-12-11T19:05:04.472036Z",
     "start_time": "2023-12-11T19:05:04.262440Z"
    }
   },
   "outputs": [],
   "source": [
    "from pyspark.sql import SparkSession\n",
    "from pyspark.ml import Pipeline\n",
    "from pyspark.sql.types import StringType, DoubleType\n",
    "from pyspark.ml.classification import DecisionTreeClassifier, RandomForestClassifier\n",
    "from pyspark.ml.evaluation import BinaryClassificationEvaluator, MulticlassClassificationEvaluator\n",
    "from pyspark.ml.tuning import CrossValidator, ParamGridBuilder\n",
    "from pyspark.mllib.evaluation import MulticlassMetrics\n",
    "from sklearn.metrics import roc_curve, auc\n",
    "# per visualizzare il decision tree usando totalmente spark\n",
    "import graphviz\n",
    "\n",
    "from pyspark.sql.functions import (\n",
    "    col,\n",
    "    udf,\n",
    "    unix_timestamp\n",
    ")\n",
    "\n",
    "from pyspark.ml.feature import (\n",
    "    StringIndexer, \n",
    "    OneHotEncoder, \n",
    "    VectorAssembler, \n",
    "    StandardScaler\n",
    ")"
   ]
  },
  {
   "cell_type": "code",
   "execution_count": 2,
   "outputs": [],
   "source": [
    "import matplotlib.pyplot as plt\n",
    "import seaborn as sns\n",
    "%matplotlib inline"
   ],
   "metadata": {
    "collapsed": false,
    "ExecuteTime": {
     "end_time": "2023-12-11T19:05:04.480424Z",
     "start_time": "2023-12-11T19:05:04.472581Z"
    }
   },
   "id": "1912d5468dfaa841"
  },
  {
   "cell_type": "code",
   "execution_count": 3,
   "id": "b966ef22605e6248",
   "metadata": {
    "ExecuteTime": {
     "end_time": "2023-12-11T19:05:04.485400Z",
     "start_time": "2023-12-11T19:05:04.480711Z"
    }
   },
   "outputs": [],
   "source": [
    "# CONFIGURAZIONE DEI VARI PATH\n",
    "input_dataset_path = \"./dataset/earthquakes_prepared_outliered_kmeans_labeled.csv\"\n",
    "images_path = \"./images/classification/\""
   ]
  },
  {
   "cell_type": "code",
   "execution_count": 4,
   "id": "9f5311cfa77edc57",
   "metadata": {
    "ExecuteTime": {
     "end_time": "2023-12-11T19:05:06.670603Z",
     "start_time": "2023-12-11T19:05:04.714042Z"
    }
   },
   "outputs": [
    {
     "name": "stderr",
     "output_type": "stream",
     "text": [
      "Setting default log level to \"WARN\".\n",
      "To adjust logging level use sc.setLogLevel(newLevel). For SparkR, use setLogLevel(newLevel).\n",
      "23/12/11 20:05:05 WARN NativeCodeLoader: Unable to load native-hadoop library for your platform... using builtin-java classes where applicable\n"
     ]
    },
    {
     "data": {
      "text/plain": "<pyspark.sql.session.SparkSession at 0x173d8ea50>",
      "text/html": "\n            <div>\n                <p><b>SparkSession - in-memory</b></p>\n                \n        <div>\n            <p><b>SparkContext</b></p>\n\n            <p><a href=\"http://mbpdigiuschetta.homenet.telecomitalia.it:4040\">Spark UI</a></p>\n\n            <dl>\n              <dt>Version</dt>\n                <dd><code>v3.4.1</code></dd>\n              <dt>Master</dt>\n                <dd><code>local[*]</code></dd>\n              <dt>AppName</dt>\n                <dd><code>Project</code></dd>\n            </dl>\n        </div>\n        \n            </div>\n        "
     },
     "execution_count": 4,
     "metadata": {},
     "output_type": "execute_result"
    }
   ],
   "source": [
    "# STARTING SPARK SESSION:\n",
    "\n",
    "spark = (SparkSession\n",
    "         .builder\n",
    "         .master('local[*]')  \n",
    "         .appName(\"Project\")\n",
    "         .config(\"spark.driver.memory\", \"4g\")  \n",
    "         .config(\"spark.executor.memory\", \"4g\")  \n",
    "         .config(\"spark.driver.maxResultSize\", \"2g\")  \n",
    "         #.config(\"spark.sql.repl.eagerEval.enabled\", \"True\")  \n",
    "         # Usa il garbage collector G1\n",
    "         .config(\"spark.executor.extraJavaOptions\", \"-XX:+UseG1GC\")  \n",
    "         .getOrCreate())\n",
    "\n",
    "# sopprime i fastidiosissimi warning\n",
    "spark.sparkContext.setLogLevel(\"ERROR\")\n",
    "\n",
    "spark"
   ]
  },
  {
   "cell_type": "code",
   "execution_count": 5,
   "id": "d63cfc97efe63c5b",
   "metadata": {
    "ExecuteTime": {
     "end_time": "2023-12-11T19:05:11.798177Z",
     "start_time": "2023-12-11T19:05:06.671985Z"
    }
   },
   "outputs": [
    {
     "name": "stderr",
     "output_type": "stream",
     "text": [
      "                                                                                \r"
     ]
    }
   ],
   "source": [
    "# Leggiamo il dataset cleaned contenente le etichette del clustering eseguito con k-means\n",
    "df = spark.read.option(\"escape\",\"\\\"\").csv(\n",
    "    input_dataset_path, \n",
    "    header=True, \n",
    "    inferSchema=True,\n",
    "    # timestampFormat=\"yyyy-MM-dd\" # per informare il parser circa il formato di timestamp\n",
    ")"
   ]
  },
  {
   "cell_type": "code",
   "execution_count": 6,
   "id": "db796d72e2e5c44b",
   "metadata": {
    "ExecuteTime": {
     "end_time": "2023-12-11T19:05:11.975618Z",
     "start_time": "2023-12-11T19:05:11.798394Z"
    }
   },
   "outputs": [
    {
     "name": "stdout",
     "output_type": "stream",
     "text": [
      "+--------------------+------------------+-------------------+------------------+----+-------+-----+--------------------+----+--------------------+--------------------+----+------+-------------+\n",
      "|                time|          latitude|          longitude|             depth| mag|magType|  gap|                dmin| rms|             updated|               place| nst|magNst|kmeans_labels|\n",
      "+--------------------+------------------+-------------------+------------------+----+-------+-----+--------------------+----+--------------------+--------------------+----+------+-------------+\n",
      "|1971-12-08 07:43:...|47.842833299999995|-119.62116670000002|             6.518| 1.6|     md|301.0|              0.4872|0.12|2016-07-25 01:51:...|          Washington| 7.0|   7.0|            5|\n",
      "|1972-11-15 10:11:...|        46.8286667|           -119.473|1.3880000000000001| 0.9|     md|194.0|             0.03549|0.12|2016-07-25 01:57:...|          Washington| 8.0|   8.0|            5|\n",
      "|1972-11-21 10:27:...|        34.0848333|-116.78233329999999|               6.0|2.83|     ml| 87.0|              0.5009|0.37|2016-01-29 02:45:...|19km N of Cabazon...| 9.0|   3.0|            0|\n",
      "|1973-03-21 18:54:...|           33.5115|-118.55783329999998|               6.0| 3.0|  other|270.0|              0.7122|0.64|2016-01-29 02:16:...|28km NW of Avalon...| 4.0|  11.0|            5|\n",
      "|1973-03-26 16:13:...|           34.2245|           -118.959|               6.0|2.73|     ml|160.0|              0.5802|0.57|2016-01-29 02:31:...|7km E of Camarill...| 9.0|   7.0|            5|\n",
      "|1973-04-25 13:52:...|        46.4413333|          -119.2795|             0.723| 1.6|     md|105.0|             0.01374|0.22|2016-07-25 02:00:...|          Washington|12.0|  13.0|            0|\n",
      "|1973-09-14 02:28:...|             32.72|-116.49583329999999|              7.06|2.58|     ml|155.0|              0.1539| 0.3|2016-01-29 02:27:...|12km SSE of Pine ...| 8.0|   2.0|            5|\n",
      "|1973-09-29 10:26:...|           46.6855|-119.24283329999999|2.6719999999999997| 1.0|     md|113.0| 0.05612999999999999|0.12|2016-07-25 02:06:...|          Washington| 5.0|   5.0|            0|\n",
      "|1973-11-02 21:29:...|        47.1888333|-122.31066670000001|            23.375| 1.6|     md|162.0|              0.3515|0.23|2016-07-25 02:07:...|Seattle-Tacoma ur...| 5.0|   5.0|            5|\n",
      "|1974-01-11 01:56:...|           37.7915|           -121.955|              6.51| 0.9|     md| 78.0|            0.005405|0.09|2016-12-14 19:02:...|San Francisco Bay...|10.0|   4.0|            0|\n",
      "|1974-01-13 13:44:...|37.496333299999996|-121.62533329999998|             9.435|0.64|     md|158.0|              0.0991|0.06|2016-12-14 19:03:...| Northern California| 5.0|   3.0|            5|\n",
      "|1974-01-15 21:48:...|        36.9628333|-121.57866670000001|             6.563|2.07|     md| 59.0|0.007206999999999999|0.08|2016-12-14 19:05:...| Northern California|19.0|   7.0|            0|\n",
      "|1974-03-02 04:05:...|        36.5951667|       -121.2051667|1.6159999999999999|2.13|     md| 97.0|             0.02342|0.06|2016-12-14 19:37:...|  Central California| 7.0|   3.0|            0|\n",
      "|1974-03-11 08:44:...|        39.7891667|-120.56616670000001|             1.476| 1.6|     md|348.0|              0.3937|0.31|2016-12-14 19:43:...| Northern California| 4.0|   4.0|            5|\n",
      "|1974-03-27 03:26:...|        37.3641667|-121.63516670000001|             6.317|0.97|     md|100.0|             0.02252|0.03|2016-12-14 19:55:...| Northern California| 8.0|   5.0|            0|\n",
      "|1974-05-25 00:15:...|36.485833299999996|-121.05866670000002|5.1610000000000005|2.58|     md| 93.0|             0.02793|0.06|2016-12-14 20:34:...|  Central California|16.0|   5.0|            0|\n",
      "|1974-06-17 04:56:...|        36.6403333|-121.26633329999999|             1.587| 1.4|     md| 83.0|0.027030000000000002|0.11|2016-12-14 20:57:...|  Central California|10.0|   3.0|            0|\n",
      "|1974-06-21 10:19:...|36.578166700000004|-121.08533329999999|             7.371|3.43|     md| 43.0|             0.02793|0.09|2016-12-14 21:02:...|  Central California|44.0|   8.0|            0|\n",
      "|1974-07-08 18:57:...|            36.746|          -121.3815| 7.492999999999999|3.13|     md| 40.0|             0.04775|0.08|2016-12-14 21:14:...|  Central California|29.0|  10.0|            0|\n",
      "|1974-07-28 06:44:...|        36.6338333|-121.25783329999999|              9.88|1.22|     md| 55.0|             0.05045|0.03|2016-12-14 21:27:...|  Central California|10.0|   4.0|            0|\n",
      "+--------------------+------------------+-------------------+------------------+----+-------+-----+--------------------+----+--------------------+--------------------+----+------+-------------+\n"
     ]
    }
   ],
   "source": [
    "df.show()"
   ]
  },
  {
   "cell_type": "code",
   "execution_count": 7,
   "id": "887b3c0f4a29fa72",
   "metadata": {
    "ExecuteTime": {
     "end_time": "2023-12-11T19:05:11.978086Z",
     "start_time": "2023-12-11T19:05:11.973529Z"
    }
   },
   "outputs": [
    {
     "name": "stdout",
     "output_type": "stream",
     "text": [
      "root\n",
      " |-- time: timestamp (nullable = true)\n",
      " |-- latitude: double (nullable = true)\n",
      " |-- longitude: double (nullable = true)\n",
      " |-- depth: double (nullable = true)\n",
      " |-- mag: double (nullable = true)\n",
      " |-- magType: string (nullable = true)\n",
      " |-- gap: double (nullable = true)\n",
      " |-- dmin: double (nullable = true)\n",
      " |-- rms: double (nullable = true)\n",
      " |-- updated: timestamp (nullable = true)\n",
      " |-- place: string (nullable = true)\n",
      " |-- nst: double (nullable = true)\n",
      " |-- magNst: double (nullable = true)\n",
      " |-- kmeans_labels: integer (nullable = true)\n"
     ]
    }
   ],
   "source": [
    "df.printSchema()"
   ]
  },
  {
   "cell_type": "markdown",
   "id": "af4e9706d5605484",
   "metadata": {},
   "source": [
    "## Preprocessing before classification"
   ]
  },
  {
   "cell_type": "code",
   "execution_count": 8,
   "id": "86a15d97f037ff6a",
   "metadata": {
    "ExecuteTime": {
     "end_time": "2023-12-11T19:05:25.785474Z",
     "start_time": "2023-12-11T19:05:24.542768Z"
    }
   },
   "outputs": [
    {
     "name": "stderr",
     "output_type": "stream",
     "text": [
      "/Users/peppe212/anaconda3/envs/distributed_data_analysis/lib/python3.11/site-packages/seaborn/_oldcore.py:1498: FutureWarning: is_categorical_dtype is deprecated and will be removed in a future version. Use isinstance(dtype, CategoricalDtype) instead\n",
      "  if pd.api.types.is_categorical_dtype(vector):\n",
      "/Users/peppe212/anaconda3/envs/distributed_data_analysis/lib/python3.11/site-packages/seaborn/_oldcore.py:1119: FutureWarning: use_inf_as_na option is deprecated and will be removed in a future version. Convert inf values to NaN before operating instead.\n",
      "  with pd.option_context('mode.use_inf_as_na', True):\n"
     ]
    },
    {
     "data": {
      "text/plain": "<Figure size 640x480 with 1 Axes>",
      "image/png": "[encoded data removed]"
     },
     "metadata": {},
     "output_type": "display_data"
    }
   ],
   "source": [
    "# plottiamo la distribuzione della variabile mag che andremo a discretizzare per la classificazione\n",
    "# trattasi di distribuzione bimodale, questo ci fa capire proprio come si distribuiscono \n",
    "# naturalmente le due tipologie di terremoti in base alla loro magnitudo.\n",
    "df_mag = df.select('mag').sample(0.01)\n",
    "df_pandas_mag = df_mag.toPandas()\n",
    "\n",
    "sns.histplot(df_pandas_mag, x='mag', kde=True)\n",
    "plt.savefig(images_path + 'mag_distribution.png')\n",
    "plt.show()"
   ]
  },
  {
   "cell_type": "code",
   "execution_count": 9,
   "id": "f2e03e7b02672830",
   "metadata": {
    "ExecuteTime": {
     "end_time": "2023-12-11T19:05:28.928160Z",
     "start_time": "2023-12-11T19:05:28.895778Z"
    }
   },
   "outputs": [],
   "source": [
    "# l'idea attuale è quella di discretizzare la colonna mag in due categorie con la seguente funzione:\n",
    "def categorize_magnitude(mag):\n",
    "    if mag < 3:\n",
    "        return \"Less Severe\"\n",
    "    else:\n",
    "        return \"More Severe\"\n",
    "\n",
    "# La funzione udf() di Spark converte la funzione Python categorize_magnitude in una UDF che può essere \n",
    "# utilizzata in un dataframe Spark. StringType() specifica che l'output dell'UDF sarà una stringa.\n",
    "mag_udf = udf(categorize_magnitude, StringType())\n",
    "# TRADUCO DALLA DOCUMENTAZIONE: Nel contesto di Apache Spark, StringType() è un tipo di dato utilizzato \n",
    "# per specificare il tipo di dati che ci si aspetta venga restituito da una User-Defined Function (UDF). \n",
    "# Quando definisci un'UDF in Spark, puoi opzionalmente specificare il tipo di ritorno. \n",
    "# Questo aiuta Spark a ottimizzare l'esecuzione e a gestire i dati in modo più efficace.\n",
    "\n",
    "# Applico la UDF al dataframe\n",
    "# Sostanzialmente crea una nuova colonna chiamata 'mag_class' e applica la udf ad ogni elemento della colonna mag\n",
    "# Per ogni valore della colonna mag avremo la categorizzazione appropriata.\n",
    "df = df.withColumn(\"mag_class\", mag_udf(df[\"mag\"]))"
   ]
  },
  {
   "cell_type": "code",
   "execution_count": 10,
   "id": "eafb0428b6b11cef",
   "metadata": {
    "ExecuteTime": {
     "end_time": "2023-12-11T19:05:30.136353Z",
     "start_time": "2023-12-11T19:05:29.520042Z"
    }
   },
   "outputs": [
    {
     "name": "stdout",
     "output_type": "stream",
     "text": [
      "+--------------------+------------------+-------------------+------------------+----+-------+-----+--------------------+----+--------------------+--------------------+----+------+-------------+-----------+\n",
      "|                time|          latitude|          longitude|             depth| mag|magType|  gap|                dmin| rms|             updated|               place| nst|magNst|kmeans_labels|  mag_class|\n",
      "+--------------------+------------------+-------------------+------------------+----+-------+-----+--------------------+----+--------------------+--------------------+----+------+-------------+-----------+\n",
      "|1971-12-08 07:43:...|47.842833299999995|-119.62116670000002|             6.518| 1.6|     md|301.0|              0.4872|0.12|2016-07-25 01:51:...|          Washington| 7.0|   7.0|            5|Less Severe|\n",
      "|1972-11-15 10:11:...|        46.8286667|           -119.473|1.3880000000000001| 0.9|     md|194.0|             0.03549|0.12|2016-07-25 01:57:...|          Washington| 8.0|   8.0|            5|Less Severe|\n",
      "|1972-11-21 10:27:...|        34.0848333|-116.78233329999999|               6.0|2.83|     ml| 87.0|              0.5009|0.37|2016-01-29 02:45:...|19km N of Cabazon...| 9.0|   3.0|            0|Less Severe|\n",
      "|1973-03-21 18:54:...|           33.5115|-118.55783329999998|               6.0| 3.0|  other|270.0|              0.7122|0.64|2016-01-29 02:16:...|28km NW of Avalon...| 4.0|  11.0|            5|More Severe|\n",
      "|1973-03-26 16:13:...|           34.2245|           -118.959|               6.0|2.73|     ml|160.0|              0.5802|0.57|2016-01-29 02:31:...|7km E of Camarill...| 9.0|   7.0|            5|Less Severe|\n",
      "|1973-04-25 13:52:...|        46.4413333|          -119.2795|             0.723| 1.6|     md|105.0|             0.01374|0.22|2016-07-25 02:00:...|          Washington|12.0|  13.0|            0|Less Severe|\n",
      "|1973-09-14 02:28:...|             32.72|-116.49583329999999|              7.06|2.58|     ml|155.0|              0.1539| 0.3|2016-01-29 02:27:...|12km SSE of Pine ...| 8.0|   2.0|            5|Less Severe|\n",
      "|1973-09-29 10:26:...|           46.6855|-119.24283329999999|2.6719999999999997| 1.0|     md|113.0| 0.05612999999999999|0.12|2016-07-25 02:06:...|          Washington| 5.0|   5.0|            0|Less Severe|\n",
      "|1973-11-02 21:29:...|        47.1888333|-122.31066670000001|            23.375| 1.6|     md|162.0|              0.3515|0.23|2016-07-25 02:07:...|Seattle-Tacoma ur...| 5.0|   5.0|            5|Less Severe|\n",
      "|1974-01-11 01:56:...|           37.7915|           -121.955|              6.51| 0.9|     md| 78.0|            0.005405|0.09|2016-12-14 19:02:...|San Francisco Bay...|10.0|   4.0|            0|Less Severe|\n",
      "|1974-01-13 13:44:...|37.496333299999996|-121.62533329999998|             9.435|0.64|     md|158.0|              0.0991|0.06|2016-12-14 19:03:...| Northern California| 5.0|   3.0|            5|Less Severe|\n",
      "|1974-01-15 21:48:...|        36.9628333|-121.57866670000001|             6.563|2.07|     md| 59.0|0.007206999999999999|0.08|2016-12-14 19:05:...| Northern California|19.0|   7.0|            0|Less Severe|\n",
      "|1974-03-02 04:05:...|        36.5951667|       -121.2051667|1.6159999999999999|2.13|     md| 97.0|             0.02342|0.06|2016-12-14 19:37:...|  Central California| 7.0|   3.0|            0|Less Severe|\n",
      "|1974-03-11 08:44:...|        39.7891667|-120.56616670000001|             1.476| 1.6|     md|348.0|              0.3937|0.31|2016-12-14 19:43:...| Northern California| 4.0|   4.0|            5|Less Severe|\n",
      "|1974-03-27 03:26:...|        37.3641667|-121.63516670000001|             6.317|0.97|     md|100.0|             0.02252|0.03|2016-12-14 19:55:...| Northern California| 8.0|   5.0|            0|Less Severe|\n",
      "|1974-05-25 00:15:...|36.485833299999996|-121.05866670000002|5.1610000000000005|2.58|     md| 93.0|             0.02793|0.06|2016-12-14 20:34:...|  Central California|16.0|   5.0|            0|Less Severe|\n",
      "|1974-06-17 04:56:...|        36.6403333|-121.26633329999999|             1.587| 1.4|     md| 83.0|0.027030000000000002|0.11|2016-12-14 20:57:...|  Central California|10.0|   3.0|            0|Less Severe|\n",
      "|1974-06-21 10:19:...|36.578166700000004|-121.08533329999999|             7.371|3.43|     md| 43.0|             0.02793|0.09|2016-12-14 21:02:...|  Central California|44.0|   8.0|            0|More Severe|\n",
      "|1974-07-08 18:57:...|            36.746|          -121.3815| 7.492999999999999|3.13|     md| 40.0|             0.04775|0.08|2016-12-14 21:14:...|  Central California|29.0|  10.0|            0|More Severe|\n",
      "|1974-07-28 06:44:...|        36.6338333|-121.25783329999999|              9.88|1.22|     md| 55.0|             0.05045|0.03|2016-12-14 21:27:...|  Central California|10.0|   4.0|            0|Less Severe|\n",
      "+--------------------+------------------+-------------------+------------------+----+-------+-----+--------------------+----+--------------------+--------------------+----+------+-------------+-----------+\n"
     ]
    }
   ],
   "source": [
    "df.show()"
   ]
  },
  {
   "cell_type": "code",
   "execution_count": 11,
   "id": "fc0582b7e3177f4c",
   "metadata": {
    "ExecuteTime": {
     "end_time": "2023-12-11T19:05:39.982633Z",
     "start_time": "2023-12-11T19:05:38.224448Z"
    }
   },
   "outputs": [
    {
     "name": "stderr",
     "output_type": "stream",
     "text": [
      "[Stage 5:>                                                          (0 + 8) / 8]\r"
     ]
    },
    {
     "name": "stdout",
     "output_type": "stream",
     "text": [
      "+-----------+-------+\n",
      "|  mag_class|  count|\n",
      "+-----------+-------+\n",
      "|Less Severe|2148488|\n",
      "|More Severe| 459068|\n",
      "+-----------+-------+\n"
     ]
    },
    {
     "name": "stderr",
     "output_type": "stream",
     "text": [
      "                                                                                \r"
     ]
    }
   ],
   "source": [
    "# Conto il numero di terremoti in ogni categoria\n",
    "category_counts = df.groupBy(\"mag_class\").count().orderBy(col(\"count\").desc())\n",
    "category_counts.show()\n",
    "\n",
    "# Notiamo uno sbilanciamento della classe piu' rara (\"More severe\") che codificheremo con 1\n",
    "# il che è positivo perchè rende le cose piu' frizzanti, infatti avendo classi sbilanciate \n",
    "# l'accuracy da sola non servirà piu' univocamente a determinare la bontà del modello.\n",
    "# Concetti come precision (soprattutto nel nostro caso nel predire terremoti potenzialmente pericolosi), \n",
    "# recall e la loro media armonica F1_score acquisiscono una notevole importanza.\n",
    "# La confusion matrix ci darà informazioni sui FN, FP, TN e TP e la ROC Curve ci darà ulteriori \n",
    "# informazioni circa la buona riuscita del modello che andremo a creare con un singolo DT e una Foresta di DT."
   ]
  },
  {
   "cell_type": "code",
   "execution_count": 12,
   "id": "d3afcd125212a95b",
   "metadata": {
    "ExecuteTime": {
     "end_time": "2023-12-11T19:05:40.731807Z",
     "start_time": "2023-12-11T19:05:39.983279Z"
    }
   },
   "outputs": [
    {
     "name": "stdout",
     "output_type": "stream",
     "text": [
      "+-------------+-------+\n",
      "|kmeans_labels|  count|\n",
      "+-------------+-------+\n",
      "|            1| 199238|\n",
      "|            6|   4612|\n",
      "|            3|  25368|\n",
      "|            5| 472058|\n",
      "|            4| 469400|\n",
      "|            7| 169897|\n",
      "|            2|  38944|\n",
      "|            0|1228039|\n",
      "+-------------+-------+\n"
     ]
    },
    {
     "name": "stderr",
     "output_type": "stream",
     "text": [
      "                                                                                \r"
     ]
    }
   ],
   "source": [
    "# Raggruppo per la colonna 'kmeans_labels' e conta le occorrenze\n",
    "conteggio = df.groupBy(\"kmeans_labels\").count()\n",
    "conteggio.show()"
   ]
  },
  {
   "cell_type": "code",
   "execution_count": 13,
   "id": "fb62784bb0cc9a38",
   "metadata": {
    "ExecuteTime": {
     "end_time": "2023-12-11T19:05:50.934813Z",
     "start_time": "2023-12-11T19:05:50.887479Z"
    }
   },
   "outputs": [],
   "source": [
    "# Converto le colonne 'time' e 'updated' in timestamp Unix, cioè il tempo in secondi trascorsi dal 1970\n",
    "df = df.withColumn(\"time_unix\", unix_timestamp(\"time\"))\n",
    "df = df.withColumn(\"updated_unix\", unix_timestamp(\"updated\"))\n",
    "\n",
    "# elimino le colonne originali time e updated\n",
    "df = df.drop('time', 'updated')\n",
    "\n",
    "# rinomino le colonne 'time_unix' e 'time_updated' in quelle originali 'time' e 'updated'\n",
    "df = df.withColumnRenamed(\"time_unix\", \"time\")\n",
    "df = df.withColumnRenamed(\"updated_unix\", \"updated\")"
   ]
  },
  {
   "cell_type": "code",
   "execution_count": 14,
   "id": "1129c2d82b4b519d",
   "metadata": {
    "ExecuteTime": {
     "end_time": "2023-12-11T19:05:51.934348Z",
     "start_time": "2023-12-11T19:05:51.828574Z"
    }
   },
   "outputs": [
    {
     "name": "stdout",
     "output_type": "stream",
     "text": [
      "+------------------+-------------------+------------------+----+-------+-----+-------------------+----+--------------------+----+------+-------------+-----------+---------+----------+\n",
      "|          latitude|          longitude|             depth| mag|magType|  gap|               dmin| rms|               place| nst|magNst|kmeans_labels|  mag_class|     time|   updated|\n",
      "+------------------+-------------------+------------------+----+-------+-----+-------------------+----+--------------------+----+------+-------------+-----------+---------+----------+\n",
      "|47.842833299999995|-119.62116670000002|             6.518| 1.6|     md|301.0|             0.4872|0.12|          Washington| 7.0|   7.0|            5|Less Severe| 61022586|1469404317|\n",
      "|        46.8286667|           -119.473|1.3880000000000001| 0.9|     md|194.0|            0.03549|0.12|          Washington| 8.0|   8.0|            5|Less Severe| 90666668|1469404671|\n",
      "|        34.0848333|-116.78233329999999|               6.0|2.83|     ml| 87.0|             0.5009|0.37|19km N of Cabazon...| 9.0|   3.0|            0|Less Severe| 91186021|1454031938|\n",
      "|           33.5115|-118.55783329999998|               6.0| 3.0|  other|270.0|             0.7122|0.64|28km NW of Avalon...| 4.0|  11.0|            5|More Severe|101584479|1454030194|\n",
      "|           34.2245|           -118.959|               6.0|2.73|     ml|160.0|             0.5802|0.57|7km E of Camarill...| 9.0|   7.0|            5|Less Severe|102006807|1454031082|\n",
      "|        46.4413333|          -119.2795|             0.723| 1.6|     md|105.0|            0.01374|0.22|          Washington|12.0|  13.0|            0|Less Severe|104590336|1469404850|\n",
      "|             32.72|-116.49583329999999|              7.06|2.58|     ml|155.0|             0.1539| 0.3|12km SSE of Pine ...| 8.0|   2.0|            5|Less Severe|116814481|1454030830|\n",
      "|           46.6855|-119.24283329999999|2.6719999999999997| 1.0|     md|113.0|0.05612999999999999|0.12|          Washington| 5.0|   5.0|            0|Less Severe|118139214|1469405171|\n",
      "|        47.1888333|-122.31066670000001|            23.375| 1.6|     md|162.0|             0.3515|0.23|Seattle-Tacoma ur...| 5.0|   5.0|            5|Less Severe|121120149|1469405236|\n",
      "|           37.7915|           -121.955|              6.51| 0.9|     md| 78.0|           0.005405|0.09|San Francisco Bay...|10.0|   4.0|            0|Less Severe|127097805|1481738543|\n",
      "+------------------+-------------------+------------------+----+-------+-----+-------------------+----+--------------------+----+------+-------------+-----------+---------+----------+\n"
     ]
    }
   ],
   "source": [
    "df.show(10)"
   ]
  },
  {
   "cell_type": "code",
   "execution_count": 15,
   "id": "203ea19ccd1c276b",
   "metadata": {
    "ExecuteTime": {
     "end_time": "2023-12-11T19:05:58.400308Z",
     "start_time": "2023-12-11T19:05:52.827579Z"
    }
   },
   "outputs": [
    {
     "name": "stderr",
     "output_type": "stream",
     "text": [
      "                                                                                \r"
     ]
    }
   ],
   "source": [
    "# Continuiamo a fare il preprocessing del dataframe per i modelli di machine learning che seguiranno\n",
    "\n",
    "# Colonne categoriche e numeriche da usare per la classificazione e da inserire poi nel vector assembler\n",
    "# sottoforma di colonna 'features' che le racchiuderà tutte.\n",
    "categorical_cols = ['magType', 'kmeans_labels']\n",
    "numerical_cols = ['latitude', 'longitude', 'depth', 'gap', 'dmin', 'rms', 'nst', 'magNst', 'time', 'updated']\n",
    "\n",
    "# Elenco di StringIndexer per le variabili categoriche\n",
    "# Lo StringIndexer indicizza le variabili categoriche, poi se esse sono nominale si fa la OHE\n",
    "# Se esse sono ordinali, ergo vi è un ordine intrinseco tra loro, allora non si fa la OHE\n",
    "# Nel nostro caso sia magType che le etichette del clustering non sono ordinali, ergo verranno OHEed\n",
    "indexers = [StringIndexer(inputCol=col, outputCol=col + \"_indexed\") for col in categorical_cols]\n",
    "\n",
    "# Elenco di OneHotEncoders per le variabili categoriche nominali indicizzate\n",
    "encoders = [OneHotEncoder(inputCol=idx.getOutputCol(), outputCol=idx.getOutputCol() + \"_ohe\") for idx in indexers]\n",
    "\n",
    "assembler = VectorAssembler(inputCols=numerical_cols, outputCol=\"numerical_features\")\n",
    "scaler = StandardScaler(inputCol=\"numerical_features\", outputCol=\"scaled_numerical_features\")\n",
    "\n",
    "\n",
    "assemblerInputs = [e.getOutputCol() for e in encoders] + [\"scaled_numerical_features\"]\n",
    "final_assembler = VectorAssembler(inputCols=assemblerInputs, outputCol=\"features\")\n",
    "\n",
    "# Creo una pipeline che include gli indexers, gli encoders, il VectorAssembler per le numeriche, \n",
    "# lo scaler e il VectorAssembler finale\n",
    "pipeline = Pipeline(stages=indexers + encoders + [assembler, scaler, final_assembler])\n",
    "\n",
    "# Applico il preprocessing\n",
    "df_transformed = pipeline.fit(df).transform(df)\n",
    "\n",
    "# Dobbiamo adesso trasformare la colonna target e mappare a interi le sue categorie tramite StringIndexer\n",
    "# Trasformazione della colonna target 'mag_class' in valori interi\n",
    "target_indexer = StringIndexer(inputCol='mag_class', outputCol='mag_class_indexed')\n",
    "df_final = target_indexer.fit(df_transformed).transform(df_transformed)\n",
    "\n",
    "# droppiamo le colonne inutili ai fini della classificazione\n",
    "# Elenco delle colonne da rimuovere:\n",
    "columns_to_drop = ['magType_indexed', 'kmeans_labels_indexed', 'magType_indexed_ohe', \n",
    "                   'kmeans_labels_indexed_ohe', 'numerical_features', 'scaled_numerical_features']\n",
    "\n",
    "df_final = df_final.drop(*columns_to_drop)\n",
    "\n",
    "df_final = df_final.withColumnRenamed('mag_class', 'mag_categories')\n",
    "\n",
    "df_final = df_final.withColumnRenamed('mag_class_indexed', 'class')\n",
    "\n",
    "# lo stringindexer mappa le categorie dalla piu' frequente che prende zero alla piu' rara che prende il valore piu' alto, \n",
    "# in questo caso 1 per i terremoti con magnitudo piu' alta"
   ]
  },
  {
   "cell_type": "code",
   "execution_count": 16,
   "id": "f12ef0f889f3954b",
   "metadata": {
    "ExecuteTime": {
     "end_time": "2023-12-11T19:05:58.645914Z",
     "start_time": "2023-12-11T19:05:58.401029Z"
    }
   },
   "outputs": [
    {
     "name": "stdout",
     "output_type": "stream",
     "text": [
      "+------------------+-------------------+------------------+----+-------+-----+--------------------+----+-------------------------------------+----+------+-------------+--------------+---------+----------+------------------------------------------------------------------------------------------------------------------------------------------------------------------------------------------------------------------------------------------+-----+\n",
      "|latitude          |longitude          |depth             |mag |magType|gap  |dmin                |rms |place                                |nst |magNst|kmeans_labels|mag_categories|time     |updated   |features                                                                                                                                                                                                                                  |class|\n",
      "+------------------+-------------------+------------------+----+-------+-----+--------------------+----+-------------------------------------+----+------+-------------+--------------+---------+----------+------------------------------------------------------------------------------------------------------------------------------------------------------------------------------------------------------------------------------------------+-----+\n",
      "|47.842833299999995|-119.62116670000002|6.518             |1.6 |md     |301.0|0.4872              |0.12|Washington                           |7.0 |7.0   |5            |Less Severe   |61022586 |1469404317|[1.0,0.0,0.0,1.0,0.0,0.0,0.0,0.0,0.0,2.4747438325228743,-1.5004401289091451,0.11268881388039284,5.2110374456067206,0.43418510140912225,0.3238285846218225,0.26797348469008814,0.35397532063276516,0.1706782913490133,35.069082313675004]  |0.0  |\n",
      "|46.8286667        |-119.473           |1.3880000000000001|0.9 |md     |194.0|0.03549             |0.12|Washington                           |8.0 |8.0   |5            |Less Severe   |90666668 |1469404671|[1.0,0.0,0.0,1.0,0.0,0.0,0.0,0.0,0.0,2.4222845117555845,-1.498581634559181,0.023996942876033336,3.3586088519857267,0.031628138852647265,0.3238285846218225,0.3062554110743864,0.40454322358030304,0.25359187459784577,35.069090762306196] |0.0  |\n",
      "|34.0848333        |-116.78233329999999|6.0               |2.83|ml     |87.0 |0.5009              |0.37|19km N of Cabazon, CA                |9.0 |3.0   |0            |Less Severe   |91186021 |1454031938|[0.0,1.0,1.0,0.0,0.0,0.0,0.0,0.0,0.0,1.763090209620702,-1.4648318860692293,0.10373318246123919,1.5061802583647332,0.44639432942493706,0.9984714692506195,0.3445373374586847,0.15170370884261364,0.2550444889240722,34.70220219887539]     |0.0  |\n",
      "|33.5115           |-118.55783329999998|6.0               |3.0 |other  |270.0|0.7122              |0.64|28km NW of Avalon, CA                |4.0 |11.0  |5            |More Severe   |101584479|1454030194|(19,[3,9,10,11,12,13,14,15,16,17,18],[1.0,1.733433666513022,-1.4871024550861607,0.10373318246123919,4.674352525959517,0.6347016199170297,1.7270857846497203,0.1531277055371932,0.5562469324229167,0.2841286553031319,34.70216057624039])  |1.0  |\n",
      "|34.2245           |-118.959           |6.0               |2.73|ml     |160.0|0.5802              |0.57|7km E of Camarillo, CA               |9.0 |7.0   |5            |Less Severe   |102006807|1454031082|[0.0,1.0,0.0,1.0,0.0,0.0,0.0,0.0,0.0,1.7703146836033876,-1.4921343957674589,0.10373318246123919,2.7699866820500842,0.5170652623923907,1.5381857769536569,0.3445373374586847,0.35397532063276516,0.28530989369622206,34.70218176941693]    |0.0  |\n",
      "|46.4413333        |-119.2795          |0.723             |1.6 |md     |105.0|0.01374             |0.22|Washington                           |12.0|13.0  |0            |Less Severe   |104590336|1469404850|[1.0,0.0,1.0,0.0,0.0,0.0,0.0,0.0,0.0,2.40224909836839,-1.4961545125626863,0.012499848486579323,1.8178037600953676,0.012244875396882881,0.5936857384733413,0.4593831166115796,0.6573827383179924,0.2925359446434996,35.06909503435417]     |0.0  |\n",
      "|32.72             |-116.49583329999999|7.06              |2.58|ml     |155.0|0.1539              |0.3 |12km SSE of Pine Valley, CA          |8.0 |2.0   |5            |Less Severe   |116814481|1454030830|[0.0,1.0,0.0,1.0,0.0,0.0,0.0,0.0,0.0,1.6924921166854985,-1.4612382403224815,0.12205937802939146,2.683424598236019,0.1371532986594087,0.8095714615545563,0.3062554110743864,0.10113580589507576,0.32672650126465924,34.7021757551371]      |0.0  |\n",
      "|46.6855           |-119.24283329999999|2.6719999999999997|1.0 |md     |113.0|0.05612999999999999 |0.12|Washington                           |5.0 |5.0   |0            |Less Severe   |118139214|1469405171|[1.0,0.0,1.0,0.0,0.0,0.0,0.0,0.0,0.0,2.414878994912006,-1.495694592386413,0.04619584392273852,1.9563030941978719,0.050022187483772636,0.3238285846218225,0.19140963192149152,0.2528395147376894,0.3304317386161811,35.06910269540109]     |0.0  |\n",
      "|47.1888333        |-122.31066670000001|23.375            |1.6 |md     |162.0|0.3515              |0.23|Seattle-Tacoma urban area, Washington|5.0 |5.0   |5            |Less Severe   |121120149|1469405236|[1.0,0.0,0.0,1.0,0.0,0.0,0.0,0.0,0.0,2.440914680801838,-1.5341752431705005,0.4041271900052444,2.80461151557571,0.31325136113568647,0.6206714538584932,0.19140963192149152,0.2528395147376894,0.33876932189104375,35.069104246703425]      |0.0  |\n",
      "|37.7915           |-121.955           |6.51              |0.9 |md     |78.0 |0.005405            |0.09|San Francisco Bay area, California   |10.0|4.0   |0            |Less Severe   |127097805|1481738543|[1.0,0.0,1.0,0.0,0.0,0.0,0.0,0.0,0.0,1.9548232221185824,-1.529714021098197,0.11255050297044453,1.350368507499416,0.004816852366823288,0.24287143846636688,0.38281926384298304,0.20227161179015152,0.35548864139599196,35.36345329235335]  |0.0  |\n",
      "|37.496333299999996|-121.62533329999998|9.435             |0.64|md     |158.0|0.0991              |0.06|Northern California                  |5.0 |3.0   |5            |Less Severe   |127313052|1481738639|[1.0,0.0,0.0,1.0,0.0,0.0,0.0,0.0,0.0,1.9395552724591056,-1.5255789239453195,0.16312042942029864,2.735361848524458,0.08831638659614945,0.16191429231091126,0.19140963192149152,0.15170370884261364,0.3560906806176336,35.363455583507566]  |0.0  |\n",
      "|36.9628333        |-121.57866670000001|6.563             |2.07|md     |59.0 |0.007206999999999999|0.08|Northern California                  |19.0|7.0   |0            |Less Severe   |127514931|1481738758|[1.0,0.0,1.0,0.0,0.0,0.0,0.0,0.0,0.0,1.9119591678059362,-1.5249935723620556,0.11346681274885213,1.0214325890059686,0.00642276688393995,0.21588572308121504,0.7273566013016678,0.35397532063276516,0.35665532995549104,35.363458423584156] |0.0  |\n",
      "|36.5951667        |-121.2051667       |1.6159999999999999|2.13|md     |97.0 |0.02342             |0.06|Central California                   |7.0 |3.0   |0            |Less Severe   |131425525|1481740653|[1.0,0.0,1.0,0.0,0.0,0.0,0.0,0.0,0.0,1.892941049772056,-1.520308662461845,0.027938803809560424,1.6793044259928633,0.02087154161535641,0.16191429231091126,0.26797348469008814,0.15170370884261364,0.3675931407863808,35.36350365001381]   |0.0  |\n",
      "|39.7891667        |-120.56616670000001|1.476             |1.6 |md     |348.0|0.3937              |0.31|Northern California                  |4.0 |4.0   |5            |Less Severe   |132219840|1481741004|[1.0,0.0,0.0,1.0,0.0,0.0,0.0,0.0,0.0,2.0581555919692898,-1.5122935154036536,0.025518362885464843,6.024721033458933,0.3508593481625029,0.8365571769397082,0.1531277055371932,0.20227161179015152,0.36981481534787664,35.36351202704643]    |0.0  |\n",
      "|37.3641667        |-121.63516670000001|6.317             |0.97|md     |100.0|0.02252             |0.03|Northern California                  |8.0 |5.0   |0            |Less Severe   |133583179|1481741752|[1.0,0.0,1.0,0.0,0.0,0.0,0.0,0.0,0.0,1.9327187526366998,-1.5257022668984999,0.10921375226794135,1.7312416762813025,0.020069475541324776,0.08095714615545563,0.3062554110743864,0.2528395147376894,0.3736280324909435,35.3635298789564]    |0.0  |\n",
      "|36.485833299999996|-121.05866670000002|5.1610000000000005|2.58|md     |93.0 |0.02793             |0.06|Central California                   |16.0|5.0   |0            |Less Severe   |138669357|1481744092|[1.0,0.0,1.0,0.0,0.0,0.0,0.0,0.0,0.0,1.8872856121928863,-1.518471073973543,0.08922782578040926,1.6100547589416114,0.024890783830781575,0.16191429231091126,0.6125108221487728,0.2528395147376894,0.3878539155195149,35.363585725840515]   |0.0  |\n",
      "|36.6403333        |-121.26633329999999|1.587             |1.4 |md     |83.0 |0.027030000000000002|0.11|Central California                   |10.0|3.0   |0            |Less Severe   |140669812|1481745464|[1.0,0.0,1.0,0.0,0.0,0.0,0.0,0.0,0.0,1.8952773613379938,-1.5210758914040194,0.02743742676099777,1.436930591313481,0.024088717756749947,0.29684286923667064,0.38281926384298304,0.15170370884261364,0.39344912646846736,35.363618470252916]|0.0  |\n",
      "|36.578166700000004|-121.08533329999999|7.371             |3.43|md     |43.0 |0.02793             |0.09|Central California                   |44.0|8.0   |0            |More Severe   |141034773|1481745725|[1.0,0.0,1.0,0.0,0.0,0.0,0.0,0.0,0.0,1.892061698733436,-1.5188055602341717,0.12743621465363236,0.74443392080096,0.024890783830781575,0.24287143846636688,1.6844047609091253,0.40454322358030304,0.39446991113152685,35.36362469932845]    |1.0  |\n",
      "|36.746            |-121.3815          |7.492999999999999 |3.13|md     |40.0 |0.04775             |0.08|Central California                   |29.0|10.0  |0            |More Severe   |142534628|1481746464|[1.0,0.0,1.0,0.0,0.0,0.0,0.0,0.0,0.0,1.9007431332434392,-1.5225204579716356,0.1295454560303442,0.6924966705125211,0.042554061150011466,0.21588572308121504,1.1101758651446507,0.5056790294753788,0.39866495931698515,35.36364233644271]   |1.0  |\n",
      "|36.6338333        |-121.25783329999999|9.88              |1.22|md     |55.0 |0.05045             |0.03|Central California                   |10.0|4.0   |0            |Less Severe   |144218645|1481747250|[1.0,0.0,1.0,0.0,0.0,0.0,0.0,0.0,0.0,1.8949411388820507,-1.5209692736418994,0.17081397378617388,0.9521829219547164,0.044960259372106355,0.08095714615545563,0.38281926384298304,0.20227161179015152,0.40337510293762247,35.36366109526789]|0.0  |\n",
      "+------------------+-------------------+------------------+----+-------+-----+--------------------+----+-------------------------------------+----+------+-------------+--------------+---------+----------+------------------------------------------------------------------------------------------------------------------------------------------------------------------------------------------------------------------------------------------+-----+\n"
     ]
    }
   ],
   "source": [
    "df_final.show(truncate=False)"
   ]
  },
  {
   "cell_type": "code",
   "execution_count": 17,
   "id": "7275b702a999db7",
   "metadata": {
    "ExecuteTime": {
     "end_time": "2023-12-11T19:05:58.651941Z",
     "start_time": "2023-12-11T19:05:58.646084Z"
    }
   },
   "outputs": [
    {
     "name": "stdout",
     "output_type": "stream",
     "text": [
      "root\n",
      " |-- latitude: double (nullable = true)\n",
      " |-- longitude: double (nullable = true)\n",
      " |-- depth: double (nullable = true)\n",
      " |-- mag: double (nullable = true)\n",
      " |-- magType: string (nullable = true)\n",
      " |-- gap: double (nullable = true)\n",
      " |-- dmin: double (nullable = true)\n",
      " |-- rms: double (nullable = true)\n",
      " |-- place: string (nullable = true)\n",
      " |-- nst: double (nullable = true)\n",
      " |-- magNst: double (nullable = true)\n",
      " |-- kmeans_labels: integer (nullable = true)\n",
      " |-- mag_categories: string (nullable = true)\n",
      " |-- time: long (nullable = true)\n",
      " |-- updated: long (nullable = true)\n",
      " |-- features: vector (nullable = true)\n",
      " |-- class: double (nullable = false)\n"
     ]
    }
   ],
   "source": [
    "# questo è il dataframe pronto per la classificazione con algoritmi di tipo decision tree o foreste:\n",
    "df_final.printSchema()"
   ]
  },
  {
   "cell_type": "code",
   "execution_count": 18,
   "id": "13a61351f11c4138",
   "metadata": {
    "ExecuteTime": {
     "end_time": "2023-12-11T19:05:58.879583Z",
     "start_time": "2023-12-11T19:05:58.650017Z"
    }
   },
   "outputs": [
    {
     "data": {
      "text/plain": "2607556"
     },
     "execution_count": 18,
     "metadata": {},
     "output_type": "execute_result"
    }
   ],
   "source": [
    "df_final.count()"
   ]
  },
  {
   "cell_type": "markdown",
   "id": "f6431c7e873758ce",
   "metadata": {},
   "source": [
    "### CLASSIFICATION WITH A DECISION TREE CLASSIFIER:"
   ]
  },
  {
   "cell_type": "code",
   "execution_count": 19,
   "id": "169db5bd5c6041bc",
   "metadata": {
    "ExecuteTime": {
     "end_time": "2023-12-11T19:07:48.222503Z",
     "start_time": "2023-12-11T19:06:22.138801Z"
    }
   },
   "outputs": [
    {
     "name": "stderr",
     "output_type": "stream",
     "text": [
      "/Users/peppe212/anaconda3/envs/distributed_data_analysis/lib/python3.11/site-packages/pyspark/sql/context.py:157: FutureWarning: Deprecated in 3.0.0. Use SparkSession.builder.getOrCreate() instead.\n",
      "  warnings.warn(\n"
     ]
    },
    {
     "name": "stdout",
     "output_type": "stream",
     "text": [
      "Area Under ROC: 0.9693587079584068\n",
      "Accuracy: 0.9785664386663903\n",
      "Precision: 0.9785359092290496\n",
      "Recall: 0.9785664386663903\n",
      "F1 Score: 0.9782148783792506\n"
     ]
    },
    {
     "name": "stderr",
     "output_type": "stream",
     "text": [
      "                                                                                \r"
     ]
    },
    {
     "name": "stdout",
     "output_type": "stream",
     "text": [
      "Confusion Matrix:\n",
      "          Predicted: 0 Predicted: 1\n",
      "Actual: 0   TN: 427506.0      FP: 1963.0\n",
      "Actual: 1   FN: 9205.0      TP: 82378.0\n"
     ]
    },
    {
     "name": "stderr",
     "output_type": "stream",
     "text": [
      "[Stage 165:=======>                                                 (1 + 7) / 8]\r"
     ]
    },
    {
     "name": "stdout",
     "output_type": "stream",
     "text": [
      "UPDATED Confusion Matrix with new probability Threshold = 0.3:\n",
      "          Predicted: 0 Predicted: 1\n",
      "Actual: 0   TN: 426997.0      FP: 2472.0\n",
      "Actual: 1   FN: 8864.0      TP: 82719.0\n",
      "This approach is useful when positive class is very imbalanced\n"
     ]
    },
    {
     "name": "stderr",
     "output_type": "stream",
     "text": [
      "                                                                                \r"
     ]
    }
   ],
   "source": [
    "# ora che il preprocessing è terminato, il dataframe è pronto per essere utilizzato dai modelli di ml\n",
    "# INIZIAMO LA CLASSIFICAZIONE UTILIZZANDO UN SINGOLO DECISION TREE:\n",
    "\n",
    "# Variabile target\n",
    "target = 'class'\n",
    "\n",
    "# Divisione del dataset Paretica: 80% training e 20% test\n",
    "train_data, test_data = df_final.randomSplit([0.8, 0.2], seed=42)\n",
    "\n",
    "# Creazione del Decision Tree Classifier\n",
    "dt = DecisionTreeClassifier(featuresCol='features', labelCol=target,)\n",
    "\n",
    "# Creazione della ParamGrid per la Cross Validation\n",
    "# Se aggiungo parametri alle liste della griglia, ottengo il classico Connection Refused (la macchina non ce la fa...)\n",
    "# Cioè termino le risorse della macchina e va tutto in blocco.\n",
    "dtparamGrid = (ParamGridBuilder()\n",
    "               .addGrid(dt.impurity, ['gini']) # ['gini', 'entropy']\n",
    "               .addGrid(dt.maxDepth, [5]) # [5, 10, 15, 20, 30, 50]\n",
    "               .addGrid(dt.maxBins, [32]) # [16, 32, 64, 128]\n",
    "               .addGrid(dt.minInstancesPerNode, [3]) # [1, 2, 3, 5, 7]\n",
    "               .addGrid(dt.minInfoGain, [0.0]) # [0.0, 0.1, 0.3]\n",
    "               .addGrid(dt.minWeightFractionPerNode, [0])\n",
    "               .addGrid(dt.maxMemoryInMB, [256]) # [256, 512, 1024, 2048, 4096]\n",
    "               .addGrid(dt.cacheNodeIds, [False]) # [True, False]\n",
    "               .addGrid(dt.seed, [42])\n",
    "               .build())\n",
    "\n",
    "# Valutatore per la Cross Validation\n",
    "dtcvEvaluator = BinaryClassificationEvaluator(labelCol=target, \n",
    "                                              rawPredictionCol=\"probability\", \n",
    "                                              metricName=\"areaUnderROC\")\n",
    "\n",
    "# Creazione del CrossValidator\n",
    "dtcv = CrossValidator(estimator=dt,\n",
    "                      estimatorParamMaps=dtparamGrid,\n",
    "                      evaluator=dtcvEvaluator,\n",
    "                      seed=42,\n",
    "                      parallelism=1,\n",
    "                      numFolds=4)\n",
    "\n",
    "# Addestramento del modello con la Cross Validation\n",
    "dtcvModel = dtcv.fit(train_data)\n",
    "\n",
    "# Previsioni sul test set\n",
    "predictions = dtcvModel.transform(test_data)\n",
    "\n",
    "# Valutazione del modello\n",
    "auc_ = dtcvEvaluator.evaluate(predictions)\n",
    "# print(\"Area Under ROC: \", auc_)\n",
    "\n",
    "# Valutazione aggiuntiva con MulticlassClassificationEvaluator\n",
    "multi_evaluator = MulticlassClassificationEvaluator(labelCol=target, predictionCol=\"prediction\")\n",
    "accuracy = multi_evaluator.evaluate(predictions, {multi_evaluator.metricName: \"accuracy\"})\n",
    "precision = multi_evaluator.evaluate(predictions, {multi_evaluator.metricName: \"weightedPrecision\"})\n",
    "recall = multi_evaluator.evaluate(predictions, {multi_evaluator.metricName: \"weightedRecall\"})\n",
    "f1 = multi_evaluator.evaluate(predictions, {multi_evaluator.metricName: \"f1\"})\n",
    "\n",
    "# Output delle metriche aggiuntive\n",
    "print(f\"Area Under ROC: {auc_}\\nAccuracy: {accuracy}\\nPrecision: {precision}\\nRecall: {recall}\\nF1 Score: {f1}\")\n",
    "\n",
    "# Calcolo della matrice di confusione\n",
    "predictionAndLabels = predictions.select(\"prediction\", target).rdd.map(lambda x: (float(x[0]), float(x[1])))\n",
    "metrics = MulticlassMetrics(predictionAndLabels)\n",
    "confusion_matrix = metrics.confusionMatrix().toArray()\n",
    "\n",
    "# Estrazione dei valori dalla matrice di confusione\n",
    "tn, fp, fn, tp = confusion_matrix.ravel()\n",
    "\n",
    "# Stampa della matrice di confusione\n",
    "print(f\"Confusion Matrix:\")\n",
    "print(f\"          Predicted: 0 Predicted: 1\")\n",
    "print(f\"Actual: 0   TN: {tn}      FP: {fp}\")\n",
    "print(f\"Actual: 1   FN: {fn}      TP: {tp}\")\n",
    "\n",
    "# Nuova soglia di probabilità\n",
    "# Tale soglia viene utilizzata per aumentare la quantità di FN rilevati e migliorare\n",
    "# l'efficienza del classificatore\n",
    "new_probability_threshold = 0.3\n",
    "\n",
    "# UDF per estrarre la probabilità della classe positiva\n",
    "def extract_prob(value):\n",
    "    return float(value[1])\n",
    "\n",
    "# specifico che la funzione definita dall'utente (udf) \n",
    "# restituirà un valore in virgola mobile e non un intero\n",
    "extract_prob_udf = udf(extract_prob, DoubleType()) \n",
    "\n",
    "# Applicazione della nuova soglia di probabilità\n",
    "new_predictions = predictions.withColumn('new_prediction', extract_prob_udf(col('probability')) >= new_probability_threshold)\n",
    "new_predictions = new_predictions.withColumn('new_prediction', col('new_prediction').cast('double'))\n",
    "\n",
    "# Calcolo della nuova matrice di confusione\n",
    "new_predictionAndLabels = new_predictions.select(\"new_prediction\", target).rdd.map(lambda x: (x[0], x[1]))\n",
    "new_metrics = MulticlassMetrics(new_predictionAndLabels)\n",
    "new_confusion_matrix = new_metrics.confusionMatrix().toArray()\n",
    "\n",
    "# Estrazione dei valori dalla nuova matrice di confusione\n",
    "new_tn, new_fp, new_fn, new_tp = new_confusion_matrix.ravel()\n",
    "\n",
    "print(f\"UPDATED Confusion Matrix with new probability Threshold = {new_probability_threshold}:\")\n",
    "print(f\"          Predicted: 0 Predicted: 1\")\n",
    "print(f\"Actual: 0   TN: {new_tn}      FP: {new_fp}\")\n",
    "print(f\"Actual: 1   FN: {new_fn}      TP: {new_tp}\")\n",
    "print(f\"This approach is useful when positive class is very imbalanced\")\n",
    "\n",
    "\n",
    "# abbassando la soglia di probabilità  abbiamo migliorato il classificatore \n",
    "# infatti si è ridotto il totale di falsi negativi, il che è di cruciale importanza."
   ]
  },
  {
   "cell_type": "code",
   "execution_count": 20,
   "id": "1525510113315ce1",
   "metadata": {
    "ExecuteTime": {
     "end_time": "2023-12-11T19:07:48.236653Z",
     "start_time": "2023-12-11T19:07:48.230353Z"
    }
   },
   "outputs": [
    {
     "name": "stdout",
     "output_type": "stream",
     "text": [
      "DecisionTreeClassificationModel: uid=DecisionTreeClassifier_5ac8543a306d, depth=5, numNodes=41, numClasses=2, numFeatures=19\n",
      "  If (feature 10 <= -1.1221122261784475)\n",
      "   If (feature 9 <= 0.716696959741318)\n",
      "    Predict: 1.0\n",
      "   Else (feature 9 > 0.716696959741318)\n",
      "    If (feature 15 <= 1.5700413360161598)\n",
      "     If (feature 15 <= 1.4161862577767224)\n",
      "      If (feature 5 in {1.0})\n",
      "       Predict: 1.0\n",
      "      Else (feature 5 not in {1.0})\n",
      "       Predict: 0.0\n",
      "     Else (feature 15 > 1.4161862577767224)\n",
      "      If (feature 10 <= -1.449408895506168)\n",
      "       Predict: 0.0\n",
      "      Else (feature 10 > -1.449408895506168)\n",
      "       Predict: 1.0\n",
      "    Else (feature 15 > 1.5700413360161598)\n",
      "     If (feature 14 <= 1.0119643269431955)\n",
      "      If (feature 16 <= 0.4168702989684304)\n",
      "       Predict: 1.0\n",
      "      Else (feature 16 > 0.4168702989684304)\n",
      "       Predict: 0.0\n",
      "     Else (feature 14 > 1.0119643269431955)\n",
      "      Predict: 1.0\n",
      "  Else (feature 10 > -1.1221122261784475)\n",
      "   If (feature 1 in {1.0})\n",
      "    If (feature 15 <= 1.4161862577767224)\n",
      "     If (feature 9 <= 2.008355868418306)\n",
      "      If (feature 15 <= 1.1786469833837712)\n",
      "       Predict: 0.0\n",
      "      Else (feature 15 > 1.1786469833837712)\n",
      "       Predict: 1.0\n",
      "     Else (feature 9 > 2.008355868418306)\n",
      "      Predict: 0.0\n",
      "    Else (feature 15 > 1.4161862577767224)\n",
      "     If (feature 11 <= 0.9154453352204359)\n",
      "      Predict: 1.0\n",
      "     Else (feature 11 > 0.9154453352204359)\n",
      "      If (feature 15 <= 1.5700413360161598)\n",
      "       Predict: 0.0\n",
      "      Else (feature 15 > 1.5700413360161598)\n",
      "       Predict: 1.0\n",
      "   Else (feature 1 not in {1.0})\n",
      "    If (feature 0 in {1.0})\n",
      "     If (feature 15 <= 1.2687683430956185)\n",
      "      If (feature 5 in {1.0})\n",
      "       Predict: 1.0\n",
      "      Else (feature 5 not in {1.0})\n",
      "       Predict: 0.0\n",
      "     Else (feature 15 > 1.2687683430956185)\n",
      "      If (feature 9 <= 2.348824213952123)\n",
      "       Predict: 1.0\n",
      "      Else (feature 9 > 2.348824213952123)\n",
      "       Predict: 0.0\n",
      "    Else (feature 0 not in {1.0})\n",
      "     If (feature 2 in {1.0})\n",
      "      If (feature 15 <= 1.2687683430956185)\n",
      "       Predict: 0.0\n",
      "      Else (feature 15 > 1.2687683430956185)\n",
      "       Predict: 1.0\n",
      "     Else (feature 2 not in {1.0})\n",
      "      Predict: 1.0\n"
     ]
    }
   ],
   "source": [
    "# Usando Spark plottiamo l'albero di decisione testuale\n",
    "\n",
    "# Ottenere il miglior modello dal CrossValidator\n",
    "best_model = dtcvModel.bestModel\n",
    "\n",
    "# Ottenere la rappresentazione in stringa dell'albero di decisione\n",
    "treeString = best_model.toDebugString\n",
    "print(treeString)\n",
    "\n",
    "\n",
    "# vediamo il decision tree come una serie di if-then-else clauses\n",
    "# la cosa positiva è che l'albero consta solo di 5 livelli (max_depth = 5 nel pre-pruning) e 41 nodi \n",
    "# ha utilizzato gran parte degli attributi predictors e, il fatto che non sia molto complesso a livello di struttura, \n",
    "# significa che non ha overfittato l'insieme di training e non si è quindi adattato \n",
    "# a caratteristiche intrinseche che impediscono di generalizzare bene come il rumore nei dati..."
   ]
  },
  {
   "cell_type": "code",
   "execution_count": 21,
   "outputs": [
    {
     "data": {
      "text/plain": "'images/classification/decisionTree_graphviz.png'"
     },
     "execution_count": 21,
     "metadata": {},
     "output_type": "execute_result"
    }
   ],
   "source": [
    "# Creazione manuale dell'albero decisionale in formato DOT\n",
    "decision_tree_dot = \"\"\"\n",
    "digraph Tree {\n",
    "node [shape=box] ;\n",
    "0 [label=\"feature 10 <= -0.971\"] ;\n",
    "1 [label=\"feature 9 <= 0.713\"] ;\n",
    "0 -> 1 [label=\"yes\"] ;\n",
    "2 [label=\"feature 1 in {1.0}\"] ;\n",
    "1 -> 2 [label=\"yes\"] ;\n",
    "3 [label=\"feature 12 <= 2.526\"] ;\n",
    "2 -> 3 [label=\"yes\"] ;\n",
    "4 [label=\"Predict: 1.0\"] ;\n",
    "3 -> 4 [label=\"yes\"] ;\n",
    "5 [label=\"feature 15 <= 1.175\"] ;\n",
    "3 -> 5 [label=\"no\"] ;\n",
    "6 [label=\"Predict: 0.0\"] ;\n",
    "5 -> 6 [label=\"yes\"] ;\n",
    "7 [label=\"Predict: 1.0\"] ;\n",
    "5 -> 7 [label=\"no\"] ;\n",
    "8 [label=\"Predict: 1.0\"] ;\n",
    "2 -> 8 [label=\"no\"] ;\n",
    "9 [label=\"feature 9 > 0.713\"] ;\n",
    "0 -> 9 [label=\"no\"] ;\n",
    "10 [label=\"feature 15 <= 1.571\"] ;\n",
    "9 -> 10 [label=\"yes\"] ;\n",
    "11 [label=\"feature 15 <= 1.415\"] ;\n",
    "10 -> 11 [label=\"yes\"] ;\n",
    "12 [label=\"Predict: 0.0\"] ;\n",
    "11 -> 12 [label=\"yes\"] ;\n",
    "13 [label=\"feature 10 <= -1.448\"] ;\n",
    "11 -> 13 [label=\"no\"] ;\n",
    "14 [label=\"Predict: 0.0\"] ;\n",
    "13 -> 14 [label=\"yes\"] ;\n",
    "15 [label=\"Predict: 1.0\"] ;\n",
    "13 -> 15 [label=\"no\"] ;\n",
    "16 [label=\"feature 15 > 1.571\"] ;\n",
    "10 -> 16 [label=\"no\"] ;\n",
    "17 [label=\"feature 14 <= 0.979\"] ;\n",
    "16 -> 17 [label=\"yes\"] ;\n",
    "18 [label=\"feature 16 <= 0.417\"] ;\n",
    "17 -> 18 [label=\"yes\"] ;\n",
    "19 [label=\"Predict: 1.0\"] ;\n",
    "18 -> 19 [label=\"yes\"] ;\n",
    "20 [label=\"Predict: 0.0\"] ;\n",
    "18 -> 20 [label=\"no\"] ;\n",
    "21 [label=\"Predict: 1.0\"] ;\n",
    "17 -> 21 [label=\"no\"] ;\n",
    "22 [label=\"feature 10 > -0.971\"] ;\n",
    "0 -> 22 [label=\"no\"] ;\n",
    "23 [label=\"feature 1 in {1.0}\"] ;\n",
    "22 -> 23 [label=\"yes\"] ;\n",
    "24 [label=\"feature 15 <= 1.415\"] ;\n",
    "23 -> 24 [label=\"yes\"] ;\n",
    "25 [label=\"feature 9 <= 2.008\"] ;\n",
    "24 -> 25 [label=\"yes\"] ;\n",
    "26 [label=\"feature 15 <= 1.175\"] ;\n",
    "25 -> 26 [label=\"yes\"] ;\n",
    "27 [label=\"Predict: 0.0\"] ;\n",
    "26 -> 27 [label=\"yes\"] ;\n",
    "28 [label=\"Predict: 1.0\"] ;\n",
    "26 -> 28 [label=\"no\"] ;\n",
    "29 [label=\"Predict: 0.0\"] ;\n",
    "25 -> 29 [label=\"no\"] ;\n",
    "30 [label=\"feature 15 > 1.415\"] ;\n",
    "24 -> 30 [label=\"no\"] ;\n",
    "31 [label=\"feature 11 <= 1.442\"] ;\n",
    "30 -> 31 [label=\"yes\"] ;\n",
    "32 [label=\"Predict: 1.0\"] ;\n",
    "31 -> 32 [label=\"yes\"] ;\n",
    "33 [label=\"feature 15 <= 1.571\"] ;\n",
    "31 -> 33 [label=\"no\"] ;\n",
    "34 [label=\"Predict: 0.0\"] ;\n",
    "33 -> 34 [label=\"yes\"] ;\n",
    "35 [label=\"Predict: 1.0\"] ;\n",
    "33 -> 35 [label=\"no\"] ;\n",
    "36 [label=\"feature 1 not in {1.0}\"] ;\n",
    "22 -> 36 [label=\"no\"] ;\n",
    "37 [label=\"feature 0 in {1.0}\"] ;\n",
    "36 -> 37 [label=\"yes\"] ;\n",
    "38 [label=\"feature 15 <= 1.263\"] ;\n",
    "37 -> 38 [label=\"yes\"] ;\n",
    "39 [label=\"feature 16 <= 0.480\"] ;\n",
    "38 -> 39 [label=\"yes\"] ;\n",
    "40 [label=\"Predict: 0.0\"] ;\n",
    "39 -> 40 [label=\"yes\"] ;\n",
    "41 [label=\"Predict: 1.0\"] ;\n",
    "39 -> 41 [label=\"no\"] ;\n",
    "42 [label=\"Predict: 1.0\"] ;\n",
    "38 -> 42 [label=\"no\"] ;\n",
    "43 [label=\"Predict: 1.0\"] ;\n",
    "37 -> 43 [label=\"no\"] ;\n",
    "44 [label=\"Predict: 1.0\"] ;\n",
    "36 -> 44 [label=\"no\"] ;\n",
    "}\n",
    "\"\"\"\n",
    "\n",
    "# Renderizza e salva in un file l'albero decisionale\n",
    "graph = graphviz.Source(decision_tree_dot)\n",
    "graph.render(images_path + \"decisionTree_graphviz\", format='png', cleanup=True)\n"
   ],
   "metadata": {
    "collapsed": false,
    "ExecuteTime": {
     "end_time": "2023-12-11T19:07:49.470380Z",
     "start_time": "2023-12-11T19:07:48.238306Z"
    }
   },
   "id": "774198a05650ff6d"
  },
  {
   "cell_type": "code",
   "execution_count": 22,
   "id": "de4c16a01c74f94",
   "metadata": {
    "ExecuteTime": {
     "end_time": "2023-12-11T19:07:56.904530Z",
     "start_time": "2023-12-11T19:07:49.473484Z"
    }
   },
   "outputs": [
    {
     "name": "stderr",
     "output_type": "stream",
     "text": [
      "                                                                                \r"
     ]
    },
    {
     "data": {
      "text/plain": "<Figure size 640x480 with 1 Axes>",
      "image/png": "[encoded data removed]"
     },
     "metadata": {},
     "output_type": "display_data"
    }
   ],
   "source": [
    "# CALCOLO E VISUALIZZO LA ROC CURVE\n",
    "\n",
    "# Seleziono le probabilità e la variabile target dal dataframe delle previsioni\n",
    "results = predictions.select(['probability', target])\n",
    "\n",
    "# Preparazione del set di punteggio-etichetta\n",
    "results_collect = results.collect()\n",
    "results_list = [(float(i[0][1]), float(i[1])) for i in results_collect]\n",
    "\n",
    "# Creazione delle liste per test e punteggio\n",
    "y_test = [i[1] for i in results_list]\n",
    "y_score = [i[0] for i in results_list]\n",
    "\n",
    "# Calcolo della curva ROC e AUC\n",
    "fpr, tpr, _ = roc_curve(y_test, y_score)\n",
    "roc_auc = auc(fpr, tpr)\n",
    "\n",
    "# Visualizzazione della curva ROC\n",
    "plt.figure()\n",
    "# lw è la larghezza della linea\n",
    "plt.plot(fpr, tpr, label='ROC curve (area = %0.6f)' % roc_auc, lw=3)  \n",
    "plt.plot([0, 1], [0, 1], 'k--', lw=2)  \n",
    "plt.xlim([0.0, 1.0])\n",
    "plt.ylim([0.0, 1.05])\n",
    "plt.xlabel('False Positive Rate')\n",
    "plt.ylabel('True Positive Rate')\n",
    "plt.title('Area under the ROC Curve')\n",
    "plt.legend(loc=\"lower right\")\n",
    "plt.savefig(images_path + 'DecisionTree_ROC_Curve.png')  \n",
    "plt.show()\n"
   ]
  },
  {
   "cell_type": "markdown",
   "id": "f7b2111ec2e0089",
   "metadata": {},
   "source": [
    "### RANDOM FOREST CLASSIFIER"
   ]
  },
  {
   "cell_type": "code",
   "execution_count": 23,
   "id": "89ffb2f93f253743",
   "metadata": {
    "ExecuteTime": {
     "end_time": "2023-12-11T19:09:47.206156Z",
     "start_time": "2023-12-11T19:07:56.910623Z"
    }
   },
   "outputs": [
    {
     "name": "stderr",
     "output_type": "stream",
     "text": [
      "/Users/peppe212/anaconda3/envs/distributed_data_analysis/lib/python3.11/site-packages/pyspark/sql/context.py:157: FutureWarning: Deprecated in 3.0.0. Use SparkSession.builder.getOrCreate() instead.\n",
      "  warnings.warn(\n"
     ]
    },
    {
     "name": "stdout",
     "output_type": "stream",
     "text": [
      "Best Model Metrics:\n",
      "Best Model Area Under ROC: 0.991484542256893\n",
      "Accuracy: 0.9834795759348395\n",
      "Precision: 0.9835176600303681\n",
      "Recall: 0.9834795759348395\n",
      "F1 Score: 0.9832477448087142\n"
     ]
    },
    {
     "name": "stderr",
     "output_type": "stream",
     "text": [
      "                                                                                \r"
     ]
    },
    {
     "name": "stdout",
     "output_type": "stream",
     "text": [
      "Confusion Matrix for Best Model:\n",
      "          Predicted: 0 Predicted: 1\n",
      "Actual: 0   TN: 428286.0      FP: 1183.0\n",
      "Actual: 1   FN: 7425.0      TP: 84158.0\n"
     ]
    },
    {
     "name": "stderr",
     "output_type": "stream",
     "text": [
      "                                                                                \r"
     ]
    },
    {
     "name": "stdout",
     "output_type": "stream",
     "text": [
      "UPDATED Confusion Matrix with new probability Threshold = 0.3:\n",
      "          Predicted: 0 Predicted: 1\n",
      "Actual: 0   TN: 426011.0      FP: 3458.0\n",
      "Actual: 1   FN: 5368.0      TP: 86215.0\n",
      "This approach is useful when the positive class is very imbalanced\n"
     ]
    },
    {
     "name": "stderr",
     "output_type": "stream",
     "text": [
      "                                                                                \r"
     ]
    },
    {
     "data": {
      "text/plain": "<Figure size 640x480 with 1 Axes>",
      "image/png": "[encoded data removed]"
     },
     "metadata": {},
     "output_type": "display_data"
    }
   ],
   "source": [
    "target = 'class'  \n",
    "train_data, test_data = df_final.randomSplit([0.8, 0.2], seed=42)\n",
    "rf_classifier = RandomForestClassifier(featuresCol='features', labelCol=target)\n",
    "\n",
    "paramGrid = ParamGridBuilder() \\\n",
    "    .addGrid(rf_classifier.maxDepth, [10]) \\\n",
    "    .addGrid(rf_classifier.impurity, ['gini']) \\\n",
    "    .addGrid(rf_classifier.numTrees, [10]) \\\n",
    "    .addGrid(rf_classifier.bootstrap, [True]) \\\n",
    "    .addGrid(rf_classifier.featureSubsetStrategy, ['auto']) \\\n",
    "    .addGrid(rf_classifier.minInstancesPerNode, [50]) \\\n",
    "    .addGrid(rf_classifier.maxMemoryInMB, [256]) \\\n",
    "    .build()\n",
    "\n",
    "evaluator = BinaryClassificationEvaluator(labelCol=target, \n",
    "                                          rawPredictionCol=\"probability\", \n",
    "                                          metricName=\"areaUnderROC\")\n",
    "\n",
    "crossval = CrossValidator(estimator=rf_classifier,\n",
    "                          estimatorParamMaps=paramGrid,\n",
    "                          evaluator=evaluator,\n",
    "                          numFolds=4,\n",
    "                          seed=42)\n",
    "\n",
    "# Eseguo la cross-validation sul set di addestramento per trovare il miglior modello\n",
    "cv_model = crossval.fit(train_data)\n",
    "\n",
    "# Seleziono il miglior modello\n",
    "best_rf_model = cv_model.bestModel\n",
    "\n",
    "# Predizioni sul set di test utilizzando il miglior modello\n",
    "cv_predictions = best_rf_model.transform(test_data)\n",
    "\n",
    "\n",
    "cv_auc_score = evaluator.evaluate(cv_predictions)\n",
    "#print(\"Best Model Area Under ROC: \", cv_auc_score)\n",
    "\n",
    "# Utilizza MulticlassClassificationEvaluator per valutare precision, recall, e F1 score\n",
    "multi_evaluator = MulticlassClassificationEvaluator(labelCol=target, predictionCol=\"prediction\")\n",
    "cv_accuracy = multi_evaluator.evaluate(cv_predictions, {multi_evaluator.metricName: \"accuracy\"})\n",
    "cv_precision = multi_evaluator.evaluate(cv_predictions, {multi_evaluator.metricName: \"weightedPrecision\"})\n",
    "cv_recall = multi_evaluator.evaluate(cv_predictions, {multi_evaluator.metricName: \"weightedRecall\"})\n",
    "cv_f1 = multi_evaluator.evaluate(cv_predictions, {multi_evaluator.metricName: \"f1\"})\n",
    "\n",
    "print(f\"Best Model Metrics:\")\n",
    "print(f\"Best Model Area Under ROC: {cv_auc_score}\\nAccuracy: {cv_accuracy}\\nPrecision: {cv_precision}\\nRecall: {cv_recall}\\nF1 Score: {cv_f1}\")\n",
    "\n",
    "cv_predictionAndLabels = cv_predictions.select(\"prediction\", target).rdd.map(lambda x: (float(x[0]), float(x[1])))\n",
    "cv_metrics = MulticlassMetrics(cv_predictionAndLabels)\n",
    "cv_confusion_matrix = cv_metrics.confusionMatrix().toArray()\n",
    "\n",
    "cv_tn, cv_fp, cv_fn, cv_tp = cv_confusion_matrix.ravel()\n",
    "print(f\"Confusion Matrix for Best Model:\")\n",
    "print(f\"          Predicted: 0 Predicted: 1\")\n",
    "print(f\"Actual: 0   TN: {cv_tn}      FP: {cv_fp}\")\n",
    "print(f\"Actual: 1   FN: {cv_fn}      TP: {cv_tp}\")\n",
    "\n",
    "new_prob_threshold = 0.3\n",
    "extract_prob_udf = udf(lambda value: float(value[1]), DoubleType())\n",
    "\n",
    "cv_predictions_with_new_threshold = cv_predictions.withColumn('new_prediction', extract_prob_udf(col('probability')) >= new_prob_threshold)\n",
    "cv_predictions_with_new_threshold = cv_predictions_with_new_threshold.withColumn('new_prediction', col('new_prediction').cast('double'))\n",
    "\n",
    "new_predictionAndLabels = cv_predictions_with_new_threshold.select(\"new_prediction\", target).rdd.map(lambda x: (x[0], x[1]))\n",
    "new_metrics = MulticlassMetrics(new_predictionAndLabels)\n",
    "new_confusion_matrix = new_metrics.confusionMatrix().toArray()\n",
    "\n",
    "new_tn, new_fp, new_fn, new_tp = new_confusion_matrix.ravel()\n",
    "\n",
    "print(f\"UPDATED Confusion Matrix with new probability Threshold = {new_prob_threshold}:\")\n",
    "print(f\"          Predicted: 0 Predicted: 1\")\n",
    "print(f\"Actual: 0   TN: {new_tn}      FP: {new_fp}\")\n",
    "print(f\"Actual: 1   FN: {new_fn}      TP: {new_tp}\")\n",
    "print(f\"This approach is useful when the positive class is very imbalanced\")\n",
    "\n",
    "best_model_results = cv_predictions.select(['probability', target])\n",
    "best_model_results_collect = best_model_results.collect()\n",
    "best_model_results_list = [(float(i[0][1]), float(i[1])) for i in best_model_results_collect]\n",
    "y_test = [i[1] for i in best_model_results_list]\n",
    "y_score = [i[0] for i in best_model_results_list]\n",
    "\n",
    "fpr, tpr, _ = roc_curve(y_test, y_score)\n",
    "roc_auc = auc(fpr, tpr)\n",
    "\n",
    "plt.figure()\n",
    "plt.plot(fpr, tpr, label='ROC curve (area = %0.6f)' % roc_auc, lw=3)\n",
    "plt.plot([0, 1], [0, 1], 'k--', lw=2)\n",
    "plt.xlim([0.0, 1.0])\n",
    "plt.ylim([0.0, 1.05])\n",
    "plt.xlabel('False Positive Rate')\n",
    "plt.ylabel('True Positive Rate')\n",
    "plt.title('Area under the ROC Curve')\n",
    "plt.legend(loc=\"lower right\")\n",
    "plt.savefig(images_path + 'forest_ROC_curve.png')\n",
    "plt.show()\n"
   ]
  },
  {
   "cell_type": "code",
   "execution_count": 24,
   "id": "3e285b7ed1f4a85a",
   "metadata": {
    "ExecuteTime": {
     "end_time": "2023-12-11T19:09:47.709089Z",
     "start_time": "2023-12-11T19:09:47.205618Z"
    }
   },
   "outputs": [],
   "source": [
    "spark.stop()"
   ]
  },
  {
   "cell_type": "code",
   "execution_count": 24,
   "outputs": [],
   "source": [],
   "metadata": {
    "collapsed": false,
    "ExecuteTime": {
     "end_time": "2023-12-01T22:03:07.820556Z",
     "start_time": "2023-12-01T22:03:07.815607Z"
    }
   },
   "id": "ad44a5c73e1a366"
  }
 ],
 "metadata": {
  "kernelspec": {
   "display_name": "Python 3 (ipykernel)",
   "language": "python",
   "name": "python3"
  },
  "language_info": {
   "codemirror_mode": {
    "name": "ipython",
    "version": 3
   },
   "file_extension": ".py",
   "mimetype": "text/x-python",
   "name": "python",
   "nbconvert_exporter": "python",
   "pygments_lexer": "ipython3",
   "version": "3.11.5"
  }
 },
 "nbformat": 4,
 "nbformat_minor": 5
}
